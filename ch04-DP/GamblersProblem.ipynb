{
 "cells": [
  {
   "cell_type": "code",
   "execution_count": 1,
   "metadata": {
    "collapsed": true
   },
   "outputs": [],
   "source": [
    "import numpy as np"
   ]
  },
  {
   "cell_type": "code",
   "execution_count": 2,
   "metadata": {
    "collapsed": true
   },
   "outputs": [],
   "source": [
    "class Gamble:\n",
    "    def __init__(self, init_state):\n",
    "        self.state = init_state\n",
    "    \n",
    "    def reset(self, init_state):\n",
    "        self.state = init_state\n",
    "        \n",
    "    def step(self, action):\n",
    "        self.state += action * self.toss() ## Action: The amount of bet\n",
    "        done = False\n",
    "        if self.state >= 100:\n",
    "            reward = 1\n",
    "        else:\n",
    "            reward = 0\n",
    "        if self.state >= 100 or self.state <= 0:\n",
    "            done = True\n",
    "        return self.state, reward, done\n",
    "    \n",
    "    def toss(self,Ph=0.4, headValue=1, tailValue=-1):\n",
    "        \"\"\"\n",
    "        Description:\n",
    "            Head -> Wins, Tail -> Loses\n",
    "        Parameters:\n",
    "            Ph -> Probability of getting head in a coin toss\n",
    "        \"\"\"\n",
    "        random = np.random.random()\n",
    "        if random < 0.4:\n",
    "            return headValue\n",
    "        else:\n",
    "            return tailValue"
   ]
  },
  {
   "cell_type": "markdown",
   "metadata": {},
   "source": [
    "<img src=\"images/ValueIterationAlgorithm.jpeg\" width=700 height=350>"
   ]
  },
  {
   "cell_type": "code",
   "execution_count": 3,
   "metadata": {},
   "outputs": [],
   "source": [
    "class Gambler:\n",
    "    def __init__(self, credit):\n",
    "        self.V = np.zeros(101) # The Value of states {0, 1, 2, ..., 100}\n",
    "        self.capital = credit\n",
    "    def reset(self, credit):\n",
    "        self.capital = credit\n",
    "    def act(self):\n",
    "        return np.random.choice(100 - self.capital)\n",
    "    def value_iter_update(self):\n",
    "        pass"
   ]
  },
  {
   "cell_type": "code",
   "execution_count": 4,
   "metadata": {},
   "outputs": [
    {
     "name": "stdout",
     "output_type": "stream",
     "text": [
      "4 [(93, 0, False), (69, 0, False), (64, 0, False), (62, 0, False), (17, 0, False), (58, 0, False), (61, 0, False), (89, 0, False), (136, 1, True)]\n",
      "10 [(99, 0, False), (81, 0, False), (39, 0, False), (86, 0, False), (121, 1, True)]\n",
      "11 [(89, 0, False), (118, 1, True)]\n",
      "20 [(54, 0, False), (100, 1, True)]\n",
      "22 [(41, 0, False), (48, 0, False), (29, 0, False), (8, 0, False), (50, 0, False), (65, 0, False), (103, 1, True)]\n",
      "25 [(27, 0, False), (28, 0, False), (65, 0, False), (107, 1, True)]\n",
      "26 [(79, 0, False), (75, 0, False), (90, 0, False), (112, 1, True)]\n",
      "27 [(87, 0, False), (86, 0, False), (89, 0, False), (97, 0, False), (109, 1, True)]\n",
      "32 [(50, 0, False), (57, 0, False), (96, 0, False), (84, 0, False), (47, 0, False), (23, 0, False), (57, 0, False), (22, 0, False), (37, 0, False), (39, 0, False), (18, 0, False), (57, 0, False), (100, 1, True)]\n",
      "34 [(88, 0, False), (135, 1, True)]\n",
      "35 [(81, 0, False), (61, 0, False), (52, 0, False), (3, 0, False), (18, 0, False), (65, 0, False), (60, 0, False), (60, 0, False), (57, 0, False), (77, 0, False), (80, 0, False), (110, 1, True)]\n",
      "45 [(47, 0, False), (96, 0, False), (127, 1, True)]\n",
      "47 [(26, 0, False), (60, 0, False), (79, 0, False), (47, 0, False), (81, 0, False), (125, 1, True)]\n",
      "54 [(24, 0, False), (63, 0, False), (100, 1, True)]\n",
      "60 [(30, 0, False), (77, 0, False), (107, 1, True)]\n",
      "61 [(44, 0, False), (82, 0, False), (116, 1, True)]\n",
      "65 [(50, 0, False), (51, 0, False), (50, 0, False), (43, 0, False), (80, 0, False), (96, 0, False), (144, 1, True)]\n",
      "70 [(77, 0, False), (61, 0, False), (108, 1, True)]\n",
      "75 [(27, 0, False), (17, 0, False), (51, 0, False), (100, 1, True)]\n",
      "76 [(85, 0, False), (102, 1, True)]\n",
      "83 [(63, 0, False), (55, 0, False), (90, 0, False), (117, 1, True)]\n",
      "89 [(62, 0, False), (45, 0, False), (61, 0, False), (101, 1, True)]\n",
      "93 [(82, 0, False), (63, 0, False), (22, 0, False), (46, 0, False), (84, 0, False), (101, 1, True)]\n",
      "95 [(37, 0, False), (28, 0, False), (9, 0, False), (28, 0, False), (37, 0, False), (66, 0, False), (83, 0, False), (77, 0, False), (103, 1, True)]\n",
      "97 [(66, 0, False), (86, 0, False), (61, 0, False), (34, 0, False), (12, 0, False), (27, 0, False), (73, 0, False), (60, 0, False), (46, 0, False), (68, 0, False), (96, 0, False), (93, 0, False), (84, 0, False), (120, 1, True)]\n",
      "98 [(79, 0, False), (88, 0, False), (124, 1, True)]\n",
      "99 [(98, 0, False), (125, 1, True)]\n",
      "27\n"
     ]
    }
   ],
   "source": [
    "INIT_CREDIT = 50\n",
    "env = Gamble(INIT_CREDIT)\n",
    "player = Gambler(INIT_CREDIT)\n",
    "\n",
    "done = False\n",
    "episodes = 100\n",
    "wins = 0\n",
    "for i in range(episodes):\n",
    "    env.reset(INIT_CREDIT)\n",
    "    player.reset(INIT_CREDIT)\n",
    "    transition = []\n",
    "    done = False\n",
    "    while not done:\n",
    "        state, reward, done = env.step(player.act())\n",
    "        transition.append((state, reward, done))\n",
    "        if reward == 1:\n",
    "            print(i, transition)\n",
    "            wins += 1\n",
    "print(wins)"
   ]
  },
  {
   "cell_type": "code",
   "execution_count": null,
   "metadata": {
    "collapsed": true
   },
   "outputs": [],
   "source": []
  }
 ],
 "metadata": {
  "kernelspec": {
   "display_name": "Python 3",
   "language": "python",
   "name": "python3"
  },
  "language_info": {
   "codemirror_mode": {
    "name": "ipython",
    "version": 3
   },
   "file_extension": ".py",
   "mimetype": "text/x-python",
   "name": "python",
   "nbconvert_exporter": "python",
   "pygments_lexer": "ipython3",
   "version": "3.6.3"
  }
 },
 "nbformat": 4,
 "nbformat_minor": 2
}
