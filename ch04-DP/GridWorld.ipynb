{
 "cells": [
  {
   "cell_type": "code",
   "execution_count": 1,
   "metadata": {
    "collapsed": true
   },
   "outputs": [],
   "source": [
    "import numpy as np\n",
    "import matplotlib.pyplot as plt"
   ]
  },
  {
   "cell_type": "markdown",
   "metadata": {},
   "source": [
    "<img src=\"images/Sutton-p76-GridWorld.png\" width=800 height=400>"
   ]
  },
  {
   "cell_type": "code",
   "execution_count": 100,
   "metadata": {
    "collapsed": true
   },
   "outputs": [],
   "source": [
    "class GridWorld:\n",
    "    def __init__(self):\n",
    "        self.worldValues = np.random.rand(4,4)\n",
    "        self.worldValues[0,0] = 0\n",
    "        self.worldValues[3,3] = 0\n",
    "        self.currentState = int(np.random.rand()*8 + 2) ## The current state is randomly generated, but the world knows where you are\n",
    "        self.actions = [0, 1, 2, 3]\n",
    "        self.actionNames = {0:\"up\", 1:\"down\", 2:\"left\", 3:\"right\"}\n",
    "        \n",
    "    def step(self,action):\n",
    "        self.currentState = GridWorld.move(self.currentState, action)\n",
    "        if self.currentState == 0 or self.currentState == 15:\n",
    "            reward = 1\n",
    "        else:\n",
    "            reward = -1\n",
    "        return self.currentState, reward\n",
    "    @staticmethod\n",
    "    def state_nunmber(x,y):\n",
    "        position = x*4 + y\n",
    "        return position\n",
    "    @staticmethod\n",
    "    def state_coordinates(number):\n",
    "        y = number % 4\n",
    "        x = number // 4\n",
    "        return (x,y)\n",
    "    @staticmethod\n",
    "    def move(s,a):\n",
    "        x, y = GridWorld.state_coordinates(s)\n",
    "        if x == 0 and a == 0:\n",
    "            x = 0\n",
    "        elif x == 3 and a == 1:\n",
    "            x = 3\n",
    "        else:\n",
    "            if a == 0:\n",
    "                x = x - 1\n",
    "            elif a == 1:\n",
    "                x = x + 1\n",
    "        \n",
    "        if y == 0 and a == 2:\n",
    "            y = 0\n",
    "        elif y == 3 and a == 3:\n",
    "            y = 3\n",
    "        else:\n",
    "            if a == 2:\n",
    "                y = y - 1\n",
    "            elif a == 3:\n",
    "                y = y + 1\n",
    "        return GridWorld.state_nunmber(x,y)"
   ]
  },
  {
   "cell_type": "code",
   "execution_count": 101,
   "metadata": {},
   "outputs": [
    {
     "data": {
      "text/plain": [
       "array([[0.        , 0.12454637, 0.78917623, 0.58259316],\n",
       "       [0.91230278, 0.8808531 , 0.84652424, 0.48750094],\n",
       "       [0.71460922, 0.30097629, 0.17993482, 0.69798277],\n",
       "       [0.23942429, 0.10671344, 0.32802752, 0.        ]])"
      ]
     },
     "execution_count": 101,
     "metadata": {},
     "output_type": "execute_result"
    }
   ],
   "source": [
    "world = GridWorld()\n",
    "world.worldValues"
   ]
  },
  {
   "cell_type": "code",
   "execution_count": 102,
   "metadata": {},
   "outputs": [
    {
     "data": {
      "text/plain": [
       "4"
      ]
     },
     "execution_count": 102,
     "metadata": {},
     "output_type": "execute_result"
    }
   ],
   "source": [
    "world.currentState"
   ]
  },
  {
   "cell_type": "code",
   "execution_count": 104,
   "metadata": {},
   "outputs": [
    {
     "data": {
      "text/plain": [
       "(0, 1)"
      ]
     },
     "execution_count": 104,
     "metadata": {},
     "output_type": "execute_result"
    }
   ],
   "source": [
    "world.step(0)"
   ]
  },
  {
   "cell_type": "code",
   "execution_count": 106,
   "metadata": {
    "collapsed": true
   },
   "outputs": [],
   "source": [
    "class Agent:\n",
    "    def __init__(self):\n",
    "        pass\n",
    "    def action(): ## Implementing the equiprobable policy\n",
    "        return np.random.randint(4)"
   ]
  },
  {
   "cell_type": "markdown",
   "metadata": {},
   "source": [
    "<img src=\"images/Sutton-PolicyEvaluation.png\" width=800 height=400>>"
   ]
  },
  {
   "cell_type": "code",
   "execution_count": null,
   "metadata": {
    "collapsed": true
   },
   "outputs": [],
   "source": [
    "#def iterative_policy_evaluation():\n",
    "if __name__ == \"__main__\":\n",
    "    world = GridWorld()\n",
    "    agent = Agent()\n",
    "    theta = 0.001\n",
    "    delta = 1\n",
    "    while delta < theta:\n",
    "        delta = 0\n",
    "        "
   ]
  }
 ],
 "metadata": {
  "kernelspec": {
   "display_name": "Python 3",
   "language": "python",
   "name": "python3"
  },
  "language_info": {
   "codemirror_mode": {
    "name": "ipython",
    "version": 3
   },
   "file_extension": ".py",
   "mimetype": "text/x-python",
   "name": "python",
   "nbconvert_exporter": "python",
   "pygments_lexer": "ipython3",
   "version": "3.6.3"
  }
 },
 "nbformat": 4,
 "nbformat_minor": 2
}
