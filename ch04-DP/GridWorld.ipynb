{
 "cells": [
  {
   "cell_type": "code",
   "execution_count": 1,
   "metadata": {
    "collapsed": true
   },
   "outputs": [],
   "source": [
    "import numpy as np\n",
    "import matplotlib.pyplot as plt"
   ]
  },
  {
   "cell_type": "markdown",
   "metadata": {},
   "source": [
    "<img src=\"images/Sutton-p76-GridWorld.png\" width=800 height=400>"
   ]
  },
  {
   "cell_type": "code",
   "execution_count": 2,
   "metadata": {
    "collapsed": true
   },
   "outputs": [],
   "source": [
    "class GridWorld:\n",
    "    def __init__(self):\n",
    "        self.worldValues = np.random.rand(4,4) * 5\n",
    "        # self.worldValues = np.zeros((4,4))\n",
    "        self.worldValues[0,0] = 0\n",
    "        self.worldValues[3,3] = 0\n",
    "        self.currentState = int(np.random.rand()*8 + 2) ## The current state is randomly generated, but the world knows where you are\n",
    "        self.actions = [0, 1, 2, 3]\n",
    "        self.actionNames = {0:\"up\", 1:\"down\", 2:\"left\", 3:\"right\"}\n",
    "        \n",
    "    def step(self,action):\n",
    "        self.currentState = GridWorld.move(self.currentState, action)\n",
    "        if self.currentState == 0 or self.currentState == 15:\n",
    "            reward = 1\n",
    "        else:\n",
    "            reward = -1\n",
    "        return self.currentState, reward\n",
    "    def get_value(self, state_no):\n",
    "        x, y = GridWorld.state_coordinates(state_no)\n",
    "        return self.worldValues[x,y]\n",
    "    def set_value(self, state_no, value):\n",
    "        x, y = GridWorld.state_coordinates(state_no)\n",
    "        self.worldValues[x,y] = value\n",
    "    \n",
    "    @staticmethod\n",
    "    def general_step(state, action):\n",
    "        new_state = GridWorld.move(state, action)\n",
    "        if new_state == 0 or new_state == 15:\n",
    "            reward = 1\n",
    "        else:\n",
    "            reward = -1\n",
    "        return new_state, reward\n",
    "    @staticmethod\n",
    "    def state_nunmber(x,y):\n",
    "        position = x*4 + y\n",
    "        return position\n",
    "    @staticmethod\n",
    "    def state_coordinates(number):\n",
    "        y = number % 4\n",
    "        x = number // 4\n",
    "        return (x,y)\n",
    "    @staticmethod\n",
    "    def move(s,a):\n",
    "        x, y = GridWorld.state_coordinates(s)\n",
    "        if x == 0 and a == 0: # Changing the x-coordinates\n",
    "            x = 0\n",
    "        elif x == 3 and a == 1:\n",
    "            x = 3\n",
    "        else:\n",
    "            if a == 0:\n",
    "                x = x - 1\n",
    "            elif a == 1:\n",
    "                x = x + 1\n",
    "        \n",
    "        if y == 0 and a == 2: # Changing the y-coordinates\n",
    "            y = 0\n",
    "        elif y == 3 and a == 3:\n",
    "            y = 3\n",
    "        else:\n",
    "            if a == 2:\n",
    "                y = y - 1\n",
    "            elif a == 3:\n",
    "                y = y + 1\n",
    "        return GridWorld.state_nunmber(x,y)"
   ]
  },
  {
   "cell_type": "code",
   "execution_count": 3,
   "metadata": {},
   "outputs": [
    {
     "data": {
      "text/plain": [
       "array([[0.        , 3.70626643, 3.41878999, 1.53163632],\n",
       "       [3.28896629, 0.74333504, 2.3919096 , 3.31015304],\n",
       "       [2.82659672, 2.46336645, 2.52188586, 2.52230582],\n",
       "       [2.81841048, 4.18407611, 2.01931692, 0.        ]])"
      ]
     },
     "execution_count": 3,
     "metadata": {},
     "output_type": "execute_result"
    }
   ],
   "source": [
    "world = GridWorld()\n",
    "world.worldValues"
   ]
  },
  {
   "cell_type": "code",
   "execution_count": 4,
   "metadata": {},
   "outputs": [
    {
     "data": {
      "text/plain": [
       "(0, 1)"
      ]
     },
     "execution_count": 4,
     "metadata": {},
     "output_type": "execute_result"
    }
   ],
   "source": [
    "GridWorld.general_step(1,2)"
   ]
  },
  {
   "cell_type": "code",
   "execution_count": 5,
   "metadata": {
    "collapsed": true
   },
   "outputs": [],
   "source": [
    "class Agent:\n",
    "    def __init__(self):\n",
    "        pass\n",
    "    def action(self): ## Implementing the equiprobable policy\n",
    "        return np.random.randint(4)\n",
    "    def policy(self):\n",
    "        return 0.25"
   ]
  },
  {
   "cell_type": "markdown",
   "metadata": {},
   "source": [
    "<img src=\"images/Sutton-PolicyEvaluation.png\" width=800 height=400>>"
   ]
  },
  {
   "cell_type": "code",
   "execution_count": 6,
   "metadata": {},
   "outputs": [],
   "source": [
    "def areDeltasLargerThanTheta(d, t, while_counter):\n",
    "    if while_counter < 2: ## Turning the while to a do..while loop\n",
    "        return True\n",
    "    for i in range(d.shape[0]):\n",
    "        if abs(d[i]) > abs(t):\n",
    "            return True\n",
    "    return False\n",
    "#def iterative_policy_evaluation():\n",
    "if __name__ == \"__main__\":\n",
    "    world = GridWorld()\n",
    "    agent = Agent()\n",
    "    theta = 1e-10 ## Every element in delta will be compared to this value\n",
    "    deltas = np.zeros(15) # [0, 0 ...]\n",
    "    while_count = 0\n",
    "    while areDeltasLargerThanTheta(deltas, theta, while_count):\n",
    "        deltas = np.zeros(15) # [0, 0 ...] Zeroing deltas every time\n",
    "        while_count+=1\n",
    "        for state in range(1,15):\n",
    "            v = world.get_value(state) ## v <- V(s)\n",
    "            new_v = 0\n",
    "            for action in range(len(world.actions)):                   ## Generating the \\sum \\pi(a|s)\n",
    "            #This is an undicounted update (no \\gamma)\n",
    "                new_s, r = GridWorld.general_step(state, action)       ## p(s',r | s,a) \n",
    "                new_v += agent.policy() * (r + world.get_value(new_s)) ## Adding the value of every action to the value of the state\n",
    "            world.set_value(state, new_v)                              ## V(s) <- Expression\n",
    "            deltas[state] = max(deltas[state], abs(new_v - v))         ## \\delta <- max(\\delta, |v - V(s)|)"
   ]
  },
  {
   "cell_type": "code",
   "execution_count": 7,
   "metadata": {},
   "outputs": [
    {
     "name": "stdout",
     "output_type": "stream",
     "text": [
      "Number of main loops: 273\n"
     ]
    },
    {
     "data": {
      "text/plain": [
       "array([[  0., -12., -18., -20.],\n",
       "       [-12., -16., -18., -18.],\n",
       "       [-18., -18., -16., -12.],\n",
       "       [-20., -18., -12.,   0.]])"
      ]
     },
     "execution_count": 7,
     "metadata": {},
     "output_type": "execute_result"
    }
   ],
   "source": [
    "print(\"Number of main loops:\", while_count)\n",
    "world.worldValues"
   ]
  },
  {
   "cell_type": "code",
   "execution_count": 8,
   "metadata": {},
   "outputs": [
    {
     "data": {
      "text/plain": [
       "array([0.00000000e+00, 6.01101391e-11, 8.64197602e-11, 9.51203560e-11,\n",
       "       6.01119154e-11, 7.37632178e-11, 8.00923772e-11, 7.91757770e-11,\n",
       "       8.64162075e-11, 8.00923772e-11, 6.75868250e-11, 5.04591924e-11,\n",
       "       9.51168033e-11, 7.91757770e-11, 5.04591924e-11])"
      ]
     },
     "execution_count": 8,
     "metadata": {},
     "output_type": "execute_result"
    }
   ],
   "source": [
    "deltas"
   ]
  }
 ],
 "metadata": {
  "kernelspec": {
   "display_name": "Python 3",
   "language": "python",
   "name": "python3"
  },
  "language_info": {
   "codemirror_mode": {
    "name": "ipython",
    "version": 3
   },
   "file_extension": ".py",
   "mimetype": "text/x-python",
   "name": "python",
   "nbconvert_exporter": "python",
   "pygments_lexer": "ipython3",
   "version": "3.6.3"
  }
 },
 "nbformat": 4,
 "nbformat_minor": 2
}
