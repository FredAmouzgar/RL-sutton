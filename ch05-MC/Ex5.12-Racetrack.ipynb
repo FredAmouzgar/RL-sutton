{
 "cells": [
  {
   "cell_type": "markdown",
   "metadata": {},
   "source": [
    "<img src=\"images/ex12-1.jpg\" width=500 height=1000>\n",
    "<img src=\"images/ex12-2.jpg\" width=500 height=1000>"
   ]
  },
  {
   "cell_type": "code",
   "execution_count": 1,
   "metadata": {},
   "outputs": [],
   "source": [
    "import gym\n",
    "import numpy as np\n",
    "import matplotlib.pyplot as plt\n",
    "import matplotlib.animation as animation\n",
    "\n",
    "class Race_Env(gym.Env):\n",
    "    def __init__(self, type_of_env=1):\n",
    "        ## Some useful properties\n",
    "        self.action_space = [(-1,-1),(-1,0),(0,-1),(0,1),(1,0),(1,1)]\n",
    "        self.reward_range = (-1,)\n",
    "        self.ims = []\n",
    "        \n",
    "        ## Init values\n",
    "        self._Vx = 0  # 0 < _Vx < 5\n",
    "        self._Vy = 0  # 0 < _Vy < 5\n",
    "        ## Env Signs\n",
    "        self.wall_sign = 1\n",
    "        self.start_sign = 2\n",
    "        self.endline_sign = 9\n",
    "        self.agent_sign = 5\n",
    "        ####\n",
    "        self.current_row = 0 # will assign them later\n",
    "        self.current_col = 0 # will assign them later\n",
    "        if type_of_env == 1:\n",
    "            w = self.wall_sign\n",
    "            s = self.start_sign\n",
    "            e = self.endline_sign\n",
    "            self.env_row = 32\n",
    "            self.env_col = 17\n",
    "            # Making the environment\n",
    "            self.env = np.zeros((self.env_row,self.env_col), dtype=np.int16)\n",
    "            ## Walls ##\n",
    "            self.env[0:3,0:2] = w\n",
    "            self.env[0,2] = w\n",
    "            self.env[3,0] = w\n",
    "            self.env[14:,0] = w\n",
    "            self.env[22:,1] = w\n",
    "            self.env[29:,2] = w\n",
    "            ##\n",
    "            self.env[6,10:] = w\n",
    "            self.env[7:,9:] = w\n",
    "            ###########\n",
    "            self.env[31, 3:9] = s # Setting the start\n",
    "            #####\n",
    "            self.env[0:6,16] = e # Setting the endline\n",
    "            ## Positioning the agent ##\n",
    "            self.current_row = 31\n",
    "            self.current_col = np.random.randint(6)+3\n",
    "            self.env[self.current_row, self.current_col] = self.agent_sign\n",
    "            ###########################\n",
    "        self.reward = -1\n",
    "    def step(self, action):\n",
    "        \"\"\" Summary or Description of the Function\n",
    "        \n",
    "        Parametes:\n",
    "        action (list): A list of action elements [Vx, Vy]\n",
    "        \n",
    "        Returns (tuple): A tuple of obs, reward, done\n",
    "        \"\"\"\n",
    "        \"\"\"\n",
    "        if action[0] > 1 or action[0] < -1 or action[1] > 1 or action[1] < -1:\n",
    "            raise Exception('Actions must be in [-1,1] interval. Action passed {}'.format(action))\n",
    "        self._Vx += action[0]\n",
    "        self._Vy += action[1]\n",
    "        \n",
    "        self.env[self.current_row,self.current_col] = 0\n",
    "        self.current_row -= 1\n",
    "        self.env[self.current_row,self.current_col] = self.agent_sign\n",
    "        \"\"\"\n",
    "        self.env[self.current_row, self.current_col] = 0\n",
    "        self.current_row -= 1\n",
    "        self.current_col += 0\n",
    "        self.env[self.current_row, self.current_col] = self.agent_sign\n",
    "        im = plt.imshow(self.env, animated=True)\n",
    "        self.ims.append([im])\n",
    "        \n",
    "    def render_text(self):\n",
    "        print(\"Wall={}, Start={}, Endline={}, Agent={}\".format(self.wall_sign, self.start_sign, self.endline_sign, self.agent_sign))\n",
    "        for x in range(self.env_row):\n",
    "            print(\"r{:2}\".format(x), end=\" \")\n",
    "            for y in range(self.env_col):\n",
    "                print(self.env[x,y],end=\"\")\n",
    "            print()\n",
    "    def render(self):\n",
    "        plt.axis(\"off\")\n",
    "        fig = plt.gcf()\n",
    "        #plt.imshow(self.env)\n",
    "        ani = animation.FuncAnimation(fig, self.ims, frames=200, interval=10000)\n",
    "        plt.show()\n",
    "        \n",
    "    def reset(self):\n",
    "        self.env[self.current_row, self.current_col] = 0 # Setting the current state to zero\n",
    "        #####\n",
    "        self.env[31, 3:9] = self.start_sign # Setting the start\n",
    "        #\n",
    "        self.env[0:6,16] = self.endline_sign # Setting the endline\n",
    "        #####\n",
    "        self.current_row = 31 # Positioning the agent in row 31\n",
    "        self.current_col = np.random.randint(6)+3 # Positioning the agent in a random available column\n",
    "        self.env[self.current_row, self.current_col] = self.agent_sign\n",
    "        self._Vx = 0  # Resetting velocities Vx\n",
    "        self._Vy = 0  # Vy\n",
    "#help(gym.Env)"
   ]
  },
  {
   "cell_type": "code",
   "execution_count": 2,
   "metadata": {},
   "outputs": [
    {
     "data": {
      "text/plain": [
       "[]"
      ]
     },
     "execution_count": 2,
     "metadata": {},
     "output_type": "execute_result"
    }
   ],
   "source": [
    "env = Race_Env()\n",
    "#env.render()\n",
    "env.ims"
   ]
  },
  {
   "cell_type": "code",
   "execution_count": 17,
   "metadata": {},
   "outputs": [
    {
     "name": "stderr",
     "output_type": "stream",
     "text": [
      "Traceback (most recent call last):\n",
      "  File \"/home/fred/anaconda3/lib/python3.8/site-packages/matplotlib/cbook/__init__.py\", line 196, in process\n",
      "    func(*args, **kwargs)\n",
      "  File \"/home/fred/anaconda3/lib/python3.8/site-packages/matplotlib/animation.py\", line 951, in _start\n",
      "    self._init_draw()\n",
      "  File \"/home/fred/anaconda3/lib/python3.8/site-packages/matplotlib/animation.py\", line 1743, in _init_draw\n",
      "    self._draw_frame(next(self.new_frame_seq()))\n",
      "  File \"/home/fred/anaconda3/lib/python3.8/site-packages/matplotlib/animation.py\", line 1766, in _draw_frame\n",
      "    self._drawn_artists = self._func(framedata, *self._args)\n",
      "TypeError: 'list' object is not callable\n"
     ]
    },
    {
     "data": {
      "image/png": "[encoded data removed]",
      "text/plain": [
       "<Figure size 432x288 with 1 Axes>"
      ]
     },
     "metadata": {
      "needs_background": "light"
     },
     "output_type": "display_data"
    }
   ],
   "source": [
    "#env.action_space\n",
    "env = Race_Env()\n",
    "%matplotlib inline\n",
    "for i in range(15):\n",
    "    env.step((2,1))\n",
    "    #time.sleep(1)\n",
    "env.render()"
   ]
  },
  {
   "cell_type": "code",
   "execution_count": 187,
   "metadata": {},
   "outputs": [
    {
     "data": {
      "text/plain": [
       "[<matplotlib.image.AxesImage at 0x7f086e7acd68>]"
      ]
     },
     "execution_count": 187,
     "metadata": {},
     "output_type": "execute_result"
    }
   ],
   "source": [
    "env.ims[1]"
   ]
  },
  {
   "cell_type": "markdown",
   "metadata": {},
   "source": [
    "# New Envirnment"
   ]
  },
  {
   "cell_type": "code",
   "execution_count": 43,
   "metadata": {},
   "outputs": [],
   "source": [
    "from collections import namedtuple, defaultdict\n",
    "import random\n",
    "import numpy as np\n",
    "from tqdm import tqdm\n",
    "\n",
    "%matplotlib inline\n",
    "import matplotlib.pyplot as plt"
   ]
  },
  {
   "cell_type": "code",
   "execution_count": 11,
   "metadata": {},
   "outputs": [],
   "source": [
    "MAX_SPEED = 4\n",
    "N_ACTIONS = 3  # number of actions along x and y: 0, 1, -1\n",
    "\n",
    "track1 = \"\"\"\n",
    "                  \n",
    "   XXXXXXXXXXXXXF \n",
    "  XXXXXXXXXXXXXXF \n",
    "  XXXXXXXXXXXXXXF \n",
    " XXXXXXXXXXXXXXXF \n",
    "XXXXXXXXXXXXXXXXF \n",
    "XXXXXXXXXXXXXXXXF \n",
    "XXXXXXXXXX        \n",
    "XXXXXXXXX         \n",
    "XXXXXXXXX         \n",
    "XXXXXXXXX         \n",
    "XXXXXXXXX         \n",
    "XXXXXXXXX         \n",
    "XXXXXXXXX         \n",
    "XXXXXXXXX         \n",
    " XXXXXXXX         \n",
    " XXXXXXXX         \n",
    " XXXXXXXX         \n",
    " XXXXXXXX         \n",
    " XXXXXXXX         \n",
    " XXXXXXXX         \n",
    " XXXXXXXX         \n",
    " XXXXXXXX         \n",
    "  XXXXXXX         \n",
    "  XXXXXXX         \n",
    "  XXXXXXX         \n",
    "  XXXXXXX         \n",
    "  XXXXXXX         \n",
    "  XXXXXXX         \n",
    "  XXXXXXX         \n",
    "   XXXXXX         \n",
    "   XXXXXX         \n",
    "   SSSSSS         \n",
    "\"\"\"\n",
    "track2 = \"\"\"\n",
    "                                 \n",
    "                XXXXXXXXXXXXXXXF \n",
    "             XXXXXXXXXXXXXXXXXXF \n",
    "            XXXXXXXXXXXXXXXXXXXF \n",
    "           XXXXXXXXXXXXXXXXXXXXF \n",
    "           XXXXXXXXXXXXXXXXXXXXF \n",
    "           XXXXXXXXXXXXXXXXXXXXF \n",
    "           XXXXXXXXXXXXXXXXXXXXF \n",
    "            XXXXXXXXXXXXXXXXXXXF \n",
    "             XXXXXXXXXXXXXXXXXXF \n",
    "              XXXXXXXXXXXXXXXX   \n",
    "              XXXXXXXXXXXXX      \n",
    "              XXXXXXXXXXXX       \n",
    "              XXXXXXXXXX         \n",
    "              XXXXXXXXX          \n",
    "             XXXXXXXXXX          \n",
    "            XXXXXXXXXXX          \n",
    "           XXXXXXXXXXXX          \n",
    "          XXXXXXXXXXXXX          \n",
    "         XXXXXXXXXXXXXX          \n",
    "        XXXXXXXXXXXXXXX          \n",
    "       XXXXXXXXXXXXXXXX          \n",
    "      XXXXXXXXXXXXXXXXX          \n",
    "     XXXXXXXXXXXXXXXXXX          \n",
    "    XXXXXXXXXXXXXXXXXXX          \n",
    "   XXXXXXXXXXXXXXXXXXXX          \n",
    "  XXXXXXXXXXXXXXXXXXXXX          \n",
    " XXXXXXXXXXXXXXXXXXXXXX          \n",
    "XXXXXXXXXXXXXXXXXXXXXXX          \n",
    "XXXXXXXXXXXXXXXXXXXXXXX          \n",
    "SSSSSSSSSSSSSSSSSSSSSSS          \n",
    "\"\"\""
   ]
  },
  {
   "cell_type": "code",
   "execution_count": 12,
   "metadata": {},
   "outputs": [
    {
     "ename": "NameError",
     "evalue": "name 'namedtuple' is not defined",
     "output_type": "error",
     "traceback": [
      "\u001b[0;31m------------------------------------------------\u001b[0m",
      "\u001b[0;31mNameError\u001b[0m      Traceback (most recent call last)",
      "\u001b[0;32m<ipython-input-12-df9340bfc8ad>\u001b[0m in \u001b[0;36m<module>\u001b[0;34m\u001b[0m\n\u001b[0;32m----> 1\u001b[0;31m \u001b[0mState\u001b[0m \u001b[0;34m=\u001b[0m \u001b[0mnamedtuple\u001b[0m\u001b[0;34m(\u001b[0m\u001b[0;34m'State'\u001b[0m\u001b[0;34m,\u001b[0m \u001b[0;34m[\u001b[0m\u001b[0;34m'x'\u001b[0m\u001b[0;34m,\u001b[0m \u001b[0;34m'y'\u001b[0m\u001b[0;34m,\u001b[0m \u001b[0;34m'vx'\u001b[0m\u001b[0;34m,\u001b[0m \u001b[0;34m'vy'\u001b[0m\u001b[0;34m]\u001b[0m\u001b[0;34m)\u001b[0m \u001b[0;31m# current position and speed\u001b[0m\u001b[0;34m\u001b[0m\u001b[0;34m\u001b[0m\u001b[0m\n\u001b[0m\u001b[1;32m      2\u001b[0m \u001b[0mAction\u001b[0m \u001b[0;34m=\u001b[0m \u001b[0mnamedtuple\u001b[0m\u001b[0;34m(\u001b[0m\u001b[0;34m'Action'\u001b[0m\u001b[0;34m,\u001b[0m \u001b[0;34m[\u001b[0m\u001b[0;34m'ax'\u001b[0m\u001b[0;34m,\u001b[0m \u001b[0;34m'ay'\u001b[0m\u001b[0;34m]\u001b[0m\u001b[0;34m)\u001b[0m \u001b[0;31m# acceleration along each component\u001b[0m\u001b[0;34m\u001b[0m\u001b[0;34m\u001b[0m\u001b[0m\n\u001b[1;32m      3\u001b[0m Transition = namedtuple('Transition', ['state1',\n\u001b[1;32m      4\u001b[0m                                        \u001b[0;34m'action'\u001b[0m\u001b[0;34m,\u001b[0m\u001b[0;34m\u001b[0m\u001b[0;34m\u001b[0m\u001b[0m\n\u001b[1;32m      5\u001b[0m                                        \u001b[0;34m'reward'\u001b[0m\u001b[0;34m,\u001b[0m\u001b[0;34m\u001b[0m\u001b[0;34m\u001b[0m\u001b[0m\n",
      "\u001b[0;31mNameError\u001b[0m: name 'namedtuple' is not defined"
     ]
    }
   ],
   "source": [
    "State = namedtuple('State', ['x', 'y', 'vx', 'vy']) # current position and speed\n",
    "Action = namedtuple('Action', ['ax', 'ay']) # acceleration along each component\n",
    "Transition = namedtuple('Transition', ['state1',\n",
    "                                       'action',\n",
    "                                       'reward',\n",
    "                                       'state2'])"
   ]
  },
  {
   "cell_type": "code",
   "execution_count": 13,
   "metadata": {},
   "outputs": [
    {
     "ename": "SyntaxError",
     "evalue": "invalid syntax (<ipython-input-13-5717e8e40913>, line 142)",
     "output_type": "error",
     "traceback": [
      "\u001b[0;36m  File \u001b[0;32m\"<ipython-input-13-5717e8e40913>\"\u001b[0;36m, line \u001b[0;32m142\u001b[0m\n\u001b[0;31m    track_image[]\u001b[0m\n\u001b[0m                ^\u001b[0m\n\u001b[0;31mSyntaxError\u001b[0m\u001b[0;31m:\u001b[0m invalid syntax\n"
     ]
    }
   ],
   "source": [
    "class Racetrack(object):\n",
    "    def __init__(self, track_str=track1):\n",
    "        rows = track_str.split('\\n')\n",
    "        rows = rows[1:-1] #  remove first and last rows\n",
    "        rows = rows[::-1] #  flip vertically so [0,0] corresponds to bottom left corner\n",
    "        cells = map(list, rows) #  convert rows of strings to rows of chars\n",
    "        self._track = np.array(list(cells))\n",
    "        \n",
    "        self._state = None\n",
    "        \n",
    "        # define all possible actions\n",
    "        self.actions = []\n",
    "        for ax in [-1, 0, 1]:\n",
    "            for ay in [-1, 0, 1]:\n",
    "                self.actions.append(Action(ax, ay))\n",
    "\n",
    "    def _track_cell(self, x, y):\n",
    "        max_y = self._track.shape[0] - 1\n",
    "        max_x = self._track.shape[1] - 1\n",
    "        \n",
    "        if x < 0 or x > max_x:\n",
    "            return ' '\n",
    "        if y < 0 or y > max_y:\n",
    "            return ' '\n",
    "        \n",
    "        return self._track[y, x]\n",
    "        \n",
    "    def _is_on_track(self, state):\n",
    "        assert state.vx <= MAX_SPEED\n",
    "        assert state.vx >= 0\n",
    "        assert state.vy <= MAX_SPEED\n",
    "        assert state.vy >= 0\n",
    "        \n",
    "        return self._track_cell(state.x, state.y) != ' '\n",
    "    def _has_finished(self, state):\n",
    "        return self._track_cell(state.x, state.y) == 'F'\n",
    "\n",
    "    def _transition(self, state, action):\n",
    "        # update speed\n",
    "        vx2 = state.vx + action.ax\n",
    "        vy2 = state.vy + action.ay\n",
    "        \n",
    "        vx2 = np.clip(vx2, 0, MAX_SPEED)\n",
    "        vy2 = np.clip(vy2, 0, MAX_SPEED)\n",
    "        \n",
    "        # keep the speed constant if both components are zero\n",
    "        if vx2 == 0 and vy2 == 0:\n",
    "            vx2, vy2 = state.vx, state.vy\n",
    "        \n",
    "        # advance car position\n",
    "        x2 = state.x + vx2\n",
    "        y2 = state.y + vy2\n",
    "        \n",
    "#         # additional random move\n",
    "#         if random.random() > 0.5:\n",
    "#             if random.random() > 0.5:\n",
    "#                 x2 += 1 # move right\n",
    "#             else:\n",
    "#                 y2 += 1 # move forward\n",
    "        collision_y = collision_x = False\n",
    "        # check and fix collisions along 'x'\n",
    "        while True:\n",
    "            s2 = State(x2, state.y, vx2, vy2)\n",
    "            if self._is_on_track(s2):\n",
    "                break\n",
    "            collision_x = True\n",
    "            x2 -= 1\n",
    "            vx2 = 1\n",
    "            assert x2 >= 0\n",
    "        \n",
    "        # check and fix collision along 'y'\n",
    "        while True:\n",
    "            s2 = State(x2, y2, vx2, vy2)\n",
    "            if self._is_on_track(s2):\n",
    "                break\n",
    "            collision_y = True\n",
    "            y2 -= 1\n",
    "            vy2 = 1\n",
    "            assert y2 >= 0\n",
    "            \n",
    "        if collision_y or collision_x:\n",
    "            r = -5\n",
    "        else:\n",
    "            r = -1\n",
    "\n",
    "        if state.x == x2 and state.y == y2:\n",
    "            # the car did not move\n",
    "            if collision_y:\n",
    "                x2 += 1\n",
    "            elif collision_x:\n",
    "                y2 += 1\n",
    "            else:\n",
    "                assert False, 'the car has to move'\n",
    "        \n",
    "        s2 = State(x2, y2, vx2, vy2)\n",
    "        assert self._is_on_track(s2)\n",
    "        \n",
    "        term = self._has_finished(s2)\n",
    "        \n",
    "        if term:\n",
    "            r = 0\n",
    "        self._state = s2\n",
    "        return r, s2, term\n",
    "\n",
    "    def reset(self):\n",
    "        max_x = self._track.shape[1]\n",
    "        while True:\n",
    "            x = random.randint(0, max_x)\n",
    "            vx = random.choice([0, 1])\n",
    "            vy = random.choice([0, 1])\n",
    "            if vx == 0 and vy == 0:\n",
    "                continue\n",
    "            s = State(x=x, y=0, vx=vx, vy=vy)\n",
    "            if self._is_on_track(s):\n",
    "                break\n",
    "        self._state = s\n",
    "        return s\n",
    "        \n",
    "    def step(self, action):\n",
    "        r, s2, term = self._transition(self._state, action)\n",
    "        self._state = s2\n",
    "        return s2, r, term, _\n",
    "    \n",
    "    def track_as_np(self):\n",
    "        _track = self._track\n",
    "        track_np = np.zeros_like(_track, dtype=int)\n",
    "        track_np[_track == 'S'] = 1\n",
    "        track_np[_track == 'X'] = 2\n",
    "        track_np[_track == 'F'] = 3\n",
    "        return track_np\n",
    "    def render(self):\n",
    "        t = self._track[::-1]\n",
    "        track_image = np.zeros(t.shape,dtype='float32')\n",
    "        for row in range(t.shape[0]):\n",
    "            for col in range(t.shape[1]):\n",
    "                if t[row,col] == 'S':\n",
    "                    track_image[row,col]=3\n",
    "                elif t[row,col] == 'X':\n",
    "                    track_image[row,col]=5\n",
    "                elif t[row,col] == 'F':\n",
    "                    track_image[row,col]=10\n",
    "        track_image[]\n",
    "        print(track_image)\n",
    "        plt.imshow(track_image)"
   ]
  },
  {
   "cell_type": "code",
   "execution_count": 14,
   "metadata": {},
   "outputs": [
    {
     "ename": "NameError",
     "evalue": "name 'Racetrack' is not defined",
     "output_type": "error",
     "traceback": [
      "\u001b[0;31m------------------------------------------------\u001b[0m",
      "\u001b[0;31mNameError\u001b[0m      Traceback (most recent call last)",
      "\u001b[0;32m<ipython-input-14-5d4c02bbeb54>\u001b[0m in \u001b[0;36m<module>\u001b[0;34m\u001b[0m\n\u001b[0;32m----> 1\u001b[0;31m \u001b[0menv\u001b[0m \u001b[0;34m=\u001b[0m \u001b[0mRacetrack\u001b[0m\u001b[0;34m(\u001b[0m\u001b[0mtrack1\u001b[0m\u001b[0;34m)\u001b[0m\u001b[0;34m\u001b[0m\u001b[0;34m\u001b[0m\u001b[0m\n\u001b[0m\u001b[1;32m      2\u001b[0m \u001b[0menv\u001b[0m\u001b[0;34m.\u001b[0m\u001b[0mreset\u001b[0m\u001b[0;34m(\u001b[0m\u001b[0;34m)\u001b[0m\u001b[0;34m\u001b[0m\u001b[0;34m\u001b[0m\u001b[0m\n\u001b[1;32m      3\u001b[0m \u001b[0menv\u001b[0m\u001b[0;34m.\u001b[0m\u001b[0mrender\u001b[0m\u001b[0;34m(\u001b[0m\u001b[0;34m)\u001b[0m\u001b[0;34m\u001b[0m\u001b[0;34m\u001b[0m\u001b[0m\n",
      "\u001b[0;31mNameError\u001b[0m: name 'Racetrack' is not defined"
     ]
    }
   ],
   "source": [
    "env = Racetrack(track1)\n",
    "env.reset()\n",
    "env.render()"
   ]
  },
  {
   "cell_type": "code",
   "execution_count": 99,
   "metadata": {},
   "outputs": [
    {
     "ename": "AttributeError",
     "evalue": "'list' object has no attribute 'ax'",
     "output_type": "error",
     "traceback": [
      "\u001b[0;31m---------------------------------------------------------------------------\u001b[0m",
      "\u001b[0;31mAttributeError\u001b[0m                            Traceback (most recent call last)",
      "\u001b[0;32m<ipython-input-99-197d2caf87f9>\u001b[0m in \u001b[0;36m<module>\u001b[0;34m()\u001b[0m\n\u001b[0;32m----> 1\u001b[0;31m \u001b[0menv\u001b[0m\u001b[0;34m.\u001b[0m\u001b[0mstep\u001b[0m\u001b[0;34m(\u001b[0m\u001b[0maction\u001b[0m\u001b[0;34m=\u001b[0m\u001b[0;34m[\u001b[0m\u001b[0;34m-\u001b[0m\u001b[0;36m1\u001b[0m\u001b[0;34m,\u001b[0m\u001b[0;36m1\u001b[0m\u001b[0;34m]\u001b[0m\u001b[0;34m)\u001b[0m\u001b[0;34m\u001b[0m\u001b[0;34m\u001b[0m\u001b[0m\n\u001b[0m\u001b[1;32m      2\u001b[0m \u001b[0menv\u001b[0m\u001b[0;34m.\u001b[0m\u001b[0mrender\u001b[0m\u001b[0;34m(\u001b[0m\u001b[0;34m)\u001b[0m\u001b[0;34m\u001b[0m\u001b[0;34m\u001b[0m\u001b[0m\n",
      "\u001b[0;32m<ipython-input-93-ff41d8b39ec6>\u001b[0m in \u001b[0;36mstep\u001b[0;34m(self, action)\u001b[0m\n\u001b[1;32m    117\u001b[0m \u001b[0;34m\u001b[0m\u001b[0m\n\u001b[1;32m    118\u001b[0m     \u001b[0;32mdef\u001b[0m \u001b[0mstep\u001b[0m\u001b[0;34m(\u001b[0m\u001b[0mself\u001b[0m\u001b[0;34m,\u001b[0m \u001b[0maction\u001b[0m\u001b[0;34m)\u001b[0m\u001b[0;34m:\u001b[0m\u001b[0;34m\u001b[0m\u001b[0;34m\u001b[0m\u001b[0m\n\u001b[0;32m--> 119\u001b[0;31m         \u001b[0mr\u001b[0m\u001b[0;34m,\u001b[0m \u001b[0ms2\u001b[0m\u001b[0;34m,\u001b[0m \u001b[0mterm\u001b[0m \u001b[0;34m=\u001b[0m \u001b[0mself\u001b[0m\u001b[0;34m.\u001b[0m\u001b[0m_transition\u001b[0m\u001b[0;34m(\u001b[0m\u001b[0mself\u001b[0m\u001b[0;34m.\u001b[0m\u001b[0m_state\u001b[0m\u001b[0;34m,\u001b[0m \u001b[0maction\u001b[0m\u001b[0;34m)\u001b[0m\u001b[0;34m\u001b[0m\u001b[0;34m\u001b[0m\u001b[0m\n\u001b[0m\u001b[1;32m    120\u001b[0m         \u001b[0mself\u001b[0m\u001b[0;34m.\u001b[0m\u001b[0m_state\u001b[0m \u001b[0;34m=\u001b[0m \u001b[0ms2\u001b[0m\u001b[0;34m\u001b[0m\u001b[0;34m\u001b[0m\u001b[0m\n\u001b[1;32m    121\u001b[0m         \u001b[0;32mreturn\u001b[0m \u001b[0ms2\u001b[0m\u001b[0;34m,\u001b[0m \u001b[0mr\u001b[0m\u001b[0;34m,\u001b[0m \u001b[0mterm\u001b[0m\u001b[0;34m,\u001b[0m \u001b[0m_\u001b[0m\u001b[0;34m\u001b[0m\u001b[0;34m\u001b[0m\u001b[0m\n",
      "\u001b[0;32m<ipython-input-93-ff41d8b39ec6>\u001b[0m in \u001b[0;36m_transition\u001b[0;34m(self, state, action)\u001b[0m\n\u001b[1;32m     38\u001b[0m     \u001b[0;32mdef\u001b[0m \u001b[0m_transition\u001b[0m\u001b[0;34m(\u001b[0m\u001b[0mself\u001b[0m\u001b[0;34m,\u001b[0m \u001b[0mstate\u001b[0m\u001b[0;34m,\u001b[0m \u001b[0maction\u001b[0m\u001b[0;34m)\u001b[0m\u001b[0;34m:\u001b[0m\u001b[0;34m\u001b[0m\u001b[0;34m\u001b[0m\u001b[0m\n\u001b[1;32m     39\u001b[0m         \u001b[0;31m# update speed\u001b[0m\u001b[0;34m\u001b[0m\u001b[0;34m\u001b[0m\u001b[0;34m\u001b[0m\u001b[0m\n\u001b[0;32m---> 40\u001b[0;31m         \u001b[0mvx2\u001b[0m \u001b[0;34m=\u001b[0m \u001b[0mstate\u001b[0m\u001b[0;34m.\u001b[0m\u001b[0mvx\u001b[0m \u001b[0;34m+\u001b[0m \u001b[0maction\u001b[0m\u001b[0;34m.\u001b[0m\u001b[0max\u001b[0m\u001b[0;34m\u001b[0m\u001b[0;34m\u001b[0m\u001b[0m\n\u001b[0m\u001b[1;32m     41\u001b[0m         \u001b[0mvy2\u001b[0m \u001b[0;34m=\u001b[0m \u001b[0mstate\u001b[0m\u001b[0;34m.\u001b[0m\u001b[0mvy\u001b[0m \u001b[0;34m+\u001b[0m \u001b[0maction\u001b[0m\u001b[0;34m.\u001b[0m\u001b[0may\u001b[0m\u001b[0;34m\u001b[0m\u001b[0;34m\u001b[0m\u001b[0m\n\u001b[1;32m     42\u001b[0m \u001b[0;34m\u001b[0m\u001b[0m\n",
      "\u001b[0;31mAttributeError\u001b[0m: 'list' object has no attribute 'ax'"
     ]
    }
   ],
   "source": [
    "env.step(action=[-1,1])\n",
    "env.render()"
   ]
  },
  {
   "cell_type": "markdown",
   "metadata": {},
   "source": [
    "<img src=\"./images/Off-policy_MC_control.png\" width=500 height=1000>"
   ]
  },
  {
   "cell_type": "code",
   "execution_count": 8,
   "metadata": {},
   "outputs": [
    {
     "name": "stdout",
     "output_type": "stream",
     "text": [
      "Wall=1, Start=2, Endline=9, Agent=5\n",
      "r 0 11100000000000009\n",
      "r 1 11000000000000009\n",
      "r 2 11000000000000009\n",
      "r 3 10000000000000009\n",
      "r 4 00000000000000009\n",
      "r 5 00000000000000009\n",
      "r 6 00000000001111111\n",
      "r 7 00000000011111111\n",
      "r 8 00000000011111111\n",
      "r 9 00000000011111111\n",
      "r10 00000000011111111\n",
      "r11 00000000011111111\n",
      "r12 00000000011111111\n",
      "r13 00000000011111111\n",
      "r14 10000000011111111\n",
      "r15 10000000011111111\n",
      "r16 10000000011111111\n",
      "r17 10000000011111111\n",
      "r18 10000000011111111\n",
      "r19 10000000011111111\n",
      "r20 10000000011111111\n",
      "r21 10000000011111111\n",
      "r22 11000000011111111\n",
      "r23 11000000011111111\n",
      "r24 11000000011111111\n",
      "r25 11000000011111111\n",
      "r26 11000000011111111\n",
      "r27 11000000011111111\n",
      "r28 11000000011111111\n",
      "r29 11100000011111111\n",
      "r30 11100000011111111\n",
      "r31 11152222211111111\n"
     ]
    }
   ],
   "source": [
    "env.reset()\n",
    "env.render()"
   ]
  },
  {
   "cell_type": "code",
   "execution_count": null,
   "metadata": {},
   "outputs": [],
   "source": []
  }
 ],
 "metadata": {
  "kernelspec": {
   "display_name": "Python 3",
   "language": "python",
   "name": "python3"
  },
  "language_info": {
   "codemirror_mode": {
    "name": "ipython",
    "version": 3
   },
   "file_extension": ".py",
   "mimetype": "text/x-python",
   "name": "python",
   "nbconvert_exporter": "python",
   "pygments_lexer": "ipython3",
   "version": "3.8.3"
  }
 },
 "nbformat": 4,
 "nbformat_minor": 2
}
