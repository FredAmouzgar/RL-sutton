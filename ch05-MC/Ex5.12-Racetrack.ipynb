{
 "cells": [
  {
   "cell_type": "markdown",
   "metadata": {},
   "source": [
    "<img src=\"images/ex12-1.jpg\" width=500 height=1000>\n",
    "<img src=\"images/ex12-2.jpg\" width=500 height=1000>"
   ]
  },
  {
   "cell_type": "code",
   "execution_count": 6,
   "metadata": {},
   "outputs": [],
   "source": [
    "import gym"
   ]
  },
  {
   "cell_type": "code",
   "execution_count": 22,
   "metadata": {},
   "outputs": [],
   "source": [
    "env = gym.make(\"CartPole-v1\")\n",
    "#env."
   ]
  },
  {
   "cell_type": "code",
   "execution_count": 176,
   "metadata": {},
   "outputs": [],
   "source": [
    "import numpy as np\n",
    "\n",
    "class Race_Env(gym.Env):\n",
    "    def __init__(self, type_of_env=1):\n",
    "        self.action_space = [(-1,-1),(-1,0),(0,-1),(0,1),(1,0),(1,1)]\n",
    "        self._Vx = 0  # 0 < _Vx < 5\n",
    "        self._Vy = 0  # 0 < _Vy < 5\n",
    "        ## Env Signs\n",
    "        self.wall_sign = 1\n",
    "        self.start_sign = 2\n",
    "        self.endline_sign = 9\n",
    "        self.agent_sign = 5\n",
    "        ####\n",
    "        self.current_row = 0\n",
    "        self.current_col = 0\n",
    "        if type_of_env == 1:\n",
    "            w = self.wall_sign\n",
    "            s = self.start_sign\n",
    "            e = self.endline_sign\n",
    "            self.env_row = 32\n",
    "            self.env_col = 17\n",
    "            # Making the environment\n",
    "            self.env = np.zeros((self.env_row,self.env_col), dtype=np.int16)\n",
    "            ## Walls ##\n",
    "            self.env[0:3,0:2] = w\n",
    "            self.env[0,2] = w\n",
    "            self.env[3,0] = w\n",
    "            self.env[14:,0] = w\n",
    "            self.env[22:,1] = w\n",
    "            self.env[29:,2] = w\n",
    "            ##\n",
    "            self.env[6,10:] = w\n",
    "            self.env[7:,9:] = w\n",
    "            ###########\n",
    "            self.env[31, 3:9] = s # Setting the start\n",
    "            #####\n",
    "            self.env[0:6,16] = e # Setting the endline\n",
    "            ## Positioning the agent ##\n",
    "            self.current_row = 31\n",
    "            self.current_col = np.random.randint(6)+3\n",
    "            self.env[self.current_row, self.current_col] = self.agent_sign\n",
    "            ###########################\n",
    "        self.reward = -1\n",
    "    def step(self, action):\n",
    "        self.env[self.current_row,self.current_col] = 0\n",
    "        self.current_row -= 1\n",
    "        self.env[self.current_row,self.current_col] = self.agent_sign\n",
    "    def render(self):\n",
    "        print(\"Wall={}, Start={}, Endline={}, Agent={}\".format(self.wall_sign, self.start_sign, self.endline_sign, self.agent_sign))\n",
    "        for x in range(self.env_row):\n",
    "            print(\"r{:2}\".format(x), end=\" \")\n",
    "            for y in range(self.env_col):\n",
    "                print(self.env[x,y],end=\"\")\n",
    "            print()\n",
    "    def reset(self):\n",
    "        self.env[self.current_row, self.current_col] = 0 # Setting the current state to zero\n",
    "        #####\n",
    "        self.env[31, 3:9] = self.start_sign # Setting the start\n",
    "        #\n",
    "        self.env[0:6,16] = self.endline_sign # Setting the endline\n",
    "        #####\n",
    "        self.current_row = 31 # Positioning the agent in row 31\n",
    "        self.current_col = np.random.randint(6)+3 # Positioning the agent in a random available column\n",
    "        self.env[self.current_row, self.current_col] = self.agent_sign\n",
    "#help(gym.Env)"
   ]
  },
  {
   "cell_type": "code",
   "execution_count": 177,
   "metadata": {},
   "outputs": [
    {
     "name": "stdout",
     "output_type": "stream",
     "text": [
      "Wall=1, Start=2, Endline=9, Agent=5\n",
      "r 0 11100000000000009\n",
      "r 1 11000000000000009\n",
      "r 2 11000000000000009\n",
      "r 3 10000000000000009\n",
      "r 4 00000000000000009\n",
      "r 5 00000000000000009\n",
      "r 6 00000000001111111\n",
      "r 7 00000000011111111\n",
      "r 8 00000000011111111\n",
      "r 9 00000000011111111\n",
      "r10 00000000011111111\n",
      "r11 00000000011111111\n",
      "r12 00000000011111111\n",
      "r13 00000000011111111\n",
      "r14 10000000011111111\n",
      "r15 10000000011111111\n",
      "r16 10000000011111111\n",
      "r17 10000000011111111\n",
      "r18 10000000011111111\n",
      "r19 10000000011111111\n",
      "r20 10000000011111111\n",
      "r21 10000000011111111\n",
      "r22 11000000011111111\n",
      "r23 11000000011111111\n",
      "r24 11000000011111111\n",
      "r25 11000000011111111\n",
      "r26 11000000011111111\n",
      "r27 11000000011111111\n",
      "r28 11000000011111111\n",
      "r29 11100000011111111\n",
      "r30 11100000011111111\n",
      "r31 11122222511111111\n"
     ]
    }
   ],
   "source": [
    "env = Race_Env()\n",
    "env.render()"
   ]
  },
  {
   "cell_type": "code",
   "execution_count": 178,
   "metadata": {},
   "outputs": [
    {
     "data": {
      "text/plain": [
       "[(-1, -1), (-1, 0), (0, -1), (0, 1), (1, 0), (1, 1)]"
      ]
     },
     "execution_count": 178,
     "metadata": {},
     "output_type": "execute_result"
    }
   ],
   "source": [
    "env.action_space"
   ]
  },
  {
   "cell_type": "code",
   "execution_count": 182,
   "metadata": {},
   "outputs": [
    {
     "name": "stdout",
     "output_type": "stream",
     "text": [
      "Wall=1, Start=2, Endline=9, Agent=5\n",
      "r 0 11100000000000009\n",
      "r 1 11000000000000009\n",
      "r 2 11000000000000009\n",
      "r 3 10000000000000009\n",
      "r 4 00000000000000009\n",
      "r 5 00000000000000009\n",
      "r 6 00000000001111111\n",
      "r 7 00000000011111111\n",
      "r 8 00000000011111111\n",
      "r 9 00000000011111111\n",
      "r10 00000000011111111\n",
      "r11 00000000011111111\n",
      "r12 00000000011111111\n",
      "r13 00000000011111111\n",
      "r14 10000000011111111\n",
      "r15 10000000011111111\n",
      "r16 10000000011111111\n",
      "r17 10000000011111111\n",
      "r18 10000000011111111\n",
      "r19 10000000011111111\n",
      "r20 10000000011111111\n",
      "r21 10000000011111111\n",
      "r22 11000000011111111\n",
      "r23 11000000011111111\n",
      "r24 11000000011111111\n",
      "r25 11000000011111111\n",
      "r26 11000000011111111\n",
      "r27 11000000011111111\n",
      "r28 11000000011111111\n",
      "r29 11100000511111111\n",
      "r30 11100000011111111\n",
      "r31 11122222011111111\n"
     ]
    }
   ],
   "source": [
    "env.step(1)\n",
    "env.render()"
   ]
  },
  {
   "cell_type": "markdown",
   "metadata": {},
   "source": [
    "<img src=\"./images/Off-policy_MC_control.png\" width=500 height=1000>"
   ]
  },
  {
   "cell_type": "code",
   "execution_count": 183,
   "metadata": {},
   "outputs": [
    {
     "name": "stdout",
     "output_type": "stream",
     "text": [
      "Wall=1, Start=2, Endline=9, Agent=5\n",
      "r 0 11100000000000009\n",
      "r 1 11000000000000009\n",
      "r 2 11000000000000009\n",
      "r 3 10000000000000009\n",
      "r 4 00000000000000009\n",
      "r 5 00000000000000009\n",
      "r 6 00000000001111111\n",
      "r 7 00000000011111111\n",
      "r 8 00000000011111111\n",
      "r 9 00000000011111111\n",
      "r10 00000000011111111\n",
      "r11 00000000011111111\n",
      "r12 00000000011111111\n",
      "r13 00000000011111111\n",
      "r14 10000000011111111\n",
      "r15 10000000011111111\n",
      "r16 10000000011111111\n",
      "r17 10000000011111111\n",
      "r18 10000000011111111\n",
      "r19 10000000011111111\n",
      "r20 10000000011111111\n",
      "r21 10000000011111111\n",
      "r22 11000000011111111\n",
      "r23 11000000011111111\n",
      "r24 11000000011111111\n",
      "r25 11000000011111111\n",
      "r26 11000000011111111\n",
      "r27 11000000011111111\n",
      "r28 11000000011111111\n",
      "r29 11100000011111111\n",
      "r30 11100000011111111\n",
      "r31 11122225211111111\n"
     ]
    }
   ],
   "source": [
    "env.reset()\n",
    "env.render()"
   ]
  },
  {
   "cell_type": "code",
   "execution_count": null,
   "metadata": {},
   "outputs": [],
   "source": []
  }
 ],
 "metadata": {
  "kernelspec": {
   "display_name": "Python 3",
   "language": "python",
   "name": "python3"
  },
  "language_info": {
   "codemirror_mode": {
    "name": "ipython",
    "version": 3
   },
   "file_extension": ".py",
   "mimetype": "text/x-python",
   "name": "python",
   "nbconvert_exporter": "python",
   "pygments_lexer": "ipython3",
   "version": "3.6.8"
  }
 },
 "nbformat": 4,
 "nbformat_minor": 2
}
