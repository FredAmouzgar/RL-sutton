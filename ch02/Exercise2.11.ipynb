{
 "cells": [
  {
   "cell_type": "markdown",
   "metadata": {},
   "source": [
    "![Exercise 2.11](images/Exercise2.11-Sutton.jpeg)\n",
    "\n",
    "# Here is the Fig 2.6 that we have to follow:\n",
    "\n",
    "![Fig 2.6 Sutton's book](images/Fig2.6.jpeg)\n",
    "\n",
    "## Note: The UCB algorithm\n",
    "![UCB Formula](images/UCB.jpeg)"
   ]
  },
  {
   "cell_type": "code",
   "execution_count": 1,
   "metadata": {},
   "outputs": [],
   "source": [
    "import numpy as np\n",
    "\n",
    "class Bandit:\n",
    "    \n",
    "    def __init__(self, mu = 1, k = 10):\n",
    "        \"\"\"\n",
    "        By default creates an array of size k and mean of 1 which represents the q*(a).\n",
    "        \"\"\"\n",
    "        self.mu = mu\n",
    "        self.k = k\n",
    "        self.Qstars = np.ones(k) * mu\n",
    "        #print(self.Qstars)\n",
    "        \n",
    "    def __step(self):\n",
    "        for i in range(0, len(self.Qstars)):\n",
    "            self.Qstars[i] += np.random.normal(0, 0.01)\n",
    "        #print(self.Qstars)\n",
    "            \n",
    "    def pull_a_bandit(self, lever):\n",
    "        if lever < len(self.Qstars) and lever >=0:\n",
    "            reward = np.random.normal(self.Qstars[lever], 1)\n",
    "            self.__step()\n",
    "            return reward\n",
    "        else:\n",
    "            raise Exception(f\"Number {lever} out of range\")\n",
    "            \n",
    "    def reset(self):\n",
    "        self.Qstars = np.ones(self.k) * self.mu\n",
    "            \n",
    "    def print_bandit_content(self):\n",
    "        print(self.Qstars)"
   ]
  },
  {
   "cell_type": "code",
   "execution_count": 2,
   "metadata": {},
   "outputs": [],
   "source": [
    "class Bandit_Agent:\n",
    "    \n",
    "    def __init__(self, bandit, initial_val=5):\n",
    "        self.action_values = np.zeros(10) # Q(a)\n",
    "        self.counts = np.zeros(10) # N(a)\n",
    "        self.iteration_number = 0\n",
    "        self.total_reward = 0\n",
    "        self.bandit = bandit\n",
    "        self.initial_val = initial_val # = 5 as used by Sutton in section 2.6 (P.34)\n",
    "        \n",
    "    def greedy_update(self):\n",
    "        self.iteration_number += 1\n",
    "        action_index = np.argmax(self.action_values) # Choose the best action\n",
    "        reward = self.bandit.pull_a_bandit(action_index) # Get the reward from the bandit\n",
    "        self.total_reward += reward # Add the reward to the accumulated reward\n",
    "        self.counts[action_index] += 1 # Increment the number of that action\n",
    "        self.action_values[action_index] = self.action_values[action_index] + (reward - self.action_values[action_index])/self.counts[action_index]\n",
    "        return self.total_reward/self.iteration_number\n",
    "    \n",
    "    def optimistic_initial_value_greedy_update(self, alpha=0.1):\n",
    "        if self.iteration_number == 0:   # Checks for the first iteration and the first optimistic initializations \n",
    "            self.action_values = np.ones(10) * self.initial_val\n",
    "        self.iteration_number += 1\n",
    "        action_index = np.argmax(self.action_values) # Choose the best action\n",
    "        reward = self.bandit.pull_a_bandit(action_index) # Get the reward from the bandit\n",
    "        self.total_reward += reward # Add the reward to the accumulated reward\n",
    "        self.counts[action_index] += 1 # Increment the number of that action\n",
    "        self.action_values[action_index] = self.action_values[action_index] + alpha * (reward - self.action_values[action_index])/self.counts[action_index]\n",
    "        return self.total_reward/self.iteration_number\n",
    "    \n",
    "    def ucb_update(self, alpha=0.1,c=2):\n",
    "        \"\"\"\n",
    "        Upper-Confidence-Bound Action Selection\n",
    "        \"\"\"\n",
    "        self.iteration_number += 1 # t\n",
    "        action_index = np.argmax(self.action_values + c * np.sqrt(np.log(self.iteration_number) / self.counts)) # Choose the best action\n",
    "        reward = self.bandit.pull_a_bandit(action_index) # Get the reward from the bandit\n",
    "        self.total_reward += reward # Add the reward to the accumulated reward\n",
    "        self.counts[action_index] += 1 # Increment the number of that action\n",
    "        self.action_values[action_index] = self.action_values[action_index] + alpha * (reward - self.action_values[action_index])\n",
    "        return self.total_reward/self.iteration_number\n",
    "    \n",
    "    def epsilon_greedy_update(self, epsilon=0.01):\n",
    "        self.iteration_number += 1\n",
    "        if np.random.rand() > epsilon:\n",
    "            action_index = np.argmax(self.action_values) # Choose the best action\n",
    "        else:\n",
    "            action_index = np.random.randint(0,10) # Choose a random action\n",
    "        reward = self.bandit.pull_a_bandit(action_index) # Get the reward from the bandit\n",
    "        self.total_reward += reward # Add the reward to the accumulated reward\n",
    "        self.counts[action_index] += 1 # Increment the number of that action\n",
    "        self.action_values[action_index] = self.action_values[action_index] + (reward - self.action_values[action_index])/self.counts[action_index]\n",
    "        return self.total_reward/self.iteration_number\n",
    "    \n",
    "    def epsilon_greedy_constant_update(self, epsilon=0.1, alpha=0.1):\n",
    "        self.iteration_number += 1\n",
    "        if np.random.rand() > epsilon:\n",
    "            action_index = np.argmax(self.action_values) # Choose the best action\n",
    "        else:\n",
    "            action_index = np.random.randint(0,10) # Choose a random action\n",
    "        reward = self.bandit.pull_a_bandit(action_index) # Get the reward from the bandit\n",
    "        self.total_reward += reward # Add the reward to the accumulated reward\n",
    "        self.counts[action_index] += 1 # Increment the number of that action\n",
    "        self.action_values[action_index] = self.action_values[action_index] + alpha * (reward - self.action_values[action_index])\n",
    "        return self.total_reward/self.iteration_number\n",
    "        \n",
    "    def obj_print(self):\n",
    "        print(f\"{self.action_values},avg_reward={self.total_reward/self.iteration_number},best_action={self.best_action()}\")\n",
    "        \n",
    "    def best_action(self):\n",
    "        return np.max(self.action_values)"
   ]
  },
  {
   "cell_type": "markdown",
   "metadata": {},
   "source": [
    "## Answering Exercise 2.11:"
   ]
  },
  {
   "cell_type": "code",
   "execution_count": 3,
   "metadata": {},
   "outputs": [
    {
     "name": "stdout",
     "output_type": "stream",
     "text": [
      "Doing epsilons[0] = 0.00390625 ...\n",
      "The average reward of epsilons[0] = 0.00390625 is equal to 5.24595237912953\n",
      "Doing epsilons[1] = 0.0078125 ...\n",
      "The average reward of epsilons[1] = 0.0078125 is equal to 3.444339683627124\n",
      "Doing epsilons[2] = 0.015625 ...\n",
      "The average reward of epsilons[2] = 0.015625 is equal to 5.486459981773799\n",
      "Doing epsilons[3] = 0.03125 ...\n",
      "The average reward of epsilons[3] = 0.03125 is equal to 4.381621220778446\n",
      "Doing epsilons[4] = 0.0625 ...\n",
      "The average reward of epsilons[4] = 0.0625 is equal to 4.731472543531522\n",
      "Doing epsilons[5] = 0.125 ...\n",
      "The average reward of epsilons[5] = 0.125 is equal to 5.3770791684790575\n",
      "Doing epsilons[6] = 0.25 ...\n",
      "The average reward of epsilons[6] = 0.25 is equal to 3.9310405710110667\n",
      "Doing epsilons[7] = 0.5 ...\n",
      "The average reward of epsilons[7] = 0.5 is equal to 2.8417493003356276\n",
      "Doing epsilons[8] = 1.0 ...\n",
      "The average reward of epsilons[8] = 1.0 is equal to 0.4028078129945581\n",
      "It took 119.09844708442688 seconds to run this cell\n"
     ]
    }
   ],
   "source": [
    "import time\n",
    "\n",
    "agent_constant_update_bandit = Bandit() \n",
    "#agent_constant_update = Bandit_Agent(bandit = agent_constant_update_bandit) # Moved them before the second for loop, to be honest don't know how it worked before!\n",
    "\n",
    "EPOCHS  = 200000 #= 200000\n",
    "epochs_for_average_last_rewards = 100000 #= 100000  \n",
    "epsilons = np.array([1/256, 1/128, 1/64, 1/32, 1/16, 1/8, 1/4, 1/2, 1])\n",
    "average_rewards = np.zeros(epsilons.shape)\n",
    "\n",
    "stime = time.time()\n",
    "for i in range(len(epsilons)):\n",
    "    agent_constant_update_bandit.reset() # Resetting the bandit to its initial values\n",
    "    agent_constant_update = Bandit_Agent(bandit = agent_constant_update_bandit) # Creating a new agent for this epsilon\n",
    "    print(f\"Doing epsilons[{i}] = {epsilons[i]} ...\")\n",
    "    for e in range(0,EPOCHS):\n",
    "        #epsilon_greedy_constant_rewards[i] = agent_constant_update.epsilon_greedy_constant_update(epsilon=e, alpha=0.1) # Reading e from the outer for loop\n",
    "        current_reward = agent_constant_update.epsilon_greedy_constant_update(epsilon=epsilons[i], alpha=0.1) # epsilons[i] sets the epsilon\n",
    "        if e >= epochs_for_average_last_rewards:\n",
    "            average_rewards[i] += current_reward\n",
    "    average_rewards[i] /= epochs_for_average_last_rewards\n",
    "    print(f\"The average reward of epsilons[{i}] = {epsilons[i]} is equal to {average_rewards[i]}\")\n",
    "etime = time.time()\n",
    "print(\"It took {} seconds to run this cell\".format(etime - stime))"
   ]
  },
  {
   "cell_type": "code",
   "execution_count": 4,
   "metadata": {},
   "outputs": [
    {
     "name": "stdout",
     "output_type": "stream",
     "text": [
      "Max value occurs with epsilon = 0.015625\n"
     ]
    },
    {
     "data": {
      "text/plain": [
       "array([5.24595238, 3.44433968, 5.48645998, 4.38162122, 4.73147254,\n",
       "       5.37707917, 3.93104057, 2.8417493 , 0.40280781])"
      ]
     },
     "execution_count": 4,
     "metadata": {},
     "output_type": "execute_result"
    }
   ],
   "source": [
    "print(f\"Max value occurs with epsilon = {epsilons[np.argmax(average_rewards)]}\")\n",
    "\n",
    "average_rewards"
   ]
  },
  {
   "cell_type": "code",
   "execution_count": 5,
   "metadata": {},
   "outputs": [
    {
     "data": {
      "image/png": "[encoded data removed]",
      "text/plain": [
       "<Figure size 432x288 with 1 Axes>"
      ]
     },
     "metadata": {},
     "output_type": "display_data"
    }
   ],
   "source": [
    "import matplotlib.pyplot as plt\n",
    "%matplotlib inline\n",
    "\n",
    "x = np.arange(0, len(epsilons))\n",
    "parameter_study_plot, = plt.plot(np.log(epsilons[x]),average_rewards[x])\n",
    "plt.xlabel(\"Log of epsilon values\")\n",
    "plt.ylabel(\"Average Rewards\\nOver the last\\n100,000 epochs\")\n",
    "plt.xticks(np.log(epsilons[x]),[\"1/256\", \"1/128\", \"1/64\", \"1/32\", \"1/16\", \"1/8\", \"1/4\", \"1/2\", \"1\"])\n",
    "plt.legend([parameter_study_plot],[\"Parameter Study of epsilons\"])\n",
    "plt.show()"
   ]
  },
  {
   "cell_type": "markdown",
   "metadata": {},
   "source": [
    "After different experiments, we came to this conclusion that the optimal $\\epsilon$ ($\\epsilon^{*}$) fluctuates in this interval $[0.1, 0.5]$.\n"
   ]
  },
  {
   "cell_type": "markdown",
   "metadata": {},
   "source": [
    "## Enhancement 1: ## \n",
    "##### To better observe the behavior of the constant update algorithm using different epsilons ($\\epsilon$), we run 200 different experiments and average over all of them and chart the result. #####"
   ]
  },
  {
   "cell_type": "code",
   "execution_count": null,
   "metadata": {},
   "outputs": [
    {
     "name": "stdout",
     "output_type": "stream",
     "text": [
      "The epsilons[0] = 0.00390625 began.\n",
      "The epsilons[1] = 0.0078125 began.\n",
      "The epsilons[2] = 0.015625 began.\n",
      "The epsilons[3] = 0.03125 began.\n",
      "The epsilons[4] = 0.0625 began.\n",
      "The epsilons[5] = 0.125 began.\n"
     ]
    }
   ],
   "source": [
    "import time\n",
    "\n",
    "agent_constant_update_bandit = Bandit() \n",
    "#agent_constant_update = Bandit_Agent(bandit = agent_constant_update_bandit) # Moved them before the second for loop, to be honest don't know how it worked before!\n",
    "\n",
    "RUNS = 20\n",
    "EPOCHS = 20000 # = 200000 # Reduced it to 20000 for a faster execution\n",
    "epochs_for_average_last_rewards = int(EPOCHS / 2) #= 100000  \n",
    "epsilons = np.array([1/256, 1/128, 1/64, 1/32, 1/16, 1/8, 1/4, 1/2, 1])\n",
    "average_rewards = np.zeros((RUNS, epsilons.shape[0]))\n",
    "\n",
    "stime = time.time()\n",
    "for epsilon in range(len(epsilons)):\n",
    "    print(f\"The epsilons[{epsilon}] = {epsilons[epsilon]} began.\")\n",
    "    for run in range(0, RUNS):\n",
    "        agent_constant_update_bandit.reset() # Resetting the bandit to its initial values\n",
    "        agent_constant_update = Bandit_Agent(bandit = agent_constant_update_bandit) # Creating a new agent for this epsilon\n",
    "        #print(f\"Doing Run #{run} epsilons[{epsilon}] = {epsilons[epsilon]} ...\")\n",
    "        for e in range(0,EPOCHS):\n",
    "            #epsilon_greedy_constant_rewards[i] = agent_constant_update.epsilon_greedy_constant_update(epsilon=e, alpha=0.1) # Reading e from the outer for loop\n",
    "            current_reward = agent_constant_update.epsilon_greedy_constant_update(epsilon=epsilons[epsilon], alpha=0.1) # epsilons[i] sets the epsilon\n",
    "            if e >= epochs_for_average_last_rewards:\n",
    "                average_rewards[run, epsilon] += current_reward\n",
    "        average_rewards[run, epsilon] /= epochs_for_average_last_rewards\n",
    "etime = time.time()\n",
    "print(\"It took {} seconds to run this cell\".format(etime - stime))"
   ]
  },
  {
   "cell_type": "code",
   "execution_count": null,
   "metadata": {},
   "outputs": [],
   "source": [
    "# Processing collected rewards for chart\n",
    "\n",
    "average_rewards_mean = np.zeros(len(epsilons))\n",
    "average_rewards_std = np.zeros(len(epsilons))\n",
    "\n",
    "for epsilon in range(len(epsilons)):\n",
    "    average_rewards_mean[epsilon] = average_rewards[0:RUNS, epsilon].mean()\n",
    "    average_rewards_std[epsilon] = average_rewards[0:RUNS, epsilon].std()\n",
    "    \n",
    "print(average_rewards_mean)\n",
    "print(average_rewards_std)"
   ]
  },
  {
   "cell_type": "code",
   "execution_count": null,
   "metadata": {},
   "outputs": [],
   "source": [
    "import matplotlib.pyplot as plt\n",
    "%matplotlib inline\n",
    "# Charting them\n",
    "x = np.arange(0, len(epsilons))\n",
    "fig, ax = plt.subplots(1)\n",
    "ax.plot(x, average_rewards_mean, lw=1, label='Constant Updates With different Epsilons', color='blue', ls='-')\n",
    "ax.fill_between(x, average_rewards_mean - average_rewards_std, # Lower bound\n",
    "                average_rewards_mean + average_rewards_std, # Upper bound\n",
    "                facecolor='blue', alpha=0.1)\n",
    "ax.legend(loc='lower center')\n",
    "\n",
    "ax.set_xlabel('Steps')\n",
    "ax.set_ylabel('Average\\nRewards')\n",
    "ax.set_title(\"The average rewards are calculated between the mean-std and mean+std\")\n",
    "ax.set_xticklabels([\"null\", \"1/256\", \"1/128\", \"1/64\", \"1/32\", \"1/16\", \"1/8\", \"1/4\", \"1/2\", \"1\"])\n",
    "ax.grid()\n",
    "fig.show()"
   ]
  },
  {
   "cell_type": "markdown",
   "metadata": {},
   "source": [
    "## Enhancement 2: ## \n",
    "##### To better observe the behavior of the constant update algorithm using different epsilons ($\\epsilon$) and its interplay with different values of alpha ($\\alpha$), we run 2000 different experiments and average over all of them and chart the result in a 3D plot. #####"
   ]
  },
  {
   "cell_type": "code",
   "execution_count": null,
   "metadata": {},
   "outputs": [],
   "source": [
    "import time\n",
    "\n",
    "agent_constant_update_bandit = Bandit() \n",
    "#agent_constant_update = Bandit_Agent(bandit = agent_constant_update_bandit) # Moved them before the second for loop, to be honest don't know how it worked before!\n",
    "\n",
    "RUNS = 20\n",
    "EPOCHS = 2000 #= 200000\n",
    "epochs_for_average_last_rewards = int(EPOCHS / 2) #= 100000\n",
    "alphas = np.array([1/256, 1/128, 1/64, 1/32, 1/16, 1/8, 1/4, 1/2, 1])\n",
    "epsilons = np.array([1/256, 1/128, 1/64, 1/32, 1/16, 1/8, 1/4, 1/2, 1])\n",
    "average_rewards = np.zeros((RUNS, epsilons.shape[0], alphas.shape[0]))\n",
    "\n",
    "stime = time.time()\n",
    "for alpha in range(len(alphas)):\n",
    "    #print(f\"The alphas[{alpha}] = {alphas[alpha]} began.\")\n",
    "    for epsilon in range(len(epsilons)):\n",
    "        #print(f\"\\tThe epsilons[{epsilon}] = {epsilons[epsilon]} began.\")\n",
    "        for run in range(0, RUNS):\n",
    "            agent_constant_update_bandit.reset() # Resetting the bandit to its initial values\n",
    "            agent_constant_update = Bandit_Agent(bandit = agent_constant_update_bandit) # Creating a new agent for this epsilon\n",
    "            #print(f\"Doing Run #{run} epsilons[{epsilon}] = {epsilons[epsilon]} ...\")\n",
    "            for e in range(0,EPOCHS):\n",
    "                current_reward = agent_constant_update.epsilon_greedy_constant_update(epsilon=epsilons[epsilon], alpha=alpha) # epsilons[i] sets the epsilon\n",
    "                if e >= epochs_for_average_last_rewards:\n",
    "                    average_rewards[run, epsilon, alpha] += current_reward\n",
    "            average_rewards[run, epsilon, alpha] /= epochs_for_average_last_rewards\n",
    "        #print(f\"The epsilons[{epsilon}] = {epsilons[epsilon]} finished.\")\n",
    "etime = time.time()\n",
    "print(\"It took {} seconds to run this cell\".format(etime - stime))"
   ]
  },
  {
   "cell_type": "code",
   "execution_count": null,
   "metadata": {},
   "outputs": [],
   "source": [
    "# Processing collected rewards for chart\n",
    "\n",
    "average_rewards_mean = np.zeros((len(epsilons), len(alphas)))\n",
    "average_rewards_std = np.zeros((len(epsilons), len(alphas)))\n",
    "for alpha in range(len(alphas)):\n",
    "    for epsilon in range(len(epsilons)):\n",
    "        average_rewards_mean[epsilon, alpha] = average_rewards[0:RUNS, epsilon, alpha].mean()\n",
    "        average_rewards_std[epsilon, alpha] = average_rewards[0:RUNS, epsilon, alpha].std()"
   ]
  },
  {
   "cell_type": "code",
   "execution_count": null,
   "metadata": {},
   "outputs": [],
   "source": [
    "from mpl_toolkits.mplot3d import Axes3D\n",
    "\n",
    "import matplotlib.pyplot as plt\n",
    "from matplotlib import cm\n",
    "from matplotlib.ticker import LinearLocator, FormatStrFormatter\n",
    "\n",
    "fig = plt.figure()\n",
    "ax = plt.axes(projection='3d')\n",
    "\n",
    "# Make data.\n",
    "X = np.array([1/256, 1/128, 1/64, 1/32, 1/16, 1/8, 1/4, 1/2, 1]) # epsilon\n",
    "Y = np.array([1/256, 1/128, 1/64, 1/32, 1/16, 1/8, 1/4, 1/2, 1]) # alpha\n",
    "X_r, Y_r = np.meshgrid(X,Y)\n",
    "Z = average_rewards_mean\n",
    "surf = ax.plot_surface(X_r, Y_r, Z, cmap=cm.coolwarm, linewidth=0, antialiased=False)\n",
    "# Customize the z axis.\n",
    "ax.set_zlim(0, 1.5)\n",
    "ax.set_xlabel(\"epsilons\")\n",
    "ax.set_ylabel(\"alphas\")\n",
    "ax.zaxis.set_major_locator(LinearLocator(10))\n",
    "ax.zaxis.set_major_formatter(FormatStrFormatter('%.02f'))\n",
    "\n",
    "# Add a color bar which maps values to colors.\n",
    "fig.colorbar(surf, shrink=0.5, aspect=5)\n",
    "plt.show()"
   ]
  },
  {
   "cell_type": "markdown",
   "metadata": {
    "collapsed": true
   },
   "source": [
    "## Some of the high quality images from the 3D Chart:\n",
    "\n",
    "<img src=\"images/alpha_epsilon_large1.png\">\n",
    "<img src=\"images/alpha_epsilon_large2.png\">\n",
    "<img src=\"images/alpha_epsilon_large3.png\">\n",
    "<img src=\"images/alpha_epsilon_large4.png\">"
   ]
  },
  {
   "cell_type": "code",
   "execution_count": null,
   "metadata": {},
   "outputs": [],
   "source": []
  }
 ],
 "metadata": {
  "kernelspec": {
   "display_name": "Python 3",
   "language": "python",
   "name": "python3"
  },
  "language_info": {
   "codemirror_mode": {
    "name": "ipython",
    "version": 3
   },
   "file_extension": ".py",
   "mimetype": "text/x-python",
   "name": "python",
   "nbconvert_exporter": "python",
   "pygments_lexer": "ipython3",
   "version": "3.6.5"
  }
 },
 "nbformat": 4,
 "nbformat_minor": 2
}
