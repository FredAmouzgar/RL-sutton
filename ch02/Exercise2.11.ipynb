{
 "cells": [
  {
   "cell_type": "markdown",
   "metadata": {},
   "source": [
    "![Exercise 2.11](images/Exercise2.11-Sutton.jpeg)"
   ]
  },
  {
   "cell_type": "code",
   "execution_count": 1,
   "metadata": {},
   "outputs": [],
   "source": [
    "import numpy as np\n",
    "\n",
    "class Bandit:\n",
    "    \n",
    "    def __init__(self, mu = 1, k = 10):\n",
    "        \"\"\"\n",
    "        By default creates an array of size k and mean of 1 which represents the q*(a).\n",
    "        \"\"\"\n",
    "        self.Qstars = np.ones(k) * mu\n",
    "        #print(self.Qstars)\n",
    "        \n",
    "    def __step(self):\n",
    "        for i in range(0, len(self.Qstars)):\n",
    "            self.Qstars[i] += np.random.normal(0, 0.01)\n",
    "        #print(self.Qstars)\n",
    "            \n",
    "    def pull_a_bandit(self, lever):\n",
    "        if lever < len(self.Qstars) and lever >=0:\n",
    "            reward = np.random.normal(self.Qstars[lever], 1)\n",
    "            self.__step()\n",
    "            return reward\n",
    "        else:\n",
    "            raise Exception(f\"Number {lever} out of range\")\n",
    "            \n",
    "    def print_bandit_content(self):\n",
    "        print(self.Qstars)"
   ]
  },
  {
   "cell_type": "code",
   "execution_count": 2,
   "metadata": {},
   "outputs": [],
   "source": [
    "class Bandit_Agent:\n",
    "    \n",
    "    def __init__(self, bandit):\n",
    "        self.action_values = np.zeros(10) # Q(a)\n",
    "        self.counts = np.zeros(10) # N(a)\n",
    "        self.iteration_number = 0\n",
    "        self.total_reward = 0\n",
    "        self.bandit = bandit\n",
    "        \n",
    "    def greedy_update(self):\n",
    "        self.iteration_number += 1\n",
    "        action_index = np.argmax(self.action_values) # Choose the best action\n",
    "        reward = self.bandit.pull_a_bandit(action_index) # Get the reward from the bandit\n",
    "        self.total_reward += reward # Add the reward to the accumulated reward\n",
    "        self.counts[action_index] += 1 # Increment the number of that action\n",
    "        self.action_values[action_index] = self.action_values[action_index] + (reward - self.action_values[action_index])/self.counts[action_index]\n",
    "        return self.total_reward/self.iteration_number\n",
    "    \n",
    "    def epsilon_greedy_update(self, epsilon=0.01):\n",
    "        self.iteration_number += 1\n",
    "        if np.random.rand() > epsilon:\n",
    "            action_index = np.argmax(self.action_values) # Choose the best action\n",
    "        else:\n",
    "            action_index = np.random.randint(0,10) # Choose a random action\n",
    "        reward = self.bandit.pull_a_bandit(action_index) # Get the reward from the bandit\n",
    "        self.total_reward += reward # Add the reward to the accumulated reward\n",
    "        self.counts[action_index] += 1 # Increment the number of that action\n",
    "        self.action_values[action_index] = self.action_values[action_index] + (reward - self.action_values[action_index])/self.counts[action_index]\n",
    "        return self.total_reward/self.iteration_number\n",
    "    \n",
    "    def epsilon_greedy_constant_update(self, epsilon=0.1, alpha=0.1):\n",
    "        self.iteration_number += 1\n",
    "        if np.random.rand() > epsilon:\n",
    "            action_index = np.argmax(self.action_values) # Choose the best action\n",
    "        else:\n",
    "            action_index = np.random.randint(0,10) # Choose a random action\n",
    "        reward = self.bandit.pull_a_bandit(action_index) # Get the reward from the bandit\n",
    "        self.total_reward += reward # Add the reward to the accumulated reward\n",
    "        self.counts[action_index] += 1 # Increment the number of that action\n",
    "        self.action_values[action_index] = self.action_values[action_index] + alpha * (reward - self.action_values[action_index])\n",
    "        return self.total_reward/self.iteration_number\n",
    "        \n",
    "    def obj_print(self):\n",
    "        print(f\"{self.action_values},avg_reward={self.total_reward/self.iteration_number},best_action={self.best_action()}\")\n",
    "        \n",
    "    def best_action(self):\n",
    "        return np.max(self.action_values)"
   ]
  },
  {
   "cell_type": "code",
   "execution_count": 3,
   "metadata": {},
   "outputs": [
    {
     "name": "stdout",
     "output_type": "stream",
     "text": [
      "Doing epsilons[0] = 0.0078125 ...\n",
      "The average reward of epsilons[0] = 0.0078125 is equal to 5.156657368221519\n",
      "Doing epsilons[1] = 0.015625 ...\n",
      "The average reward of epsilons[1] = 0.015625 is equal to 7.89433923096994\n",
      "Doing epsilons[2] = 0.03125 ...\n",
      "The average reward of epsilons[2] = 0.03125 is equal to 10.808010790627824\n",
      "Doing epsilons[3] = 0.0625 ...\n",
      "The average reward of epsilons[3] = 0.0625 is equal to 12.970861901844522\n",
      "Doing epsilons[4] = 0.125 ...\n",
      "The average reward of epsilons[4] = 0.125 is equal to 13.930962479650802\n",
      "Doing epsilons[5] = 0.25 ...\n",
      "The average reward of epsilons[5] = 0.25 is equal to 14.01437815472898\n",
      "Doing epsilons[6] = 0.5 ...\n",
      "The average reward of epsilons[6] = 0.5 is equal to 13.409294361301125\n",
      "Doing epsilons[7] = 1.0 ...\n",
      "The average reward of epsilons[7] = 1.0 is equal to 11.906292026038757\n"
     ]
    }
   ],
   "source": [
    "agent_constant_update_bandit = Bandit()\n",
    "agent_constant_update = Bandit_Agent(bandit = agent_constant_update_bandit)\n",
    "\n",
    "EPOCHS = 200000\n",
    "epochs_for_average_last_rewards = 100000  \n",
    "epsilons = np.array([1/128, 1/64, 1/32, 1/16, 1/8, 1/4, 1/2, 1])\n",
    "average_rewards = np.zeros(epsilons.shape)\n",
    "\n",
    "for i in range(len(epsilons)):\n",
    "    print(f\"Doing epsilons[{i}] = {epsilons[i]} ...\")\n",
    "    for e in range(0,EPOCHS):\n",
    "        #epsilon_greedy_constant_rewards[i] = agent_constant_update.epsilon_greedy_constant_update(epsilon=e, alpha=0.1) # Reading e from the outer for loop\n",
    "        current_reward = agent_constant_update.epsilon_greedy_constant_update(epsilon=epsilons[i], alpha=0.1) # epsilons[i] sets the epsilon\n",
    "        if e >= epochs_for_average_last_rewards:\n",
    "            average_rewards[i] += current_reward\n",
    "    average_rewards[i] /= epochs_for_average_last_rewards\n",
    "    print(f\"The average reward of epsilons[{i}] = {epsilons[i]} is equal to {average_rewards[i]}\")"
   ]
  },
  {
   "cell_type": "code",
   "execution_count": 4,
   "metadata": {},
   "outputs": [
    {
     "name": "stdout",
     "output_type": "stream",
     "text": [
      "Max value occurs with epsilon = 0.25\n"
     ]
    },
    {
     "data": {
      "text/plain": [
       "array([ 5.15665737,  7.89433923, 10.80801079, 12.9708619 , 13.93096248,\n",
       "       14.01437815, 13.40929436, 11.90629203])"
      ]
     },
     "execution_count": 4,
     "metadata": {},
     "output_type": "execute_result"
    }
   ],
   "source": [
    "print(f\"Max value occurs with epsilon = {epsilons[np.argmax(average_rewards)]}\")\n",
    "\n",
    "average_rewards"
   ]
  },
  {
   "cell_type": "code",
   "execution_count": 6,
   "metadata": {},
   "outputs": [
    {
     "data": {
      "image/png": "[encoded data removed]",
      "text/plain": [
       "<Figure size 432x288 with 1 Axes>"
      ]
     },
     "metadata": {},
     "output_type": "display_data"
    }
   ],
   "source": [
    "import matplotlib.pyplot as plt\n",
    "\n",
    "x = np.arange(0, len(epsilons))\n",
    "parameter_study_plot, = plt.plot(np.log(epsilons[x]),average_rewards[x])\n",
    "plt.xlabel(\"Log of epsilon values\")\n",
    "plt.ylabel(\"Average Rewards\\nOver the last\\n100,000 epochs\")\n",
    "plt.legend([parameter_study_plot],[\"Parameter Study of epsilons\"])\n",
    "plt.show()"
   ]
  },
  {
   "cell_type": "code",
   "execution_count": null,
   "metadata": {},
   "outputs": [],
   "source": []
  }
 ],
 "metadata": {
  "kernelspec": {
   "display_name": "Python 3",
   "language": "python",
   "name": "python3"
  },
  "language_info": {
   "codemirror_mode": {
    "name": "ipython",
    "version": 3
   },
   "file_extension": ".py",
   "mimetype": "text/x-python",
   "name": "python",
   "nbconvert_exporter": "python",
   "pygments_lexer": "ipython3",
   "version": "3.6.5"
  }
 },
 "nbformat": 4,
 "nbformat_minor": 2
}
