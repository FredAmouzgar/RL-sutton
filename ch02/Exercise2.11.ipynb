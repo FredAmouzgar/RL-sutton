{
 "cells": [
  {
   "cell_type": "markdown",
   "metadata": {},
   "source": [
    "![Exercise 2.11](images/Exercise2.11-Sutton.jpeg)\n",
    "\n",
    "# Here is the Fig 2.6 that we have to follow:\n",
    "\n",
    "![Fig 2.6 Sutton's book](images/Fig2.6.jpeg)\n",
    "\n",
    "## Note: The UCB algorithm\n",
    "![UCB Formula](images/UCB.jpeg)"
   ]
  },
  {
   "cell_type": "code",
   "execution_count": 1,
   "metadata": {
    "collapsed": true
   },
   "outputs": [],
   "source": [
    "import numpy as np\n",
    "\n",
    "class Bandit:\n",
    "    \n",
    "    def __init__(self, mu = 1, k = 10):\n",
    "        \"\"\"\n",
    "        By default creates an array of size k and mean of 1 which represents the q*(a).\n",
    "        \"\"\"\n",
    "        self.mu = mu\n",
    "        self.k = k\n",
    "        self.Qstars = np.ones(k) * mu\n",
    "        #print(self.Qstars)\n",
    "        \n",
    "    def __step(self):\n",
    "        for i in range(0, len(self.Qstars)):\n",
    "            self.Qstars[i] += np.random.normal(0, 0.01)\n",
    "        #print(self.Qstars)\n",
    "            \n",
    "    def pull_a_bandit(self, lever):\n",
    "        if lever < len(self.Qstars) and lever >=0:\n",
    "            reward = np.random.normal(self.Qstars[lever], 1)\n",
    "            self.__step()\n",
    "            return reward\n",
    "        else:\n",
    "            raise Exception(f\"Number {lever} out of range\")\n",
    "            \n",
    "    def reset(self):\n",
    "        self.Qstars = np.ones(self.k) * self.mu\n",
    "            \n",
    "    def print_bandit_content(self):\n",
    "        print(self.Qstars)"
   ]
  },
  {
   "cell_type": "code",
   "execution_count": 2,
   "metadata": {
    "collapsed": true
   },
   "outputs": [],
   "source": [
    "class Bandit_Agent:\n",
    "    \n",
    "    def __init__(self, bandit, initial_val=5):\n",
    "        self.action_values = np.zeros(10) # Q(a)\n",
    "        self.counts = np.zeros(10) # N(a)\n",
    "        self.iteration_number = 0\n",
    "        self.total_reward = 0\n",
    "        self.bandit = bandit\n",
    "        self.initial_val = initial_val # = 5 as used by Sutton in section 2.6 (P.34)\n",
    "        \n",
    "    def greedy_update(self):\n",
    "        self.iteration_number += 1\n",
    "        action_index = np.argmax(self.action_values) # Choose the best action\n",
    "        reward = self.bandit.pull_a_bandit(action_index) # Get the reward from the bandit\n",
    "        self.total_reward += reward # Add the reward to the accumulated reward\n",
    "        self.counts[action_index] += 1 # Increment the number of that action\n",
    "        self.action_values[action_index] = self.action_values[action_index] + (reward - self.action_values[action_index])/self.counts[action_index]\n",
    "        return self.total_reward/self.iteration_number\n",
    "    \n",
    "    def optimistic_initial_value_greedy_update(self, alpha=0.1):\n",
    "        if self.iteration_number == 0:   # Checks for the first iteration and the first optimistic initializations \n",
    "            self.action_values = np.ones(10) * self.initial_val\n",
    "        self.iteration_number += 1\n",
    "        action_index = np.argmax(self.action_values) # Choose the best action\n",
    "        reward = self.bandit.pull_a_bandit(action_index) # Get the reward from the bandit\n",
    "        self.total_reward += reward # Add the reward to the accumulated reward\n",
    "        self.counts[action_index] += 1 # Increment the number of that action\n",
    "        self.action_values[action_index] = self.action_values[action_index] + alpha * (reward - self.action_values[action_index])/self.counts[action_index]\n",
    "        return self.total_reward/self.iteration_number\n",
    "    \n",
    "    def ucb_update(self, alpha=0.1,c=2):\n",
    "        \"\"\"\n",
    "        Upper-Confidence-Bound Action Selection\n",
    "        \"\"\"\n",
    "        self.iteration_number += 1 # t\n",
    "        action_index = np.argmax(self.action_values + c * np.sqrt(np.log(self.iteration_number) / self.counts)) # Choose the best action\n",
    "        reward = self.bandit.pull_a_bandit(action_index) # Get the reward from the bandit\n",
    "        self.total_reward += reward # Add the reward to the accumulated reward\n",
    "        self.counts[action_index] += 1 # Increment the number of that action\n",
    "        self.action_values[action_index] = self.action_values[action_index] + alpha * (reward - self.action_values[action_index])\n",
    "        return self.total_reward/self.iteration_number\n",
    "    \n",
    "    def epsilon_greedy_update(self, epsilon=0.01):\n",
    "        self.iteration_number += 1\n",
    "        if np.random.rand() > epsilon:\n",
    "            action_index = np.argmax(self.action_values) # Choose the best action\n",
    "        else:\n",
    "            action_index = np.random.randint(0,10) # Choose a random action\n",
    "        reward = self.bandit.pull_a_bandit(action_index) # Get the reward from the bandit\n",
    "        self.total_reward += reward # Add the reward to the accumulated reward\n",
    "        self.counts[action_index] += 1 # Increment the number of that action\n",
    "        self.action_values[action_index] = self.action_values[action_index] + (reward - self.action_values[action_index])/self.counts[action_index]\n",
    "        return self.total_reward/self.iteration_number\n",
    "    \n",
    "    def epsilon_greedy_constant_update(self, epsilon=0.1, alpha=0.1):\n",
    "        self.iteration_number += 1\n",
    "        if np.random.rand() > epsilon:\n",
    "            action_index = np.argmax(self.action_values) # Choose the best action\n",
    "        else:\n",
    "            action_index = np.random.randint(0,10) # Choose a random action\n",
    "        reward = self.bandit.pull_a_bandit(action_index) # Get the reward from the bandit\n",
    "        self.total_reward += reward # Add the reward to the accumulated reward\n",
    "        self.counts[action_index] += 1 # Increment the number of that action\n",
    "        self.action_values[action_index] = self.action_values[action_index] + alpha * (reward - self.action_values[action_index])\n",
    "        return self.total_reward/self.iteration_number\n",
    "        \n",
    "    def obj_print(self):\n",
    "        print(f\"{self.action_values},avg_reward={self.total_reward/self.iteration_number},best_action={self.best_action()}\")\n",
    "        \n",
    "    def best_action(self):\n",
    "        return np.max(self.action_values)"
   ]
  },
  {
   "cell_type": "markdown",
   "metadata": {},
   "source": [
    "## Answering Exercise 2.11:"
   ]
  },
  {
   "cell_type": "code",
   "execution_count": 3,
   "metadata": {},
   "outputs": [
    {
     "name": "stdout",
     "output_type": "stream",
     "text": [
      "Doing epsilons[0] = 0.00390625 ...\n",
      "The average reward of epsilons[0] = 0.00390625 is equal to 4.892258476322166\n",
      "Doing epsilons[1] = 0.0078125 ...\n",
      "The average reward of epsilons[1] = 0.0078125 is equal to 5.991780675892232\n",
      "Doing epsilons[2] = 0.015625 ...\n",
      "The average reward of epsilons[2] = 0.015625 is equal to 4.080321159733243\n",
      "Doing epsilons[3] = 0.03125 ...\n",
      "The average reward of epsilons[3] = 0.03125 is equal to 3.9120869637224107\n",
      "Doing epsilons[4] = 0.0625 ...\n",
      "The average reward of epsilons[4] = 0.0625 is equal to 4.933877663654174\n",
      "Doing epsilons[5] = 0.125 ...\n",
      "The average reward of epsilons[5] = 0.125 is equal to 6.1311198324235106\n",
      "Doing epsilons[6] = 0.25 ...\n",
      "The average reward of epsilons[6] = 0.25 is equal to 3.186325185043951\n",
      "Doing epsilons[7] = 0.5 ...\n",
      "The average reward of epsilons[7] = 0.5 is equal to 2.9580056358243145\n",
      "Doing epsilons[8] = 1.0 ...\n",
      "The average reward of epsilons[8] = 1.0 is equal to 2.5062785024449923\n",
      "It took 94.81646847724915 seconds to run this cell\n"
     ]
    }
   ],
   "source": [
    "import time\n",
    "\n",
    "agent_constant_update_bandit = Bandit() \n",
    "#agent_constant_update = Bandit_Agent(bandit = agent_constant_update_bandit) # Moved them before the second for loop, to be honest don't know how it worked before!\n",
    "\n",
    "EPOCHS  = 200000 #= 200000\n",
    "epochs_for_average_last_rewards = 100000 #= 100000  \n",
    "epsilons = np.array([1/256, 1/128, 1/64, 1/32, 1/16, 1/8, 1/4, 1/2, 1])\n",
    "average_rewards = np.zeros(epsilons.shape)\n",
    "\n",
    "stime = time.time()\n",
    "for i in range(len(epsilons)):\n",
    "    agent_constant_update_bandit.reset() # Resetting the bandit to its initial values\n",
    "    agent_constant_update = Bandit_Agent(bandit = agent_constant_update_bandit) # Creating a new agent for this epsilon\n",
    "    print(f\"Doing epsilons[{i}] = {epsilons[i]} ...\")\n",
    "    for e in range(0,EPOCHS):\n",
    "        #epsilon_greedy_constant_rewards[i] = agent_constant_update.epsilon_greedy_constant_update(epsilon=e, alpha=0.1) # Reading e from the outer for loop\n",
    "        current_reward = agent_constant_update.epsilon_greedy_constant_update(epsilon=epsilons[i], alpha=0.1) # epsilons[i] sets the epsilon\n",
    "        if e >= epochs_for_average_last_rewards:\n",
    "            average_rewards[i] += current_reward\n",
    "    average_rewards[i] /= epochs_for_average_last_rewards\n",
    "    print(f\"The average reward of epsilons[{i}] = {epsilons[i]} is equal to {average_rewards[i]}\")\n",
    "etime = time.time()\n",
    "print(\"It took {} seconds to run this cell\".format(etime - stime))"
   ]
  },
  {
   "cell_type": "code",
   "execution_count": 4,
   "metadata": {},
   "outputs": [
    {
     "name": "stdout",
     "output_type": "stream",
     "text": [
      "Max value occurs with epsilon = 0.125\n"
     ]
    },
    {
     "data": {
      "text/plain": [
       "array([4.89225848, 5.99178068, 4.08032116, 3.91208696, 4.93387766,\n",
       "       6.13111983, 3.18632519, 2.95800564, 2.5062785 ])"
      ]
     },
     "execution_count": 4,
     "metadata": {},
     "output_type": "execute_result"
    }
   ],
   "source": [
    "print(f\"Max value occurs with epsilon = {epsilons[np.argmax(average_rewards)]}\")\n",
    "\n",
    "average_rewards"
   ]
  },
  {
   "cell_type": "code",
   "execution_count": 5,
   "metadata": {},
   "outputs": [
    {
     "data": {
      "image/png": "[encoded data removed]",
      "text/plain": [
       "<Figure size 432x288 with 1 Axes>"
      ]
     },
     "metadata": {},
     "output_type": "display_data"
    }
   ],
   "source": [
    "import matplotlib.pyplot as plt\n",
    "%matplotlib inline\n",
    "\n",
    "x = np.arange(0, len(epsilons))\n",
    "parameter_study_plot, = plt.plot(np.log(epsilons[x]),average_rewards[x])\n",
    "plt.xlabel(\"Log of epsilon values\")\n",
    "plt.ylabel(\"Average Rewards\\nOver the last\\n100,000 epochs\")\n",
    "plt.xticks(np.log(epsilons[x]),[\"1/256\", \"1/128\", \"1/64\", \"1/32\", \"1/16\", \"1/8\", \"1/4\", \"1/2\", \"1\"])\n",
    "plt.legend([parameter_study_plot],[\"Parameter Study of epsilons\"])\n",
    "plt.show()"
   ]
  },
  {
   "cell_type": "markdown",
   "metadata": {},
   "source": [
    "After different experiments, we came to this conclusion that the optimal $\\epsilon$ ($\\epsilon^{*}$) fluctuates in this interval $[0.1, 0.5]$.\n"
   ]
  },
  {
   "cell_type": "markdown",
   "metadata": {},
   "source": [
    "## Enhancement 1: ## \n",
    "##### To better observe the behavior of the constant update algorithm using different epsilons ($\\epsilon$), we run 200 different experiments and average over all of them and chart the result. #####"
   ]
  },
  {
   "cell_type": "code",
   "execution_count": 6,
   "metadata": {},
   "outputs": [
    {
     "name": "stdout",
     "output_type": "stream",
     "text": [
      "The epsilons[0] = 0.00390625 began.\n",
      "The epsilons[0] = 0.00390625 finished.\n",
      "The epsilons[1] = 0.0078125 began.\n",
      "The epsilons[1] = 0.0078125 finished.\n",
      "The epsilons[2] = 0.015625 began.\n",
      "The epsilons[2] = 0.015625 finished.\n",
      "The epsilons[3] = 0.03125 began.\n",
      "The epsilons[3] = 0.03125 finished.\n",
      "The epsilons[4] = 0.0625 began.\n",
      "The epsilons[4] = 0.0625 finished.\n",
      "The epsilons[5] = 0.125 began.\n",
      "The epsilons[5] = 0.125 finished.\n",
      "The epsilons[6] = 0.25 began.\n",
      "The epsilons[6] = 0.25 finished.\n",
      "The epsilons[7] = 0.5 began.\n",
      "The epsilons[7] = 0.5 finished.\n",
      "The epsilons[8] = 1.0 began.\n",
      "The epsilons[8] = 1.0 finished.\n",
      "It took 1801.7438781261444 seconds to run this cell\n"
     ]
    }
   ],
   "source": [
    "import time\n",
    "\n",
    "agent_constant_update_bandit = Bandit() \n",
    "#agent_constant_update = Bandit_Agent(bandit = agent_constant_update_bandit) # Moved them before the second for loop, to be honest don't know how it worked before!\n",
    "\n",
    "RUNS = 20\n",
    "EPOCHS  = 200000\n",
    "epochs_for_average_last_rewards = int(EPOCHS / 2) #= 100000  \n",
    "epsilons = np.array([1/256, 1/128, 1/64, 1/32, 1/16, 1/8, 1/4, 1/2, 1])\n",
    "average_rewards = np.zeros((RUNS, epsilons.shape[0]))\n",
    "\n",
    "stime = time.time()\n",
    "for epsilon in range(len(epsilons)):\n",
    "    print(f\"The epsilons[{epsilon}] = {epsilons[epsilon]} began.\")\n",
    "    for run in range(0, RUNS):\n",
    "        agent_constant_update_bandit.reset() # Resetting the bandit to its initial values\n",
    "        agent_constant_update = Bandit_Agent(bandit = agent_constant_update_bandit) # Creating a new agent for this epsilon\n",
    "        #print(f\"Doing Run #{run} epsilons[{epsilon}] = {epsilons[epsilon]} ...\")\n",
    "        for e in range(0,EPOCHS):\n",
    "            #epsilon_greedy_constant_rewards[i] = agent_constant_update.epsilon_greedy_constant_update(epsilon=e, alpha=0.1) # Reading e from the outer for loop\n",
    "            current_reward = agent_constant_update.epsilon_greedy_constant_update(epsilon=epsilons[epsilon], alpha=0.1) # epsilons[i] sets the epsilon\n",
    "            if e >= epochs_for_average_last_rewards:\n",
    "                average_rewards[run, epsilon] += current_reward\n",
    "        average_rewards[run, epsilon] /= epochs_for_average_last_rewards\n",
    "    print(f\"The epsilons[{epsilon}] = {epsilons[epsilon]} finished.\")\n",
    "etime = time.time()\n",
    "print(\"It took {} seconds to run this cell\".format(etime - stime))"
   ]
  },
  {
   "cell_type": "code",
   "execution_count": 7,
   "metadata": {},
   "outputs": [
    {
     "name": "stdout",
     "output_type": "stream",
     "text": [
      "[4.602267   4.69538368 5.27616292 4.76390275 4.8934401  4.32619444\n",
      " 3.62833651 3.17402659 1.02079015]\n",
      "[1.05429052 1.0459213  1.09346555 0.98762462 0.7416164  1.22613249\n",
      " 1.21971001 0.74223447 0.59880912]\n"
     ]
    }
   ],
   "source": [
    "# Processing collected rewards for chart\n",
    "\n",
    "average_rewards_mean = np.zeros(len(epsilons))\n",
    "average_rewards_std = np.zeros(len(epsilons))\n",
    "\n",
    "for epsilon in range(len(epsilons)):\n",
    "    average_rewards_mean[epsilon] = average_rewards[0:RUNS, epsilon].mean()\n",
    "    average_rewards_std[epsilon] = average_rewards[0:RUNS, epsilon].std()\n",
    "    \n",
    "print(average_rewards_mean)\n",
    "print(average_rewards_std)"
   ]
  },
  {
   "cell_type": "code",
   "execution_count": 8,
   "metadata": {},
   "outputs": [
    {
     "name": "stderr",
     "output_type": "stream",
     "text": [
      "C:\\Users\\farha\\Anaconda3\\lib\\site-packages\\matplotlib\\figure.py:445: UserWarning: Matplotlib is currently using module://ipykernel.pylab.backend_inline, which is a non-GUI backend, so cannot show the figure.\n",
      "  % get_backend())\n"
     ]
    },
    {
     "data": {
      "image/png": "[encoded data removed]",
      "text/plain": [
       "<Figure size 432x288 with 1 Axes>"
      ]
     },
     "metadata": {},
     "output_type": "display_data"
    }
   ],
   "source": [
    "import matplotlib.pyplot as plt\n",
    "%matplotlib inline\n",
    "# Charting them\n",
    "x = np.arange(0, len(epsilons))\n",
    "fig, ax = plt.subplots(1)\n",
    "ax.plot(x, average_rewards_mean, lw=1, label='Constant Updates With different Epsilons', color='blue', ls='-')\n",
    "ax.fill_between(x, average_rewards_mean - average_rewards_std, # Lower bound\n",
    "                average_rewards_mean + average_rewards_std, # Upper bound\n",
    "                facecolor='blue', alpha=0.1)\n",
    "ax.legend(loc='lower center')\n",
    "\n",
    "ax.set_xlabel('Steps')\n",
    "ax.set_ylabel('Average\\nRewards')\n",
    "ax.set_title(\"The average rewards are calculated between the mean-std and mean+std\")\n",
    "ax.set_xticklabels([\"null\", \"1/256\", \"1/128\", \"1/64\", \"1/32\", \"1/16\", \"1/8\", \"1/4\", \"1/2\", \"1\"])\n",
    "ax.grid()\n",
    "fig.show()"
   ]
  },
  {
   "cell_type": "markdown",
   "metadata": {},
   "source": [
    "## Enhancement 2: ## \n",
    "##### To better observe the behavior of the constant update algorithm using different epsilons ($\\epsilon$) and its interplay with different values of alpha ($\\alpha$), we run 2000 different experiments and average over all of them and chart the result in a 3D plot. #####"
   ]
  },
  {
   "cell_type": "code",
   "execution_count": 12,
   "metadata": {},
   "outputs": [
    {
     "name": "stdout",
     "output_type": "stream",
     "text": [
      "The alphas[0] = 0.00390625 began.\n",
      "\tThe epsilons[0] = 0.00390625 began.\n",
      "\tThe epsilons[1] = 0.0078125 began.\n",
      "\tThe epsilons[2] = 0.015625 began.\n",
      "\tThe epsilons[3] = 0.03125 began.\n",
      "\tThe epsilons[4] = 0.0625 began.\n",
      "\tThe epsilons[5] = 0.125 began.\n",
      "\tThe epsilons[6] = 0.25 began.\n",
      "\tThe epsilons[7] = 0.5 began.\n",
      "\tThe epsilons[8] = 1.0 began.\n",
      "The alphas[1] = 0.0078125 began.\n",
      "\tThe epsilons[0] = 0.00390625 began.\n",
      "\tThe epsilons[1] = 0.0078125 began.\n",
      "\tThe epsilons[2] = 0.015625 began.\n",
      "\tThe epsilons[3] = 0.03125 began.\n",
      "\tThe epsilons[4] = 0.0625 began.\n",
      "\tThe epsilons[5] = 0.125 began.\n",
      "\tThe epsilons[6] = 0.25 began.\n",
      "\tThe epsilons[7] = 0.5 began.\n",
      "\tThe epsilons[8] = 1.0 began.\n",
      "The alphas[2] = 0.015625 began.\n",
      "\tThe epsilons[0] = 0.00390625 began.\n",
      "\tThe epsilons[1] = 0.0078125 began.\n",
      "\tThe epsilons[2] = 0.015625 began.\n",
      "\tThe epsilons[3] = 0.03125 began.\n",
      "\tThe epsilons[4] = 0.0625 began.\n",
      "\tThe epsilons[5] = 0.125 began.\n",
      "\tThe epsilons[6] = 0.25 began.\n",
      "\tThe epsilons[7] = 0.5 began.\n",
      "\tThe epsilons[8] = 1.0 began.\n",
      "The alphas[3] = 0.03125 began.\n",
      "\tThe epsilons[0] = 0.00390625 began.\n",
      "\tThe epsilons[1] = 0.0078125 began.\n",
      "\tThe epsilons[2] = 0.015625 began.\n",
      "\tThe epsilons[3] = 0.03125 began.\n",
      "\tThe epsilons[4] = 0.0625 began.\n",
      "\tThe epsilons[5] = 0.125 began.\n",
      "\tThe epsilons[6] = 0.25 began.\n",
      "\tThe epsilons[7] = 0.5 began.\n",
      "\tThe epsilons[8] = 1.0 began.\n",
      "The alphas[4] = 0.0625 began.\n",
      "\tThe epsilons[0] = 0.00390625 began.\n",
      "\tThe epsilons[1] = 0.0078125 began.\n",
      "\tThe epsilons[2] = 0.015625 began.\n",
      "\tThe epsilons[3] = 0.03125 began.\n",
      "\tThe epsilons[4] = 0.0625 began.\n",
      "\tThe epsilons[5] = 0.125 began.\n",
      "\tThe epsilons[6] = 0.25 began.\n",
      "\tThe epsilons[7] = 0.5 began.\n",
      "\tThe epsilons[8] = 1.0 began.\n",
      "The alphas[5] = 0.125 began.\n",
      "\tThe epsilons[0] = 0.00390625 began.\n",
      "\tThe epsilons[1] = 0.0078125 began.\n",
      "\tThe epsilons[2] = 0.015625 began.\n",
      "\tThe epsilons[3] = 0.03125 began.\n",
      "\tThe epsilons[4] = 0.0625 began.\n",
      "\tThe epsilons[5] = 0.125 began.\n",
      "\tThe epsilons[6] = 0.25 began.\n",
      "\tThe epsilons[7] = 0.5 began.\n",
      "\tThe epsilons[8] = 1.0 began.\n",
      "The alphas[6] = 0.25 began.\n",
      "\tThe epsilons[0] = 0.00390625 began.\n",
      "\tThe epsilons[1] = 0.0078125 began.\n",
      "\tThe epsilons[2] = 0.015625 began.\n",
      "\tThe epsilons[3] = 0.03125 began.\n",
      "\tThe epsilons[4] = 0.0625 began.\n",
      "\tThe epsilons[5] = 0.125 began.\n",
      "\tThe epsilons[6] = 0.25 began.\n",
      "\tThe epsilons[7] = 0.5 began.\n",
      "\tThe epsilons[8] = 1.0 began.\n",
      "The alphas[7] = 0.5 began.\n",
      "\tThe epsilons[0] = 0.00390625 began.\n",
      "\tThe epsilons[1] = 0.0078125 began.\n",
      "\tThe epsilons[2] = 0.015625 began.\n",
      "\tThe epsilons[3] = 0.03125 began.\n",
      "\tThe epsilons[4] = 0.0625 began.\n",
      "\tThe epsilons[5] = 0.125 began.\n",
      "\tThe epsilons[6] = 0.25 began.\n",
      "\tThe epsilons[7] = 0.5 began.\n",
      "\tThe epsilons[8] = 1.0 began.\n",
      "The alphas[8] = 1.0 began.\n",
      "\tThe epsilons[0] = 0.00390625 began.\n",
      "\tThe epsilons[1] = 0.0078125 began.\n",
      "\tThe epsilons[2] = 0.015625 began.\n",
      "\tThe epsilons[3] = 0.03125 began.\n",
      "\tThe epsilons[4] = 0.0625 began.\n",
      "\tThe epsilons[5] = 0.125 began.\n",
      "\tThe epsilons[6] = 0.25 began.\n",
      "\tThe epsilons[7] = 0.5 began.\n",
      "\tThe epsilons[8] = 1.0 began.\n",
      "It took 162.05866312980652 seconds to run this cell\n"
     ]
    }
   ],
   "source": [
    "import time\n",
    "\n",
    "agent_constant_update_bandit = Bandit() \n",
    "#agent_constant_update = Bandit_Agent(bandit = agent_constant_update_bandit) # Moved them before the second for loop, to be honest don't know how it worked before!\n",
    "\n",
    "RUNS = 20\n",
    "EPOCHS = 2000 #= 200000\n",
    "epochs_for_average_last_rewards = int(EPOCHS / 2) #= 100000\n",
    "alphas = np.array([1/256, 1/128, 1/64, 1/32, 1/16, 1/8, 1/4, 1/2, 1])\n",
    "epsilons = np.array([1/256, 1/128, 1/64, 1/32, 1/16, 1/8, 1/4, 1/2, 1])\n",
    "average_rewards = np.zeros((RUNS, epsilons.shape[0], alphas.shape[0]))\n",
    "\n",
    "stime = time.time()\n",
    "for alpha in range(len(alphas)):\n",
    "    print(f\"The alphas[{alpha}] = {alphas[alpha]} began.\")\n",
    "    for epsilon in range(len(epsilons)):\n",
    "        print(f\"\\tThe epsilons[{epsilon}] = {epsilons[epsilon]} began.\")\n",
    "        for run in range(0, RUNS):\n",
    "            agent_constant_update_bandit.reset() # Resetting the bandit to its initial values\n",
    "            agent_constant_update = Bandit_Agent(bandit = agent_constant_update_bandit) # Creating a new agent for this epsilon\n",
    "            #print(f\"Doing Run #{run} epsilons[{epsilon}] = {epsilons[epsilon]} ...\")\n",
    "            for e in range(0,EPOCHS):\n",
    "                #epsilon_greedy_constant_rewards[i] = agent_constant_update.epsilon_greedy_constant_update(epsilon=e, alpha=0.1) # Reading e from the outer for loop\n",
    "                current_reward = agent_constant_update.epsilon_greedy_constant_update(epsilon=epsilons[epsilon], alpha=alpha) # epsilons[i] sets the epsilon\n",
    "                if e >= epochs_for_average_last_rewards:\n",
    "                    average_rewards[run, epsilon, alpha] += current_reward\n",
    "            average_rewards[run, epsilon, alpha] /= epochs_for_average_last_rewards\n",
    "        #print(f\"The epsilons[{epsilon}] = {epsilons[epsilon]} finished.\")\n",
    "etime = time.time()\n",
    "print(\"It took {} seconds to run this cell\".format(etime - stime))"
   ]
  },
  {
   "cell_type": "code",
   "execution_count": 14,
   "metadata": {},
   "outputs": [],
   "source": [
    "# Processing collected rewards for chart\n",
    "\n",
    "average_rewards_mean = np.zeros((len(epsilons), len(alphas)))\n",
    "average_rewards_std = np.zeros((len(epsilons), len(alphas)))\n",
    "for alpha in range(len(alphas)):\n",
    "    for epsilon in range(len(epsilons)):\n",
    "        average_rewards_mean[epsilon, alpha] = average_rewards[0:RUNS, epsilon, alpha].mean()\n",
    "        average_rewards_std[epsilon, alpha] = average_rewards[0:RUNS, epsilon, alpha].std()"
   ]
  },
  {
   "cell_type": "code",
   "execution_count": 52,
   "metadata": {},
   "outputs": [
    {
     "name": "stdout",
     "output_type": "stream",
     "text": [
      "[[0 1 2 3 4 5 6 7 8]\n",
      " [0 1 2 3 4 5 6 7 8]\n",
      " [0 1 2 3 4 5 6 7 8]\n",
      " [0 1 2 3 4 5 6 7 8]\n",
      " [0 1 2 3 4 5 6 7 8]\n",
      " [0 1 2 3 4 5 6 7 8]\n",
      " [0 1 2 3 4 5 6 7 8]\n",
      " [0 1 2 3 4 5 6 7 8]\n",
      " [0 1 2 3 4 5 6 7 8]]\n"
     ]
    },
    {
     "ename": "IndexError",
     "evalue": "arrays used as indices must be of integer (or boolean) type",
     "output_type": "error",
     "traceback": [
      "\u001b[1;31m---------------------------------------------------------------------------\u001b[0m",
      "\u001b[1;31mIndexError\u001b[0m                                Traceback (most recent call last)",
      "\u001b[1;32m<ipython-input-52-38a8be01a718>\u001b[0m in \u001b[0;36m<module>\u001b[1;34m()\u001b[0m\n\u001b[0;32m     14\u001b[0m \u001b[0mX_r\u001b[0m\u001b[1;33m,\u001b[0m \u001b[0mY_r\u001b[0m \u001b[1;33m=\u001b[0m \u001b[0mnp\u001b[0m\u001b[1;33m.\u001b[0m\u001b[0mmeshgrid\u001b[0m\u001b[1;33m(\u001b[0m\u001b[0mnp\u001b[0m\u001b[1;33m.\u001b[0m\u001b[0marange\u001b[0m\u001b[1;33m(\u001b[0m\u001b[0mlen\u001b[0m\u001b[1;33m(\u001b[0m\u001b[0mX\u001b[0m\u001b[1;33m)\u001b[0m\u001b[1;33m)\u001b[0m\u001b[1;33m,\u001b[0m \u001b[0mnp\u001b[0m\u001b[1;33m.\u001b[0m\u001b[0marange\u001b[0m\u001b[1;33m(\u001b[0m\u001b[0mlen\u001b[0m\u001b[1;33m(\u001b[0m\u001b[0mY\u001b[0m\u001b[1;33m)\u001b[0m\u001b[1;33m)\u001b[0m\u001b[1;33m)\u001b[0m\u001b[1;33m\u001b[0m\u001b[0m\n\u001b[0;32m     15\u001b[0m \u001b[0mprint\u001b[0m\u001b[1;33m(\u001b[0m\u001b[0mX_r\u001b[0m\u001b[1;33m)\u001b[0m\u001b[1;33m\u001b[0m\u001b[0m\n\u001b[1;32m---> 16\u001b[1;33m \u001b[0mZ\u001b[0m \u001b[1;33m=\u001b[0m \u001b[0maverage_rewards_mean\u001b[0m\u001b[1;33m[\u001b[0m\u001b[0mX\u001b[0m\u001b[1;33m[\u001b[0m\u001b[0mX_r\u001b[0m\u001b[1;33m]\u001b[0m\u001b[1;33m,\u001b[0m \u001b[0mY\u001b[0m\u001b[1;33m[\u001b[0m\u001b[0mY_r\u001b[0m\u001b[1;33m]\u001b[0m\u001b[1;33m]\u001b[0m\u001b[1;33m\u001b[0m\u001b[0m\n\u001b[0m\u001b[0;32m     17\u001b[0m \u001b[1;31m#Z_max = average_rewards_mean[X_r, Y_r] + average_rewards_std[X_r, Y_r]\u001b[0m\u001b[1;33m\u001b[0m\u001b[1;33m\u001b[0m\u001b[0m\n\u001b[0;32m     18\u001b[0m \u001b[1;31m#Z_min = average_rewards_mean[X_r, Y_r] - average_rewards_std[X_r, Y_r]\u001b[0m\u001b[1;33m\u001b[0m\u001b[1;33m\u001b[0m\u001b[0m\n",
      "\u001b[1;31mIndexError\u001b[0m: arrays used as indices must be of integer (or boolean) type"
     ]
    },
    {
     "data": {
      "image/png": "[encoded data removed]",
      "text/plain": [
       "<Figure size 432x288 with 1 Axes>"
      ]
     },
     "metadata": {},
     "output_type": "display_data"
    }
   ],
   "source": [
    "from mpl_toolkits.mplot3d import Axes3D\n",
    "\n",
    "import matplotlib.pyplot as plt\n",
    "from matplotlib import cm\n",
    "from matplotlib.ticker import LinearLocator, FormatStrFormatter\n",
    "\n",
    "fig = plt.figure()\n",
    "#ax = fig.gca(projection='3d')\n",
    "ax = plt.axes(projection='3d')\n",
    "\n",
    "# Make data.\n",
    "X = np.array([1/256, 1/128, 1/64, 1/32, 1/16, 1/8, 1/4, 1/2, 1]) # epsilon\n",
    "Y = np.array([1/256, 1/128, 1/64, 1/32, 1/16, 1/8, 1/4, 1/2, 1]) # alpha\n",
    "X_r, Y_r = np.meshgrid(np.arange(len(X)), np.arange(len(Y)))\n",
    "print(X_r)\n",
    "Z = average_rewards_mean[X[X_r], Y[Y_r]]\n",
    "#Z_max = average_rewards_mean[X_r, Y_r] + average_rewards_std[X_r, Y_r]\n",
    "#Z_min = average_rewards_mean[X_r, Y_r] - average_rewards_std[X_r, Y_r]\n",
    "\n",
    "# Plot the surface.\n",
    "#surf = ax.plot_surface(X, Y, Z, cmap=cm.coolwarm,\n",
    "#                       linewidth=0, antialiased=False)\n",
    "ax.plot_surface(X, Y, Z, cmap=cm.coolwarm, linewidth=0, color=\"blue\")\n",
    "#ax.plot_surface(X, Y, Z_max, cmap=cm.coolwarm, linewidth=0, color=\"red\")\n",
    "#ax.plot_surface(X, Y, Z_min, cmap=cm.coolwarm, linewidth=0, color=\"green\")\n",
    "\n",
    "# Customize the z axis.\n",
    "ax.set_zlim(0, 1.5)\n",
    "ax.set_xlabel(\"epsilons\")\n",
    "ax.set_ylabel(\"alphas\")\n",
    "ax.zaxis.set_major_locator(LinearLocator(10))\n",
    "ax.zaxis.set_major_formatter(FormatStrFormatter('%.02f'))\n",
    "\n",
    "# Add a color bar which maps values to colors.\n",
    "fig.colorbar(surf, shrink=0.5, aspect=5)\n",
    "plt.savefig(\"3d_plot.eps\", format=\"eps\")\n",
    "plt.show()"
   ]
  },
  {
   "cell_type": "code",
   "execution_count": null,
   "metadata": {
    "collapsed": true
   },
   "outputs": [],
   "source": []
  }
 ],
 "metadata": {
  "kernelspec": {
   "display_name": "Python 3",
   "language": "python",
   "name": "python3"
  },
  "language_info": {
   "codemirror_mode": {
    "name": "ipython",
    "version": 3
   },
   "file_extension": ".py",
   "mimetype": "text/x-python",
   "name": "python",
   "nbconvert_exporter": "python",
   "pygments_lexer": "ipython3",
   "version": "3.6.3"
  }
 },
 "nbformat": 4,
 "nbformat_minor": 2
}
