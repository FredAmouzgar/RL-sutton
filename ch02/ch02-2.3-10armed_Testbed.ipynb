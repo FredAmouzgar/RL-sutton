{
 "cells": [
  {
   "cell_type": "code",
   "execution_count": 1,
   "metadata": {},
   "outputs": [],
   "source": [
    "import numpy as np"
   ]
  },
  {
   "cell_type": "markdown",
   "metadata": {},
   "source": [
    "## Note\n",
    "**If we add a large number as a boosting reward to the forth element (0.4), the epsilon greedy method outperforms the greedy with a large margin.**"
   ]
  },
  {
   "cell_type": "code",
   "execution_count": 2,
   "metadata": {},
   "outputs": [],
   "source": [
    "def ten_armed_bandit(lever, k=10):\n",
    "    mu = [0.2, -0.8, 1.6, 0.4 + 2, 1.2, -1.4, -0.1, -1.1, 0.9, -0.5]\n",
    "    if lever < k and lever >= 0:\n",
    "        return np.random.normal(mu[lever], 1)\n",
    "    else:\n",
    "        raise Exception(f\"Number {lever} out of range\")"
   ]
  },
  {
   "cell_type": "markdown",
   "metadata": {},
   "source": [
    "# Bandit Algorithm:\n",
    "![Bandit Algorithm - Sutton's book (2018), Page 32](images/Bandit_alg.jpeg)\n",
    "\n",
    "# Here's how we know Q:\n",
    "\n",
    "<img src=\"images/Q_value.jpeg\" width=\"500px\" height=\"1000px\">"
   ]
  },
  {
   "cell_type": "code",
   "execution_count": 3,
   "metadata": {},
   "outputs": [],
   "source": [
    "class Bandit_Agent:\n",
    "    \n",
    "    def __init__(self):\n",
    "        self.action_values = np.zeros(10) # Q(a)\n",
    "        self.counts = np.zeros(10) # N(a)\n",
    "        self.iteration_number = 0\n",
    "        self.total_reward = 0\n",
    "        \n",
    "    def greedy_update(self):\n",
    "        self.iteration_number += 1\n",
    "        action_index = np.argmax(self.action_values) # Choose the best action\n",
    "        reward = ten_armed_bandit(action_index) # Get the reward from the bandit\n",
    "        self.total_reward += reward # Add the reward to the accumulated reward\n",
    "        self.counts[action_index] += 1 # Increment the number of that action\n",
    "        self.action_values[action_index] = self.action_values[action_index] + (reward - self.action_values[action_index])/self.counts[action_index]\n",
    "        return self.total_reward/self.iteration_number\n",
    "    \n",
    "    def epsilon_greedy_update(self, epsilon=0.01):\n",
    "        self.iteration_number += 1\n",
    "        if np.random.rand() > epsilon:\n",
    "            action_index = np.argmax(self.action_values) # Choose the best action\n",
    "        else:\n",
    "            action_index = np.random.randint(0,10) # Choose a random action\n",
    "        reward = ten_armed_bandit(action_index) # Get the reward from the bandit\n",
    "        self.total_reward += reward # Add the reward to the accumulated reward\n",
    "        self.counts[action_index] += 1 # Increment the number of that action\n",
    "        self.action_values[action_index] = self.action_values[action_index] + (reward - self.action_values[action_index])/self.counts[action_index]\n",
    "        return self.total_reward/self.iteration_number\n",
    "        \n",
    "    def obj_print(self):\n",
    "        print(f\"{self.action_values},avg_reward={self.total_reward/self.iteration_number},best_action={self.best_action()}\")\n",
    "        \n",
    "    def best_action(self):\n",
    "        return np.max(self.action_values)"
   ]
  },
  {
   "cell_type": "code",
   "execution_count": 4,
   "metadata": {},
   "outputs": [],
   "source": [
    "a_greedy = Bandit_Agent()\n",
    "a_epsilon = Bandit_Agent()"
   ]
  },
  {
   "cell_type": "code",
   "execution_count": 5,
   "metadata": {},
   "outputs": [],
   "source": [
    "EPOCHS = 1000\n",
    "greedy_rewards = np.zeros(EPOCHS)\n",
    "epsilon_greedy_rewards = np.zeros(EPOCHS)\n",
    "for i in range(0,EPOCHS):\n",
    "    greedy_rewards[i] = a_greedy.greedy_update()\n",
    "    epsilon_greedy_rewards[i] = a_epsilon.epsilon_greedy_update(epsilon=0.1)"
   ]
  },
  {
   "cell_type": "code",
   "execution_count": 6,
   "metadata": {},
   "outputs": [
    {
     "name": "stdout",
     "output_type": "stream",
     "text": [
      "[-0.34988177 -0.35232369  1.62060302  0.          0.          0.\n",
      "  0.          0.          0.          0.        ],avg_reward=1.6166596059886922,best_action=1.6206030174839063\n"
     ]
    }
   ],
   "source": [
    "a_greedy.obj_print()"
   ]
  },
  {
   "cell_type": "code",
   "execution_count": 7,
   "metadata": {},
   "outputs": [
    {
     "name": "stdout",
     "output_type": "stream",
     "text": [
      "[ 0.02385641 -1.089149    1.34585091  2.4089453   0.74139961 -2.00179312\n",
      " -0.15045349 -1.20452674  0.91887287 -0.69452131],avg_reward=2.157627344337541,best_action=2.4089453004435644\n"
     ]
    }
   ],
   "source": [
    "a_epsilon.obj_print()"
   ]
  },
  {
   "cell_type": "code",
   "execution_count": 9,
   "metadata": {},
   "outputs": [
    {
     "data": {
      "image/png": "[encoded data removed]",
      "text/plain": [
       "<Figure size 432x288 with 1 Axes>"
      ]
     },
     "metadata": {},
     "output_type": "display_data"
    }
   ],
   "source": [
    "import matplotlib.pyplot as plt\n",
    "\n",
    "x = np.arange(0, EPOCHS)\n",
    "greedy_plot, = plt.plot(x,greedy_rewards[x])\n",
    "epsilog_greedy, = plt.plot(x,epsilon_greedy_rewards[x])\n",
    "plt.xlabel(\"Steps\")\n",
    "plt.ylabel(\"Average\\nRewards\")\n",
    "plt.legend([greedy_plot,epsilog_greedy],[\"Greedy Method\", \"Epsilon Greedy Method\"])\n",
    "plt.show()"
   ]
  },
  {
   "cell_type": "code",
   "execution_count": null,
   "metadata": {},
   "outputs": [],
   "source": []
  }
 ],
 "metadata": {
  "kernelspec": {
   "display_name": "Python 3",
   "language": "python",
   "name": "python3"
  },
  "language_info": {
   "codemirror_mode": {
    "name": "ipython",
    "version": 3
   },
   "file_extension": ".py",
   "mimetype": "text/x-python",
   "name": "python",
   "nbconvert_exporter": "python",
   "pygments_lexer": "ipython3",
   "version": "3.6.5"
  }
 },
 "nbformat": 4,
 "nbformat_minor": 2
}
