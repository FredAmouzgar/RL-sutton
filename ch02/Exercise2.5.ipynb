{
 "cells": [
  {
   "cell_type": "markdown",
   "metadata": {},
   "source": [
    "# Exercise 2.5:\n",
    "![Exercise 2.5](images/Exercise2.5-Sutton.jpeg)"
   ]
  },
  {
   "cell_type": "code",
   "execution_count": 1,
   "metadata": {
    "collapsed": true
   },
   "outputs": [],
   "source": [
    "import numpy as np\n",
    "\n",
    "class Bandit:\n",
    "    \n",
    "    def __init__(self, mu = 1, k = 10):\n",
    "        \"\"\"\n",
    "        By default creates an array of size k and mean of 1 which represents the q*(a).\n",
    "        In every step it changes a little based on a random walk algorithm.\n",
    "        \"\"\"\n",
    "        self.Qstars = np.ones(k) * mu\n",
    "        #print(self.Qstars)\n",
    "        \n",
    "    def __step(self):\n",
    "        for i in range(0, len(self.Qstars)):\n",
    "            self.Qstars[i] += np.random.normal(0, 0.01)\n",
    "        #print(self.Qstars)\n",
    "            \n",
    "    def pull_a_bandit(self, lever):\n",
    "        if lever < len(self.Qstars) and lever >=0:\n",
    "            reward = np.random.normal(self.Qstars[lever], 1)\n",
    "            self.__step()\n",
    "            return reward\n",
    "        else:\n",
    "            raise Exception(f\"Number {lever} out of range\")\n",
    "            \n",
    "    def print_bandit_content(self):\n",
    "        print(self.Qstars)"
   ]
  },
  {
   "cell_type": "markdown",
   "metadata": {},
   "source": [
    "```python\n",
    "# The way to run the bandit\n",
    "bandit = Bandit()\n",
    "\n",
    "for i in range(1000):\n",
    "    x = bandit.pull_a_bandit(7)\n",
    "    print(\"x = \",x)\n",
    "    bandit.print_bandit_content()\n",
    "```"
   ]
  },
  {
   "cell_type": "code",
   "execution_count": 2,
   "metadata": {
    "collapsed": true
   },
   "outputs": [],
   "source": [
    "class Bandit_Agent:\n",
    "    \n",
    "    def __init__(self, bandit):\n",
    "        self.action_values = np.zeros(10) # Q(a)\n",
    "        self.counts = np.zeros(10) # N(a)\n",
    "        self.iteration_number = 0\n",
    "        self.total_reward = 0\n",
    "        self.bandit = bandit\n",
    "        \n",
    "    def greedy_update(self):\n",
    "        self.iteration_number += 1\n",
    "        action_index = np.argmax(self.action_values) # Choose the best action\n",
    "        reward = self.bandit.pull_a_bandit(action_index) # Get the reward from the bandit\n",
    "        self.total_reward += reward # Add the reward to the accumulated reward\n",
    "        self.counts[action_index] += 1 # Increment the number of that action\n",
    "        self.action_values[action_index] = self.action_values[action_index] + (reward - self.action_values[action_index])/self.counts[action_index]\n",
    "        return self.total_reward/self.iteration_number\n",
    "    \n",
    "    def epsilon_greedy_update(self, epsilon=0.01):\n",
    "        self.iteration_number += 1\n",
    "        if np.random.rand() > epsilon:\n",
    "            action_index = np.argmax(self.action_values) # Choose the best action\n",
    "        else:\n",
    "            action_index = np.random.randint(0,10) # Choose a random action\n",
    "        reward = self.bandit.pull_a_bandit(action_index) # Get the reward from the bandit\n",
    "        self.total_reward += reward # Add the reward to the accumulated reward\n",
    "        self.counts[action_index] += 1 # Increment the number of that action\n",
    "        self.action_values[action_index] = self.action_values[action_index] + (reward - self.action_values[action_index])/self.counts[action_index]\n",
    "        return self.total_reward/self.iteration_number\n",
    "    \n",
    "    def epsilon_greedy_constant_update(self, epsilon=0.1, alpha=0.1):\n",
    "        self.iteration_number += 1\n",
    "        if np.random.rand() > epsilon:\n",
    "            action_index = np.argmax(self.action_values) # Choose the best action\n",
    "        else:\n",
    "            action_index = np.random.randint(0,10) # Choose a random action\n",
    "        reward = self.bandit.pull_a_bandit(action_index) # Get the reward from the bandit\n",
    "        self.total_reward += reward # Add the reward to the accumulated reward\n",
    "        self.counts[action_index] += 1 # Increment the number of that action\n",
    "        self.action_values[action_index] = self.action_values[action_index] + alpha * (reward - self.action_values[action_index])\n",
    "        return self.total_reward/self.iteration_number\n",
    "        \n",
    "    def obj_print(self):\n",
    "        print(f\"{self.action_values},avg_reward={self.total_reward/self.iteration_number},best_action={self.best_action()}\")\n",
    "        \n",
    "    def best_action(self):\n",
    "        return np.max(self.action_values)"
   ]
  },
  {
   "cell_type": "code",
   "execution_count": 3,
   "metadata": {
    "collapsed": true
   },
   "outputs": [],
   "source": [
    "agent_greedy_bandit = Bandit()\n",
    "agent_greedy = Bandit_Agent(bandit = agent_greedy_bandit)\n",
    "\n",
    "agent_epsilon_bandit = Bandit()\n",
    "agent_epsilon = Bandit_Agent(bandit = agent_epsilon_bandit)\n",
    "\n",
    "agent_constant_update_bandit = Bandit()\n",
    "agent_constant_update = Bandit_Agent(bandit = agent_constant_update_bandit)\n",
    "\n",
    "EPOCHS = 10000\n",
    "greedy_rewards = np.zeros(EPOCHS)\n",
    "epsilon_greedy_rewards = np.zeros(EPOCHS)\n",
    "epsilon_greedy_constant_rewards = np.zeros(EPOCHS)\n",
    "for i in range(0,EPOCHS):\n",
    "    greedy_rewards[i] = agent_greedy.greedy_update()\n",
    "    epsilon_greedy_rewards[i] = agent_epsilon.epsilon_greedy_update(epsilon=0.1)\n",
    "    epsilon_greedy_constant_rewards[i] = agent_constant_update.epsilon_greedy_constant_update(epsilon=0.1, alpha=0.1)"
   ]
  },
  {
   "cell_type": "code",
   "execution_count": 4,
   "metadata": {},
   "outputs": [
    {
     "name": "stdout",
     "output_type": "stream",
     "text": [
      "[1.16471275 0.         0.         0.         0.         0.\n",
      " 0.         0.         0.         0.        ],avg_reward=1.1647127537155393,best_action=1.1647127537155477\n",
      "[0.47319347 0.39479877 1.01800633 0.71620168 0.85174259 0.31884649\n",
      " 0.21377111 2.01686392 1.01615836 0.52393892],avg_reward=1.2740730332968637,best_action=2.016863922446111\n",
      "[-0.10576477  1.81435722 -0.16459183  1.2271202   0.60460009 -0.58333646\n",
      "  1.08402169 -0.23903295  0.2325135  -0.15110368],avg_reward=1.2687301103871427,best_action=1.8143572209505239\n"
     ]
    }
   ],
   "source": [
    "agent_greedy.obj_print()\n",
    "agent_epsilon.obj_print()\n",
    "agent_constant_update.obj_print()"
   ]
  },
  {
   "cell_type": "code",
   "execution_count": 5,
   "metadata": {},
   "outputs": [
    {
     "data": {
      "image/png": "[encoded data removed]",
      "text/plain": [
       "<Figure size 432x288 with 1 Axes>"
      ]
     },
     "metadata": {},
     "output_type": "display_data"
    }
   ],
   "source": [
    "import matplotlib.pyplot as plt\n",
    "%matplotlib inline\n",
    "\n",
    "x = np.arange(0, EPOCHS)\n",
    "greedy_plot, = plt.plot(x,greedy_rewards[x])\n",
    "epsilog_greedy, = plt.plot(x,epsilon_greedy_rewards[x])\n",
    "epsilon_greedy_constant, = plt.plot(x,epsilon_greedy_constant_rewards[x])\n",
    "plt.xlabel(\"Steps\")\n",
    "plt.ylabel(\"Average\\nRewards\")\n",
    "plt.legend([greedy_plot,epsilog_greedy, epsilon_greedy_constant],[\"Greedy Method\", \"Epsilon Greedy Method\", \"Constant update\"])\n",
    "plt.show()"
   ]
  },
  {
   "cell_type": "code",
   "execution_count": 6,
   "metadata": {},
   "outputs": [
    {
     "name": "stdout",
     "output_type": "stream",
     "text": [
      "It took 3768.8736186027527 seconds to run this cell\n"
     ]
    }
   ],
   "source": [
    "# Averaging over a lot of Runs\n",
    "import time\n",
    "\n",
    "RUNS = 2000   # Following Sutton's example (stated under Figure 2.2)\n",
    "EPOCHS = 10000 # Initially 10000\n",
    "\n",
    "greedy_rewards = np.zeros((RUNS, EPOCHS))                 # For a_greedy\n",
    "epsilon_greedy_rewards = np.zeros((RUNS, EPOCHS))         # For a_epsilon\n",
    "epsilon_greedy_constant_rewards = np.zeros((RUNS, EPOCHS)) # For a_epsilon_constant\n",
    "\n",
    "stime = time.time()\n",
    "for i in range(0, RUNS):\n",
    "    agent_greedy_bandit = Bandit()\n",
    "    agent_greedy = Bandit_Agent(bandit = agent_greedy_bandit)\n",
    "\n",
    "    agent_epsilon_bandit = Bandit()\n",
    "    agent_epsilon = Bandit_Agent(bandit = agent_epsilon_bandit)\n",
    "\n",
    "    agent_constant_update_bandit = Bandit()\n",
    "    agent_constant_update = Bandit_Agent(bandit = agent_constant_update_bandit)\n",
    "    for j in range(0,EPOCHS):\n",
    "        greedy_rewards[i,j] = agent_greedy.greedy_update()\n",
    "        epsilon_greedy_rewards[i,j] = agent_epsilon.epsilon_greedy_update(epsilon=0.1)\n",
    "        epsilon_greedy_constant_rewards[i,j] = agent_constant_update.epsilon_greedy_constant_update(epsilon=0.1, alpha=0.1)\n",
    "etime = time.time()\n",
    "print(\"It took {} seconds to run this cell\".format(etime - stime))"
   ]
  },
  {
   "cell_type": "code",
   "execution_count": 7,
   "metadata": {
    "collapsed": true
   },
   "outputs": [],
   "source": [
    "# Processing collected rewards for chart\n",
    "\n",
    "greedy_rewards_mean = np.zeros(EPOCHS)\n",
    "greedy_rewards_std = np.zeros(EPOCHS)\n",
    "\n",
    "epsilon_greedy_rewards_mean = np.zeros(EPOCHS)\n",
    "epsilon_greedy_rewards_std = np.zeros(EPOCHS)\n",
    "\n",
    "epsilon_greedy_constant_rewards_mean = np.zeros(EPOCHS)\n",
    "epsilon_greedy_constant_rewards_std = np.zeros(EPOCHS)\n",
    "\n",
    "\n",
    "for ep in range(0,EPOCHS):\n",
    "    greedy_rewards_mean[ep] = greedy_rewards[0:RUNS, ep].mean()\n",
    "    greedy_rewards_std[ep] = greedy_rewards[0:RUNS, ep].std()\n",
    "\n",
    "    epsilon_greedy_rewards_mean[ep] = epsilon_greedy_rewards[0:RUNS, ep].mean()\n",
    "    epsilon_greedy_rewards_std[ep] = epsilon_greedy_rewards[0:RUNS, ep].std()\n",
    "\n",
    "    epsilon_greedy_constant_rewards_mean[ep] = epsilon_greedy_constant_rewards[0:RUNS, ep].mean()\n",
    "    epsilon_greedy_constant_rewards_std[ep] = epsilon_greedy_constant_rewards[0:RUNS, ep].std()"
   ]
  },
  {
   "cell_type": "code",
   "execution_count": 8,
   "metadata": {},
   "outputs": [
    {
     "name": "stderr",
     "output_type": "stream",
     "text": [
      "C:\\Users\\farha\\Anaconda3\\lib\\site-packages\\matplotlib\\figure.py:445: UserWarning: Matplotlib is currently using module://ipykernel.pylab.backend_inline, which is a non-GUI backend, so cannot show the figure.\n",
      "  % get_backend())\n"
     ]
    },
    {
     "data": {
      "image/png": "[encoded data removed]",
      "text/plain": [
       "<Figure size 432x288 with 1 Axes>"
      ]
     },
     "metadata": {},
     "output_type": "display_data"
    }
   ],
   "source": [
    "import matplotlib.pyplot as plt\n",
    "%matplotlib inline\n",
    "# Charting them\n",
    "x = np.arange(0, EPOCHS)\n",
    "fig, ax = plt.subplots(1)\n",
    "ax.plot(x, greedy_rewards_mean, lw=1, label='Greedy Method', color='blue', ls='-')\n",
    "ax.fill_between(x, greedy_rewards_mean - greedy_rewards_std, # Lower bound\n",
    "                greedy_rewards_mean + greedy_rewards_std, # Upper bound\n",
    "                facecolor='blue', alpha=0.1)\n",
    "ax.plot(x, epsilon_greedy_rewards_mean, lw=1, label='Epsilon Greedy (0.1) Method', color='red', ls='-')\n",
    "ax.fill_between(x, epsilon_greedy_rewards_mean - epsilon_greedy_rewards_std, # Lower bound\n",
    "                epsilon_greedy_rewards_mean + epsilon_greedy_rewards_std, # Upper bound\n",
    "                facecolor='red', alpha=0.5)\n",
    "ax.plot(x, epsilon_greedy_constant_rewards_mean, lw=1, label='Constant Update Method', color='green', ls='-')\n",
    "ax.fill_between(x, epsilon_greedy_constant_rewards_mean - epsilon_greedy_constant_rewards_std, # Lower bound\n",
    "                epsilon_greedy_constant_rewards_mean + epsilon_greedy_constant_rewards_std, # Upper bound\n",
    "                facecolor='green', alpha=0.5)\n",
    "ax.legend(loc='lower right')\n",
    "\n",
    "ax.set_xlabel('Steps')\n",
    "ax.set_ylabel('Average\\nRewards')\n",
    "ax.set_title(\"The rewards are calculated between the mean-std and mean+std\")\n",
    "ax.grid()\n",
    "fig.show()"
   ]
  },
  {
   "cell_type": "code",
   "execution_count": null,
   "metadata": {
    "collapsed": true
   },
   "outputs": [],
   "source": []
  }
 ],
 "metadata": {
  "kernelspec": {
   "display_name": "Python 3",
   "language": "python",
   "name": "python3"
  },
  "language_info": {
   "codemirror_mode": {
    "name": "ipython",
    "version": 3
   },
   "file_extension": ".py",
   "mimetype": "text/x-python",
   "name": "python",
   "nbconvert_exporter": "python",
   "pygments_lexer": "ipython3",
   "version": "3.6.5"
  }
 },
 "nbformat": 4,
 "nbformat_minor": 2
}
