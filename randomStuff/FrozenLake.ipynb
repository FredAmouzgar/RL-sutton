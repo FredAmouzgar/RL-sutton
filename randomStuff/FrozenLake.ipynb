{
 "cells": [
  {
   "cell_type": "code",
   "execution_count": 29,
   "metadata": {},
   "outputs": [],
   "source": [
    "import gym\n",
    "import numpy as np\n",
    "import matplotlib.pyplot as plt\n",
    "\n",
    "env = gym.make(\"FrozenLake-v0\")"
   ]
  },
  {
   "cell_type": "code",
   "execution_count": 39,
   "metadata": {},
   "outputs": [],
   "source": [
    "RUNS = 1000\n",
    "wins = 0\n",
    "wins_perc = []\n",
    "for episode in range(RUNS):\n",
    "    done = False\n",
    "    env.reset()\n",
    "    count = 0\n",
    "    while not done and count < 20:\n",
    "        count += 1\n",
    "        action = env.action_space.sample()\n",
    "        state, reward, done, info = env.step(action)\n",
    "        if done:\n",
    "            wins_perc.append(reward)\n",
    "        if reward == 1:\n",
    "            wins += 1\n",
    "            break"
   ]
  },
  {
   "cell_type": "code",
   "execution_count": 40,
   "metadata": {},
   "outputs": [
    {
     "data": {
      "text/plain": [
       "14"
      ]
     },
     "execution_count": 40,
     "metadata": {},
     "output_type": "execute_result"
    }
   ],
   "source": [
    "wins"
   ]
  },
  {
   "cell_type": "code",
   "execution_count": 41,
   "metadata": {},
   "outputs": [
    {
     "data": {
      "text/plain": [
       "[<matplotlib.lines.Line2D at 0x1f7a00ec6a0>]"
      ]
     },
     "execution_count": 41,
     "metadata": {},
     "output_type": "execute_result"
    },
    {
     "data": {
      "image/png": "[encoded data removed]",
      "text/plain": [
       "<Figure size 432x288 with 1 Axes>"
      ]
     },
     "metadata": {},
     "output_type": "display_data"
    }
   ],
   "source": [
    "%matplotlib inline\n",
    "plt.plot(wins_perc)"
   ]
  },
  {
   "cell_type": "markdown",
   "metadata": {},
   "source": [
    "## Deterministic Policy:"
   ]
  },
  {
   "cell_type": "code",
   "execution_count": 45,
   "metadata": {
    "collapsed": true
   },
   "outputs": [],
   "source": [
    "RUNS = 1000\n",
    "wins = 0\n",
    "wins_perc = []\n",
    "policy = [2,2,1,1,1,2]\n",
    "for episode in range(RUNS):\n",
    "    done = False\n",
    "    env.reset()\n",
    "    count = 0\n",
    "    while not done and count < 20:\n",
    "        if count < len(policy):\n",
    "            action = policy[count]\n",
    "        else:\n",
    "            action = env.action_space.sample()\n",
    "        state, reward, done, info = env.step(action)\n",
    "        count += 1\n",
    "        if done:\n",
    "            wins_perc.append(reward)\n",
    "        if reward == 1:\n",
    "            wins += 1\n",
    "            break"
   ]
  },
  {
   "cell_type": "code",
   "execution_count": 46,
   "metadata": {},
   "outputs": [
    {
     "data": {
      "text/plain": [
       "25"
      ]
     },
     "execution_count": 46,
     "metadata": {},
     "output_type": "execute_result"
    }
   ],
   "source": [
    "wins"
   ]
  },
  {
   "cell_type": "code",
   "execution_count": 47,
   "metadata": {},
   "outputs": [
    {
     "data": {
      "text/plain": [
       "[<matplotlib.lines.Line2D at 0x1f7a056ec18>]"
      ]
     },
     "execution_count": 47,
     "metadata": {},
     "output_type": "execute_result"
    },
    {
     "data": {
      "image/png": "[encoded data removed]",
      "text/plain": [
       "<Figure size 432x288 with 1 Axes>"
      ]
     },
     "metadata": {},
     "output_type": "display_data"
    }
   ],
   "source": [
    "%matplotlib inline\n",
    "plt.plot(wins_perc)"
   ]
  },
  {
   "cell_type": "markdown",
   "metadata": {},
   "source": [
    "# The Heroic Moment of Q-Learning"
   ]
  },
  {
   "cell_type": "code",
   "execution_count": 66,
   "metadata": {},
   "outputs": [
    {
     "ename": "SyntaxError",
     "evalue": "invalid syntax (<ipython-input-66-54a3bc84611e>, line 20)",
     "output_type": "error",
     "traceback": [
      "\u001b[1;36m  File \u001b[1;32m\"<ipython-input-66-54a3bc84611e>\"\u001b[1;36m, line \u001b[1;32m20\u001b[0m\n\u001b[1;33m    self.Q[state, action] = self.Q[state, action] + self.alpha * (reward + self.gamma * self.Q[new_state, np.argmax(self.Q[new_state, :])]) - self.Q[state, action])\u001b[0m\n\u001b[1;37m                                                                                                                                                                   ^\u001b[0m\n\u001b[1;31mSyntaxError\u001b[0m\u001b[1;31m:\u001b[0m invalid syntax\n"
     ]
    }
   ],
   "source": [
    "import numpy as np\n",
    "class Agent:\n",
    "    def __init__(self, state_size, action_size, initial_Q = 5, gamma = 0.9, alpha = 0.001, epsilon_max = 1.0, epsilon_min = 0.01):\n",
    "        self.gamma = gamma\n",
    "        self.alpha = alpha\n",
    "        self.epsilon_max = epsilon_max\n",
    "        self.epsilon_min = epsilon_min\n",
    "        self.epsilon_current = epsilon_max\n",
    "        self.Q = np.ones((state_size, action_size)) * initial_Q\n",
    "    def act(self, state, env):\n",
    "        if np.random.uniform() < self.epsilon_current:\n",
    "#             print(\"Passed here bf\")\n",
    "            action = env.action_space.sample()\n",
    "#             print(action)\n",
    "#             print(\"Passed here af\")\n",
    "        else:\n",
    "            action = np.argmax(self.Q[state,:])\n",
    "        return action\n",
    "    def update(self, state, action, reward , new_state):\n",
    "        self.Q[state, action] = self.Q[state, action] + self.alpha * (reward + self.gamma * self.Q[new_state, np.argmax(self.Q[new_state, :])]) - self.Q[state, action])\n",
    "    \n",
    "    def update_epsilon(self):\n",
    "        if self.epsilon_current > self.epsilon_min:\n",
    "            self.epsilon_current *= 0.99\n",
    "            return True\n",
    "        else:\n",
    "            return False\n",
    "\n",
    "\n",
    "import gym\n",
    "import numpy as np\n",
    "import matplotlib.pyplot as plt\n",
    "\n",
    "env = gym.make(\"FrozenLake-v0\")\n",
    "\n",
    "RUNS = 1000\n",
    "wins = 0\n",
    "wins_perc = []\n",
    "agent = Agent(state_size=env.observation_space.n, action_size=env.action_space.n)\n",
    "for episode in range(RUNS):\n",
    "    done = False\n",
    "    state = env.reset()\n",
    "    count = 0\n",
    "#     print(\"Episode {} started\".format(episode))\n",
    "    while not done and count < 50:\n",
    "        action = agent.act(state, env)\n",
    "        state, reward, done, info = env.step(action)\n",
    "        count += 1\n",
    "        if done:\n",
    "            wins_perc.append(reward)\n",
    "        if reward == 1:\n",
    "            wins += 1\n",
    "#             print(\"WINS:\", wins)\n",
    "            break\n",
    "    agent.update_epsilon()\n",
    "%matplotlib inline\n",
    "plt.plot(wins_perc)"
   ]
  },
  {
   "cell_type": "code",
   "execution_count": null,
   "metadata": {
    "collapsed": true
   },
   "outputs": [],
   "source": []
  }
 ],
 "metadata": {
  "kernelspec": {
   "display_name": "Python 3",
   "language": "python",
   "name": "python3"
  },
  "language_info": {
   "codemirror_mode": {
    "name": "ipython",
    "version": 3
   },
   "file_extension": ".py",
   "mimetype": "text/x-python",
   "name": "python",
   "nbconvert_exporter": "python",
   "pygments_lexer": "ipython3",
   "version": "3.6.3"
  }
 },
 "nbformat": 4,
 "nbformat_minor": 2
}
