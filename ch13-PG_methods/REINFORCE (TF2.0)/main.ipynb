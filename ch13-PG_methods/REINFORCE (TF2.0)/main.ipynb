{
 "cells": [
  {
   "cell_type": "markdown",
   "metadata": {},
   "source": [
    "# Implementing and Running REINFORCE (episodic)\n",
    "### Page 328, Sutton's book\n",
    "\n",
    "<img src=\"https://github.com/FredAmouzgar/RL-sutton/raw/master/ch13-PG_methods/REINFORCE%20(TF2.0)/images/Ch13_RL_Sutton-REINFORCE-PG_Control.jpg\" width=800>"
   ]
  },
  {
   "cell_type": "markdown",
   "metadata": {},
   "source": [
    "## Training CartPole Environment"
   ]
  },
  {
   "cell_type": "code",
   "execution_count": 1,
   "metadata": {},
   "outputs": [],
   "source": [
    "import gym\n",
    "import matplotlib.pyplot as plt\n",
    "import tensorflow as tf\n",
    "import tensorflow.keras as keras\n",
    "from agent import Agent\n",
    "from tqdm import tqdm\n",
    "\n",
    "%matplotlib inline"
   ]
  },
  {
   "cell_type": "code",
   "execution_count": 2,
   "metadata": {},
   "outputs": [
    {
     "name": "stdout",
     "output_type": "stream",
     "text": [
      "env.action_space.n: 2\n",
      "env.observation_space.shape: (4,)\n"
     ]
    }
   ],
   "source": [
    "env = gym.make(\"CartPole-v1\")\n",
    "agent = Agent(state_size=env.observation_space.shape[0], action_size=env.action_space.n, env_name=env.spec.id) #4 ,2\n",
    "\n",
    "print(f\"env.action_space.n: {env.action_space.n}\\nenv.observation_space.shape: {env.observation_space.shape}\")"
   ]
  },
  {
   "cell_type": "code",
   "execution_count": 3,
   "metadata": {},
   "outputs": [],
   "source": [
    "from time import sleep\n",
    "import numpy as np\n",
    "from IPython.display import clear_output\n",
    "\n",
    "def render(img, status=False, rewards=[], reward_chart=True):\n",
    "    message = \"Episode over\" if done else \"\"\n",
    "    if reward_chart:\n",
    "        fig, (ax1, ax2) = plt.subplots(1, 2)\n",
    "    else:\n",
    "        fig, ax1 = plt.subplots(1, 1)\n",
    "    ax1.axis(\"off\")\n",
    "    _ = ax1.imshow(img)\n",
    "    if reward_chart:\n",
    "        _ = ax2.plot(rewards)\n",
    "    \n",
    "    plt.title(message)\n",
    "    plt.show()\n",
    "    clear_output(wait=True)"
   ]
  },
  {
   "cell_type": "code",
   "execution_count": 4,
   "metadata": {
    "scrolled": true
   },
   "outputs": [
    {
     "name": "stderr",
     "output_type": "stream",
     "text": [
      "100%|████████████████████████████████████████████████████████████████████████████████| 500/500 [08:47<00:00,  1.06s/it]\n"
     ]
    }
   ],
   "source": [
    "episodes = 500\n",
    "\n",
    "all_rewards = []\n",
    "for i in tqdm(range(episodes)):\n",
    "    state = env.reset()\n",
    "    agent.new_episode()\n",
    "    done = False\n",
    "\n",
    "    rewards = []\n",
    "    while not done:\n",
    "        # TODO: Agent has to choose an action here\n",
    "        action = agent.act(state)\n",
    "        state_, reward, done, _ = env.step(action)\n",
    "        rewards.append(reward)\n",
    "        agent.learn(state, action,state_,reward,done)\n",
    "        if i % 100 == 0:\n",
    "            render(env.render(mode=\"rgb_array\"),status=done, rewards=all_rewards)\n",
    "        state = state_\n",
    "        if done:\n",
    "            if all_rewards != [] and np.max(all_rewards) < np.sum(rewards): # Saving the best performing model which\n",
    "                agent.save()                                                # achieved a reward more than all recorded by far\n",
    "            all_rewards.append(np.sum(rewards))\n",
    "env.close()"
   ]
  },
  {
   "cell_type": "code",
   "execution_count": 5,
   "metadata": {
    "scrolled": false
   },
   "outputs": [
    {
     "data": {
      "image/png": "[encoded data removed]",
      "text/plain": [
       "<Figure size 432x288 with 1 Axes>"
      ]
     },
     "metadata": {
      "needs_background": "light"
     },
     "output_type": "display_data"
    }
   ],
   "source": [
    "def get_average_rewards(all_rewards):\n",
    "    average_rewards = []\n",
    "    temp_rewards = []\n",
    "    for i in range(0,500):\n",
    "        temp_rewards.append(all_rewards[i])\n",
    "        if len(temp_rewards) > 100:\n",
    "            temp_rewards.pop(0)\n",
    "        average_rewards.append(np.mean(temp_rewards))\n",
    "    return average_rewards\n",
    "\n",
    "plt.plot(all_rewards)\n",
    "plt.plot(get_average_rewards(all_rewards))\n",
    "plt.show()"
   ]
  },
  {
   "cell_type": "markdown",
   "metadata": {},
   "source": [
    "# Watch a Smart Agent - CardPole (?)\n",
    "\n",
    "Not a very smart agent, though. It regularly backslides."
   ]
  },
  {
   "cell_type": "code",
   "execution_count": 6,
   "metadata": {},
   "outputs": [
    {
     "name": "stderr",
     "output_type": "stream",
     "text": [
      "100%|████████████████████████████████████████████████████████████████████████████████████| 2/2 [00:44<00:00, 22.02s/it]\n"
     ]
    }
   ],
   "source": [
    "import gym\n",
    "import matplotlib.pyplot as plt\n",
    "import tensorflow as tf\n",
    "import tensorflow.keras as keras\n",
    "from agent import Agent\n",
    "from tqdm import tqdm\n",
    "\n",
    "%matplotlib inline\n",
    "\n",
    "#######\n",
    "from time import sleep\n",
    "import numpy as np\n",
    "from IPython.display import clear_output\n",
    "\n",
    "def render(img, status=False, rewards=[], reward_chart=True):\n",
    "    message = \"Episode over\" if done else \"\"\n",
    "    if reward_chart:\n",
    "        fig, (ax1, ax2) = plt.subplots(1, 2)\n",
    "    else:\n",
    "        fig, ax1 = plt.subplots(1, 1)\n",
    "    ax1.axis(\"off\")\n",
    "    _ = ax1.imshow(img)\n",
    "    if reward_chart:\n",
    "        _ = ax2.plot(rewards)\n",
    "    \n",
    "    plt.title(message)\n",
    "    plt.show()\n",
    "    clear_output(wait=True)\n",
    "#########\n",
    "\n",
    "env = gym.make(\"CartPole-v1\")\n",
    "agent = Agent(state_size=4, action_size=2, env_name=env.spec.id)\n",
    "agent.load()\n",
    "\n",
    "episodes = 2\n",
    "\n",
    "all_rewards = []\n",
    "for i in tqdm(range(episodes)):\n",
    "    state = env.reset()\n",
    "    agent.new_episode()\n",
    "    done = False\n",
    "\n",
    "    rewards = []\n",
    "    while not done:\n",
    "        # TODO: Agent has to choose an action here\n",
    "        action = agent.act(state)\n",
    "        state_, reward, done, _ = env.step(action)\n",
    "        rewards.append(reward)\n",
    "        #agent.learn(state, action,state_,reward,done)\n",
    "        render(env.render(mode=\"rgb_array\"),status=done, rewards=all_rewards, reward_chart=False)\n",
    "        state = state_\n",
    "        if done:\n",
    "            all_rewards.append(np.sum(rewards))"
   ]
  },
  {
   "cell_type": "code",
   "execution_count": 7,
   "metadata": {
    "scrolled": true
   },
   "outputs": [
    {
     "data": {
      "image/png": "[encoded data removed]",
      "text/plain": [
       "<Figure size 432x288 with 1 Axes>"
      ]
     },
     "metadata": {
      "needs_background": "light"
     },
     "output_type": "display_data"
    }
   ],
   "source": [
    "_ = plt.plot(all_rewards)\n",
    "env.close()"
   ]
  },
  {
   "cell_type": "markdown",
   "metadata": {},
   "source": [
    "## Training LunarLander Environment"
   ]
  },
  {
   "cell_type": "code",
   "execution_count": 1,
   "metadata": {},
   "outputs": [
    {
     "name": "stdout",
     "output_type": "stream",
     "text": [
      "env.action_space.n: 4\n",
      "env.observation_space.shape: 8\n",
      "ENV Name: LunarLander-v2\n"
     ]
    }
   ],
   "source": [
    "import gym\n",
    "import matplotlib.pyplot as plt\n",
    "import tensorflow as tf\n",
    "import tensorflow.keras as keras\n",
    "from agent import Agent\n",
    "from tqdm import tqdm\n",
    "\n",
    "%matplotlib inline\n",
    "\n",
    "env = gym.make(\"LunarLander-v2\")\n",
    "agent = Agent(state_size=len(env.observation_space.high), action_size=env.action_space.n, env_name=env.spec.id) #8 ,4\n",
    "\n",
    "print(f\"env.action_space.n: {env.action_space.n}\\nenv.observation_space.shape: {len(env.observation_space.high)}\\nENV Name: {env.spec.id}\")"
   ]
  },
  {
   "cell_type": "code",
   "execution_count": null,
   "metadata": {},
   "outputs": [
    {
     "name": "stderr",
     "output_type": "stream",
     "text": [
      " 28%|██████████████████████▋                                                         | 142/500 [15:10<39:20,  6.59s/it]"
     ]
    }
   ],
   "source": [
    "from time import sleep\n",
    "import numpy as np\n",
    "from IPython.display import clear_output\n",
    "\n",
    "def render(img, status=False, rewards=[], reward_chart=True):\n",
    "    message = \"Episode over\" if done else \"\"\n",
    "    if reward_chart:\n",
    "        fig, (ax1, ax2) = plt.subplots(1, 2)\n",
    "    else:\n",
    "        fig, ax1 = plt.subplots(1, 1)\n",
    "    ax1.axis(\"off\")\n",
    "    _ = ax1.imshow(img)\n",
    "    if reward_chart:\n",
    "        _ = ax2.plot(rewards)\n",
    "    \n",
    "    plt.title(message)\n",
    "    plt.show()\n",
    "    clear_output(wait=True)\n",
    "    \n",
    "episodes = 500\n",
    "\n",
    "all_rewards = []\n",
    "for i in tqdm(range(episodes)):\n",
    "    state = env.reset()\n",
    "    agent.new_episode()\n",
    "    done = False\n",
    "\n",
    "    rewards = []\n",
    "    while not done:\n",
    "        # TODO: Agent has to choose an action here\n",
    "        action = agent.act(state)\n",
    "        state_, reward, done, _ = env.step(action)\n",
    "        rewards.append(reward)\n",
    "        agent.learn(state, action,state_,reward,done)\n",
    "        if i % 100 == 0:\n",
    "            render(env.render(mode=\"rgb_array\"),status=done, rewards=all_rewards)\n",
    "        state = state_\n",
    "        if done:\n",
    "            if all_rewards != [] and np.max(all_rewards) < np.sum(rewards):\n",
    "                agent.save()\n",
    "            all_rewards.append(np.sum(rewards))\n",
    "env.close()"
   ]
  },
  {
   "cell_type": "code",
   "execution_count": null,
   "metadata": {},
   "outputs": [],
   "source": [
    "def get_average_rewards(all_rewards):\n",
    "    average_rewards = []\n",
    "    temp_rewards = []\n",
    "    for i in range(0,500):\n",
    "        temp_rewards.append(all_rewards[i])\n",
    "        if len(temp_rewards) > 100:\n",
    "            temp_rewards.pop(0)\n",
    "        average_rewards.append(np.mean(temp_rewards))\n",
    "    return average_rewards\n",
    "\n",
    "plt.plot(all_rewards)\n",
    "plt.plot(get_average_rewards(all_rewards))\n",
    "plt.show()"
   ]
  },
  {
   "cell_type": "markdown",
   "metadata": {},
   "source": [
    "# Watch a Smart Agent (?) - LunarLander"
   ]
  },
  {
   "cell_type": "code",
   "execution_count": null,
   "metadata": {},
   "outputs": [],
   "source": [
    "import gym\n",
    "import matplotlib.pyplot as plt\n",
    "import tensorflow as tf\n",
    "import tensorflow.keras as keras\n",
    "from agent import Agent\n",
    "from tqdm import tqdm\n",
    "\n",
    "%matplotlib inline\n",
    "\n",
    "#######\n",
    "from time import sleep\n",
    "import numpy as np\n",
    "from IPython.display import clear_output\n",
    "\n",
    "def render(img, status=False, rewards=[], reward_chart=True):\n",
    "    message = \"Episode over\" if done else \"\"\n",
    "    if reward_chart:\n",
    "        fig, (ax1, ax2) = plt.subplots(1, 2)\n",
    "    else:\n",
    "        fig, ax1 = plt.subplots(1, 1)\n",
    "    ax1.axis(\"off\")\n",
    "    _ = ax1.imshow(img)\n",
    "    if reward_chart:\n",
    "        _ = ax2.plot(rewards)\n",
    "    \n",
    "    plt.title(message)\n",
    "    plt.show()\n",
    "    clear_output(wait=True)\n",
    "#########\n",
    "\n",
    "env = gym.make(\"LunarLander-v2\")\n",
    "agent = Agent(state_size=len(env.observation_space.high), action_size=env.action_space.n, env_name=env.spec.id)\n",
    "agent.load()\n",
    "\n",
    "episodes = 2\n",
    "\n",
    "all_rewards = []\n",
    "for i in tqdm(range(episodes)):\n",
    "    state = env.reset()\n",
    "    agent.new_episode()\n",
    "    done = False\n",
    "\n",
    "    rewards = []\n",
    "    while not done:\n",
    "        # TODO: Agent has to choose an action here\n",
    "        action = agent.act(state)\n",
    "        state_, reward, done, _ = env.step(action)\n",
    "        rewards.append(reward)\n",
    "        #agent.learn(state, action,state_,reward,done)\n",
    "        render(env.render(mode=\"rgb_array\"),status=done, rewards=all_rewards, reward_chart=False)\n",
    "        state = state_\n",
    "        if done:\n",
    "            all_rewards.append(np.sum(rewards))\n",
    "\n",
    "_ = plt.plot(all_rewards)\n",
    "env.close()"
   ]
  },
  {
   "cell_type": "markdown",
   "metadata": {},
   "source": [
    "<hr>\n",
    "<hr>\n",
    "<hr>\n",
    "<hr>\n",
    "<hr>\n",
    "<hr>\n",
    "<hr>\n",
    "<hr>\n",
    "<hr>\n",
    "\n",
    "# Some Tests Before Development:"
   ]
  },
  {
   "cell_type": "code",
   "execution_count": 3,
   "metadata": {},
   "outputs": [
    {
     "data": {
      "text/plain": [
       "<TimeLimit<LunarLander<LunarLander-v2>>>"
      ]
     },
     "execution_count": 3,
     "metadata": {},
     "output_type": "execute_result"
    }
   ],
   "source": [
    "import gym\n",
    "import matplotlib.pyplot as plt\n",
    "import tensorflow as tf\n",
    "import tensorflow.keras as keras\n",
    "from agent import Agent\n",
    "from tqdm import tqdm\n",
    "from agent import Agent\n",
    "\n",
    "#agent = Agent(state_size=4, action_size=2)\n",
    "env = gym.make(\"LunarLander-v2\")\n",
    "env"
   ]
  },
  {
   "cell_type": "code",
   "execution_count": 6,
   "metadata": {},
   "outputs": [
    {
     "name": "stdout",
     "output_type": "stream",
     "text": [
      "env.obs.n: 8 [-inf -inf -inf -inf -inf -inf -inf -inf]\n",
      "env.action_space.n 4\n"
     ]
    },
    {
     "data": {
      "text/plain": [
       "3"
      ]
     },
     "execution_count": 6,
     "metadata": {},
     "output_type": "execute_result"
    }
   ],
   "source": [
    "print(\"env.obs.n:\", len(env.observation_space.high), env.observation_space.low)\n",
    "print(\"env.action_space.n\", env.action_space.n)\n",
    "env.action_space.sample()"
   ]
  },
  {
   "cell_type": "code",
   "execution_count": 13,
   "metadata": {},
   "outputs": [
    {
     "data": {
      "text/plain": [
       "'CartPole-v1'"
      ]
     },
     "execution_count": 13,
     "metadata": {},
     "output_type": "execute_result"
    }
   ],
   "source": [
    "env.spec.id"
   ]
  },
  {
   "cell_type": "code",
   "execution_count": 4,
   "metadata": {
    "scrolled": true
   },
   "outputs": [
    {
     "name": "stdout",
     "output_type": "stream",
     "text": [
      "[-0.89592973  0.44419581  0.41372887]\n"
     ]
    },
    {
     "data": {
      "text/plain": [
       "(array([-0.91494179,  0.40358583,  0.89687573]), -7.207573732139825, False, {})"
      ]
     },
     "execution_count": 4,
     "metadata": {},
     "output_type": "execute_result"
    }
   ],
   "source": [
    "env = gym.make(\"Pendulum-v0\")\n",
    "#print(f\"env.action_space.n: {env.action_space.n}\\nenv.observation_space.shape: {env.observation_space.shape}\")\n",
    "s = env.reset()\n",
    "#env.render()\n",
    "print(s)\n",
    "env.step([1])"
   ]
  },
  {
   "cell_type": "code",
   "execution_count": 13,
   "metadata": {},
   "outputs": [
    {
     "data": {
      "text/plain": [
       "True"
      ]
     },
     "execution_count": 13,
     "metadata": {},
     "output_type": "execute_result"
    }
   ],
   "source": [
    "env.step([-2.5])\n",
    "env.render()"
   ]
  },
  {
   "cell_type": "code",
   "execution_count": 14,
   "metadata": {},
   "outputs": [],
   "source": [
    "env.close()"
   ]
  },
  {
   "cell_type": "code",
   "execution_count": null,
   "metadata": {},
   "outputs": [],
   "source": [
    "s = s.reshape(1,4)\n",
    "s = tf.convert_to_tensor(s, dtype=tf.float32)\n",
    "print(s.shape)\n",
    "print(s)\n",
    "\n",
    "action_probs = agent.actor(s)\n",
    "print(action_probs)\n",
    "\n",
    "agent.critic(s)"
   ]
  },
  {
   "cell_type": "code",
   "execution_count": null,
   "metadata": {},
   "outputs": [],
   "source": [
    "s = env.reset()\n",
    "agent.act(s)"
   ]
  },
  {
   "cell_type": "code",
   "execution_count": null,
   "metadata": {},
   "outputs": [],
   "source": [
    "for i in range(10):\n",
    "    print(tf.random.categorical(action_probs, 1))\n",
    "    print(agent.act(s))"
   ]
  },
  {
   "cell_type": "code",
   "execution_count": null,
   "metadata": {},
   "outputs": [],
   "source": [
    "action_probs"
   ]
  },
  {
   "cell_type": "code",
   "execution_count": null,
   "metadata": {},
   "outputs": [],
   "source": [
    "env.step(0)"
   ]
  },
  {
   "cell_type": "code",
   "execution_count": null,
   "metadata": {},
   "outputs": [],
   "source": [
    "1 - True"
   ]
  },
  {
   "cell_type": "code",
   "execution_count": null,
   "metadata": {},
   "outputs": [],
   "source": [
    "tf.__version__"
   ]
  },
  {
   "cell_type": "code",
   "execution_count": null,
   "metadata": {},
   "outputs": [],
   "source": [
    "import tensorflow_probability as tfp"
   ]
  },
  {
   "cell_type": "code",
   "execution_count": null,
   "metadata": {},
   "outputs": [],
   "source": [
    "dist = tfp.distributions.Categorical(probs=action_probs)"
   ]
  },
  {
   "cell_type": "code",
   "execution_count": null,
   "metadata": {},
   "outputs": [],
   "source": [
    "dist.log_prob(action)"
   ]
  },
  {
   "cell_type": "code",
   "execution_count": null,
   "metadata": {},
   "outputs": [],
   "source": [
    "weights = agent.critic.weights\n",
    "print(weights[3].shape)\n",
    "#for w in weights[0]:\n",
    "#    print(w)"
   ]
  },
  {
   "cell_type": "code",
   "execution_count": 1,
   "metadata": {},
   "outputs": [
    {
     "name": "stdout",
     "output_type": "stream",
     "text": [
      "env.action_space.n: 2\n",
      "env.observation_space.shape: (4,)\n"
     ]
    }
   ],
   "source": [
    "import gym\n",
    "import matplotlib.pyplot as plt\n",
    "import tensorflow as tf\n",
    "import tensorflow.keras as keras\n",
    "from agent import Agent\n",
    "from tqdm import tqdm\n",
    "\n",
    "%matplotlib inline\n",
    "\n",
    "env = gym.make(\"CartPole-v1\")\n",
    "agent = Agent(state_size=env.observation_space.shape[0], action_size=env.action_space.n, env=env, env_name=env.spec.id) #4 ,2\n",
    "\n",
    "print(f\"env.action_space.n: {env.action_space.n}\\nenv.observation_space.shape: {env.observation_space.shape}\")"
   ]
  },
  {
   "cell_type": "code",
   "execution_count": 2,
   "metadata": {},
   "outputs": [],
   "source": [
    "r, log_probs = agent.generate_episode(max_step=300)"
   ]
  },
  {
   "cell_type": "code",
   "execution_count": 3,
   "metadata": {},
   "outputs": [
    {
     "ename": "ValueError",
     "evalue": "No gradients provided for any variable: ['dense/kernel:0', 'dense/bias:0', 'dense_1/kernel:0', 'dense_1/bias:0', 'dense_2/kernel:0', 'dense_2/bias:0'].",
     "output_type": "error",
     "traceback": [
      "\u001b[1;31m---------------------------------------------------------------------------\u001b[0m",
      "\u001b[1;31mValueError\u001b[0m                                Traceback (most recent call last)",
      "\u001b[1;32m<ipython-input-3-0f44571ad630>\u001b[0m in \u001b[0;36m<module>\u001b[1;34m\u001b[0m\n\u001b[1;32m----> 1\u001b[1;33m \u001b[0magent\u001b[0m\u001b[1;33m.\u001b[0m\u001b[0mlearn\u001b[0m\u001b[1;33m(\u001b[0m\u001b[0mr\u001b[0m\u001b[1;33m,\u001b[0m \u001b[0mlog_probs\u001b[0m\u001b[1;33m)\u001b[0m\u001b[1;33m\u001b[0m\u001b[1;33m\u001b[0m\u001b[0m\n\u001b[0m",
      "\u001b[1;32m~\\Desktop\\github\\RL-sutton\\ch13-PG_methods\\REINFORCE (TF2.0)\\agent.py\u001b[0m in \u001b[0;36mlearn\u001b[1;34m(self, rewards, log_probs)\u001b[0m\n\u001b[0;32m     59\u001b[0m                 \u001b[0mloss\u001b[0m \u001b[1;33m=\u001b[0m \u001b[1;33m-\u001b[0m\u001b[1;36m1\u001b[0m \u001b[1;33m*\u001b[0m \u001b[0mself\u001b[0m\u001b[1;33m.\u001b[0m\u001b[0malpha\u001b[0m \u001b[1;33m*\u001b[0m \u001b[1;33m(\u001b[0m\u001b[0mself\u001b[0m\u001b[1;33m.\u001b[0m\u001b[0mgamma\u001b[0m \u001b[1;33m**\u001b[0m \u001b[0mi\u001b[0m\u001b[1;33m)\u001b[0m \u001b[1;33m*\u001b[0m \u001b[0mtf\u001b[0m\u001b[1;33m.\u001b[0m\u001b[0mconvert_to_tensor\u001b[0m\u001b[1;33m(\u001b[0m\u001b[0mG\u001b[0m\u001b[1;33m)\u001b[0m\u001b[1;33m\u001b[0m\u001b[1;33m\u001b[0m\u001b[0m\n\u001b[0;32m     60\u001b[0m                 \u001b[0mgradients\u001b[0m \u001b[1;33m=\u001b[0m \u001b[0mtape\u001b[0m\u001b[1;33m.\u001b[0m\u001b[0mgradient\u001b[0m\u001b[1;33m(\u001b[0m\u001b[0mloss\u001b[0m\u001b[1;33m,\u001b[0m \u001b[0mself\u001b[0m\u001b[1;33m.\u001b[0m\u001b[0mpolicy\u001b[0m\u001b[1;33m.\u001b[0m\u001b[0mtrainable_variables\u001b[0m\u001b[1;33m)\u001b[0m\u001b[1;33m\u001b[0m\u001b[1;33m\u001b[0m\u001b[0m\n\u001b[1;32m---> 61\u001b[1;33m             \u001b[0mself\u001b[0m\u001b[1;33m.\u001b[0m\u001b[0moptim\u001b[0m\u001b[1;33m.\u001b[0m\u001b[0mapply_gradients\u001b[0m\u001b[1;33m(\u001b[0m\u001b[0mzip\u001b[0m\u001b[1;33m(\u001b[0m\u001b[0mgradients\u001b[0m\u001b[1;33m,\u001b[0m \u001b[0mself\u001b[0m\u001b[1;33m.\u001b[0m\u001b[0mpolicy\u001b[0m\u001b[1;33m.\u001b[0m\u001b[0mtrainable_variables\u001b[0m\u001b[1;33m)\u001b[0m\u001b[1;33m)\u001b[0m\u001b[1;33m\u001b[0m\u001b[1;33m\u001b[0m\u001b[0m\n\u001b[0m\u001b[0;32m     62\u001b[0m \u001b[1;33m\u001b[0m\u001b[0m\n\u001b[0;32m     63\u001b[0m \u001b[1;33m\u001b[0m\u001b[0m\n",
      "\u001b[1;32mC:\\ProgramData\\Anaconda3\\lib\\site-packages\\tensorflow_core\\python\\keras\\optimizer_v2\\optimizer_v2.py\u001b[0m in \u001b[0;36mapply_gradients\u001b[1;34m(self, grads_and_vars, name)\u001b[0m\n\u001b[0;32m    424\u001b[0m       \u001b[0mValueError\u001b[0m\u001b[1;33m:\u001b[0m \u001b[0mIf\u001b[0m \u001b[0mnone\u001b[0m \u001b[0mof\u001b[0m \u001b[0mthe\u001b[0m \u001b[0mvariables\u001b[0m \u001b[0mhave\u001b[0m \u001b[0mgradients\u001b[0m\u001b[1;33m.\u001b[0m\u001b[1;33m\u001b[0m\u001b[1;33m\u001b[0m\u001b[0m\n\u001b[0;32m    425\u001b[0m     \"\"\"\n\u001b[1;32m--> 426\u001b[1;33m     \u001b[0mgrads_and_vars\u001b[0m \u001b[1;33m=\u001b[0m \u001b[0m_filter_grads\u001b[0m\u001b[1;33m(\u001b[0m\u001b[0mgrads_and_vars\u001b[0m\u001b[1;33m)\u001b[0m\u001b[1;33m\u001b[0m\u001b[1;33m\u001b[0m\u001b[0m\n\u001b[0m\u001b[0;32m    427\u001b[0m     \u001b[0mvar_list\u001b[0m \u001b[1;33m=\u001b[0m \u001b[1;33m[\u001b[0m\u001b[0mv\u001b[0m \u001b[1;32mfor\u001b[0m \u001b[1;33m(\u001b[0m\u001b[0m_\u001b[0m\u001b[1;33m,\u001b[0m \u001b[0mv\u001b[0m\u001b[1;33m)\u001b[0m \u001b[1;32min\u001b[0m \u001b[0mgrads_and_vars\u001b[0m\u001b[1;33m]\u001b[0m\u001b[1;33m\u001b[0m\u001b[1;33m\u001b[0m\u001b[0m\n\u001b[0;32m    428\u001b[0m \u001b[1;33m\u001b[0m\u001b[0m\n",
      "\u001b[1;32mC:\\ProgramData\\Anaconda3\\lib\\site-packages\\tensorflow_core\\python\\keras\\optimizer_v2\\optimizer_v2.py\u001b[0m in \u001b[0;36m_filter_grads\u001b[1;34m(grads_and_vars)\u001b[0m\n\u001b[0;32m   1037\u001b[0m   \u001b[1;32mif\u001b[0m \u001b[1;32mnot\u001b[0m \u001b[0mfiltered\u001b[0m\u001b[1;33m:\u001b[0m\u001b[1;33m\u001b[0m\u001b[1;33m\u001b[0m\u001b[0m\n\u001b[0;32m   1038\u001b[0m     raise ValueError(\"No gradients provided for any variable: %s.\" %\n\u001b[1;32m-> 1039\u001b[1;33m                      ([v.name for _, v in grads_and_vars],))\n\u001b[0m\u001b[0;32m   1040\u001b[0m   \u001b[1;32mif\u001b[0m \u001b[0mvars_with_empty_grads\u001b[0m\u001b[1;33m:\u001b[0m\u001b[1;33m\u001b[0m\u001b[1;33m\u001b[0m\u001b[0m\n\u001b[0;32m   1041\u001b[0m     logging.warning(\n",
      "\u001b[1;31mValueError\u001b[0m: No gradients provided for any variable: ['dense/kernel:0', 'dense/bias:0', 'dense_1/kernel:0', 'dense_1/bias:0', 'dense_2/kernel:0', 'dense_2/bias:0']."
     ]
    }
   ],
   "source": [
    "agent.learn(r, log_probs)"
   ]
  },
  {
   "cell_type": "code",
   "execution_count": 3,
   "metadata": {},
   "outputs": [
    {
     "data": {
      "text/plain": [
       "[-0.69338566,\n",
       " -0.67613894,\n",
       " -0.65784746,\n",
       " -0.6393634,\n",
       " -0.7720389,\n",
       " -0.75152296,\n",
       " -0.73182464,\n",
       " -0.6738868,\n",
       " -0.6537732,\n",
       " -0.75708807,\n",
       " -0.6503558,\n",
       " -0.7617342,\n",
       " -0.7431185,\n",
       " -0.66346604,\n",
       " -0.7493002,\n",
       " -0.65752006,\n",
       " -0.75665784,\n",
       " -0.6507561,\n",
       " -0.6257417,\n",
       " -0.7932427]"
      ]
     },
     "execution_count": 3,
     "metadata": {},
     "output_type": "execute_result"
    }
   ],
   "source": [
    "log_probs"
   ]
  },
  {
   "cell_type": "code",
   "execution_count": 4,
   "metadata": {},
   "outputs": [
    {
     "name": "stdout",
     "output_type": "stream",
     "text": [
      "[1.0, 1.0, 1.0, 1.0, 1.0, 1.0, 1.0, 1.0, 1.0, 1.0, 1.0, 1.0, 1.0, 1.0, 1.0, 1.0, 1.0, 1.0, 1.0, 1.0]\n"
     ]
    }
   ],
   "source": [
    "print(r)"
   ]
  },
  {
   "cell_type": "code",
   "execution_count": 5,
   "metadata": {},
   "outputs": [
    {
     "data": {
      "text/plain": [
       "[1.0,\n",
       " 0.99,\n",
       " 0.9801,\n",
       " 0.970299,\n",
       " 0.96059601,\n",
       " 0.9509900498999999,\n",
       " 0.941480149401,\n",
       " 0.9320653479069899,\n",
       " 0.9227446944279201,\n",
       " 0.9135172474836408,\n",
       " 0.9043820750088044,\n",
       " 0.8953382542587164,\n",
       " 0.8863848717161292,\n",
       " 0.8775210229989678,\n",
       " 0.8687458127689782,\n",
       " 0.8600583546412884,\n",
       " 0.8514577710948755,\n",
       " 0.8429431933839268,\n",
       " 0.8345137614500875,\n",
       " 0.8261686238355866]"
      ]
     },
     "execution_count": 5,
     "metadata": {},
     "output_type": "execute_result"
    }
   ],
   "source": [
    "a = [0.99 ** i for i in range(len(r))]\n",
    "a"
   ]
  },
  {
   "cell_type": "code",
   "execution_count": 6,
   "metadata": {},
   "outputs": [
    {
     "data": {
      "text/plain": [
       "20"
      ]
     },
     "execution_count": 6,
     "metadata": {},
     "output_type": "execute_result"
    }
   ],
   "source": [
    "import numpy as np\n",
    "len(a)"
   ]
  },
  {
   "cell_type": "code",
   "execution_count": 7,
   "metadata": {},
   "outputs": [
    {
     "data": {
      "text/plain": [
       "array([1.        , 0.99      , 0.9801    , 0.970299  , 0.96059601,\n",
       "       0.95099005, 0.94148015, 0.93206535, 0.92274469, 0.91351725,\n",
       "       0.90438208, 0.89533825, 0.88638487, 0.87752102, 0.86874581,\n",
       "       0.86005835, 0.85145777, 0.84294319, 0.83451376, 0.82616862])"
      ]
     },
     "execution_count": 7,
     "metadata": {},
     "output_type": "execute_result"
    }
   ],
   "source": [
    "G = np.array(a) * np.array(r)\n",
    "G"
   ]
  },
  {
   "cell_type": "code",
   "execution_count": 8,
   "metadata": {},
   "outputs": [
    {
     "name": "stdout",
     "output_type": "stream",
     "text": [
      "18.20930624027691\n",
      "17.20930624027691\n",
      "16.21930624027691\n",
      "15.239206240276912\n",
      "14.268907240276912\n",
      "13.308311230276914\n",
      "12.357321180376914\n",
      "11.415841030975914\n",
      "10.483775683068924\n",
      "9.561030988641003\n",
      "8.64751374115736\n",
      "7.743131666148557\n",
      "6.847793411889841\n",
      "5.961408540173711\n",
      "5.083887517174743\n",
      "4.215141704405765\n",
      "3.3550833497644765\n",
      "2.503625578669601\n",
      "1.660682385285674\n",
      "0.8261686238355866\n"
     ]
    }
   ],
   "source": [
    "for i in range(len(G)):\n",
    "    print(G[i:].sum())"
   ]
  },
  {
   "cell_type": "code",
   "execution_count": null,
   "metadata": {},
   "outputs": [],
   "source": []
  }
 ],
 "metadata": {
  "kernelspec": {
   "display_name": "Python 3",
   "language": "python",
   "name": "python3"
  },
  "language_info": {
   "codemirror_mode": {
    "name": "ipython",
    "version": 3
   },
   "file_extension": ".py",
   "mimetype": "text/x-python",
   "name": "python",
   "nbconvert_exporter": "python",
   "pygments_lexer": "ipython3",
   "version": "3.7.4"
  }
 },
 "nbformat": 4,
 "nbformat_minor": 2
}
