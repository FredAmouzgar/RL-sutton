{
 "cells": [
  {
   "cell_type": "markdown",
   "metadata": {},
   "source": [
    "# Implementing and Running the One-step Actor-Critic (episodic)\n",
    "### Page 332, Sutton's book\n",
    "\n",
    "<img src=\"https://github.com/FredAmouzgar/RL-sutton/raw/master/ch13-PG_methods/One-step%20Actor-Critic%20(TF2.0)/images/Ch13_RL-Sutton_one-step-actor-critic.png\" width=800>"
   ]
  },
  {
   "cell_type": "markdown",
   "metadata": {},
   "source": [
    "## Training CartPole Environment"
   ]
  },
  {
   "cell_type": "code",
   "execution_count": 1,
   "metadata": {},
   "outputs": [],
   "source": [
    "import gym\n",
    "import matplotlib.pyplot as plt\n",
    "import tensorflow as tf\n",
    "import tensorflow.keras as keras\n",
    "from agent import Agent\n",
    "from tqdm import tqdm\n",
    "\n",
    "%matplotlib inline"
   ]
  },
  {
   "cell_type": "code",
   "execution_count": 2,
   "metadata": {},
   "outputs": [
    {
     "name": "stdout",
     "output_type": "stream",
     "text": [
      "env.action_space.n: 2\n",
      "env.observation_space.shape: (4,)\n"
     ]
    }
   ],
   "source": [
    "env = gym.make(\"CartPole-v1\")\n",
    "agent = Agent(state_size=env.observation_space.shape[0], action_size=env.action_space.n, env_name=env.spec.id) #4 ,2\n",
    "\n",
    "print(f\"env.action_space.n: {env.action_space.n}\\nenv.observation_space.shape: {env.observation_space.shape}\")"
   ]
  },
  {
   "cell_type": "code",
   "execution_count": 3,
   "metadata": {},
   "outputs": [],
   "source": [
    "from time import sleep\n",
    "import numpy as np\n",
    "from IPython.display import clear_output\n",
    "\n",
    "def render(img, status=False, rewards=[], reward_chart=True):\n",
    "    message = \"Episode over\" if done else \"\"\n",
    "    if reward_chart:\n",
    "        fig, (ax1, ax2) = plt.subplots(1, 2)\n",
    "    else:\n",
    "        fig, ax1 = plt.subplots(1, 1)\n",
    "    ax1.axis(\"off\")\n",
    "    _ = ax1.imshow(img)\n",
    "    if reward_chart:\n",
    "        _ = ax2.plot(rewards)\n",
    "    \n",
    "    plt.title(message)\n",
    "    plt.show()\n",
    "    clear_output(wait=True)"
   ]
  },
  {
   "cell_type": "code",
   "execution_count": 4,
   "metadata": {
    "scrolled": true
   },
   "outputs": [
    {
     "name": "stderr",
     "output_type": "stream",
     "text": [
      "100%|████████████████████████████████████████████████████████████████████████████████| 500/500 [08:47<00:00,  1.06s/it]\n"
     ]
    }
   ],
   "source": [
    "episodes = 500\n",
    "\n",
    "all_rewards = []\n",
    "for i in tqdm(range(episodes)):\n",
    "    state = env.reset()\n",
    "    agent.new_episode()\n",
    "    done = False\n",
    "\n",
    "    rewards = []\n",
    "    while not done:\n",
    "        # TODO: Agent has to choose an action here\n",
    "        action = agent.act(state)\n",
    "        state_, reward, done, _ = env.step(action)\n",
    "        rewards.append(reward)\n",
    "        agent.learn(state, action,state_,reward,done)\n",
    "        if i % 100 == 0:\n",
    "            render(env.render(mode=\"rgb_array\"),status=done, rewards=all_rewards)\n",
    "        state = state_\n",
    "        if done:\n",
    "            if all_rewards != [] and np.max(all_rewards) < np.sum(rewards): # Saving the best performing model which\n",
    "                agent.save()                                                # achieved a reward more than all recorded by far\n",
    "            all_rewards.append(np.sum(rewards))\n",
    "env.close()"
   ]
  },
  {
   "cell_type": "code",
   "execution_count": 5,
   "metadata": {
    "scrolled": false
   },
   "outputs": [
    {
     "data": {
      "image/png": "[encoded data removed]",
      "text/plain": [
       "<Figure size 432x288 with 1 Axes>"
      ]
     },
     "metadata": {
      "needs_background": "light"
     },
     "output_type": "display_data"
    }
   ],
   "source": [
    "def get_average_rewards(all_rewards):\n",
    "    average_rewards = []\n",
    "    temp_rewards = []\n",
    "    for i in range(0,500):\n",
    "        temp_rewards.append(all_rewards[i])\n",
    "        if len(temp_rewards) > 100:\n",
    "            temp_rewards.pop(0)\n",
    "        average_rewards.append(np.mean(temp_rewards))\n",
    "    return average_rewards\n",
    "\n",
    "plt.plot(all_rewards)\n",
    "plt.plot(get_average_rewards(all_rewards))\n",
    "plt.show()"
   ]
  },
  {
   "cell_type": "markdown",
   "metadata": {},
   "source": [
    "# Watch a Smart Agent - CardPole (?)\n",
    "\n",
    "Not a very smart agent, though. It regularly backslides."
   ]
  },
  {
   "cell_type": "code",
   "execution_count": 6,
   "metadata": {},
   "outputs": [
    {
     "name": "stderr",
     "output_type": "stream",
     "text": [
      "100%|████████████████████████████████████████████████████████████████████████████████████| 2/2 [00:44<00:00, 22.02s/it]\n"
     ]
    }
   ],
   "source": [
    "import gym\n",
    "import matplotlib.pyplot as plt\n",
    "import tensorflow as tf\n",
    "import tensorflow.keras as keras\n",
    "from agent import Agent\n",
    "from tqdm import tqdm\n",
    "\n",
    "%matplotlib inline\n",
    "\n",
    "#######\n",
    "from time import sleep\n",
    "import numpy as np\n",
    "from IPython.display import clear_output\n",
    "\n",
    "def render(img, status=False, rewards=[], reward_chart=True):\n",
    "    message = \"Episode over\" if done else \"\"\n",
    "    if reward_chart:\n",
    "        fig, (ax1, ax2) = plt.subplots(1, 2)\n",
    "    else:\n",
    "        fig, ax1 = plt.subplots(1, 1)\n",
    "    ax1.axis(\"off\")\n",
    "    _ = ax1.imshow(img)\n",
    "    if reward_chart:\n",
    "        _ = ax2.plot(rewards)\n",
    "    \n",
    "    plt.title(message)\n",
    "    plt.show()\n",
    "    clear_output(wait=True)\n",
    "#########\n",
    "\n",
    "env = gym.make(\"CartPole-v1\")\n",
    "agent = Agent(state_size=4, action_size=2, env_name=env.spec.id)\n",
    "agent.load()\n",
    "\n",
    "episodes = 2\n",
    "\n",
    "all_rewards = []\n",
    "for i in tqdm(range(episodes)):\n",
    "    state = env.reset()\n",
    "    agent.new_episode()\n",
    "    done = False\n",
    "\n",
    "    rewards = []\n",
    "    while not done:\n",
    "        # TODO: Agent has to choose an action here\n",
    "        action = agent.act(state)\n",
    "        state_, reward, done, _ = env.step(action)\n",
    "        rewards.append(reward)\n",
    "        #agent.learn(state, action,state_,reward,done)\n",
    "        render(env.render(mode=\"rgb_array\"),status=done, rewards=all_rewards, reward_chart=False)\n",
    "        state = state_\n",
    "        if done:\n",
    "            all_rewards.append(np.sum(rewards))"
   ]
  },
  {
   "cell_type": "code",
   "execution_count": 7,
   "metadata": {
    "scrolled": true
   },
   "outputs": [
    {
     "data": {
      "image/png": "[encoded data removed]",
      "text/plain": [
       "<Figure size 432x288 with 1 Axes>"
      ]
     },
     "metadata": {
      "needs_background": "light"
     },
     "output_type": "display_data"
    }
   ],
   "source": [
    "_ = plt.plot(all_rewards)\n",
    "env.close()"
   ]
  },
  {
   "cell_type": "markdown",
   "metadata": {},
   "source": [
    "## Training LunarLander Environment"
   ]
  },
  {
   "cell_type": "code",
   "execution_count": 1,
   "metadata": {},
   "outputs": [
    {
     "name": "stdout",
     "output_type": "stream",
     "text": [
      "env.action_space.n: 4\n",
      "env.observation_space.shape: 8\n",
      "ENV Name: LunarLander-v2\n"
     ]
    }
   ],
   "source": [
    "import gym\n",
    "import matplotlib.pyplot as plt\n",
    "import tensorflow as tf\n",
    "import tensorflow.keras as keras\n",
    "from agent import Agent\n",
    "from tqdm import tqdm\n",
    "\n",
    "%matplotlib inline\n",
    "\n",
    "env = gym.make(\"LunarLander-v2\")\n",
    "agent = Agent(state_size=len(env.observation_space.high), action_size=env.action_space.n, env_name=env.spec.id) #8 ,4\n",
    "\n",
    "print(f\"env.action_space.n: {env.action_space.n}\\nenv.observation_space.shape: {len(env.observation_space.high)}\\nENV Name: {env.spec.id}\")"
   ]
  },
  {
   "cell_type": "code",
   "execution_count": 2,
   "metadata": {},
   "outputs": [
    {
     "name": "stderr",
     "output_type": "stream",
     "text": [
      "100%|██████████████████████████████████████████████████████████████████████████████| 500/500 [1:00:27<00:00,  7.26s/it]\n"
     ]
    }
   ],
   "source": [
    "from time import sleep\n",
    "import numpy as np\n",
    "from IPython.display import clear_output\n",
    "\n",
    "def render(img, status=False, rewards=[], reward_chart=True):\n",
    "    message = \"Episode over\" if done else \"\"\n",
    "    if reward_chart:\n",
    "        fig, (ax1, ax2) = plt.subplots(1, 2)\n",
    "    else:\n",
    "        fig, ax1 = plt.subplots(1, 1)\n",
    "    ax1.axis(\"off\")\n",
    "    _ = ax1.imshow(img)\n",
    "    if reward_chart:\n",
    "        _ = ax2.plot(rewards)\n",
    "    \n",
    "    plt.title(message)\n",
    "    plt.show()\n",
    "    clear_output(wait=True)\n",
    "    \n",
    "episodes = 500\n",
    "\n",
    "all_rewards = []\n",
    "for i in tqdm(range(episodes)):\n",
    "    state = env.reset()\n",
    "    agent.new_episode()\n",
    "    done = False\n",
    "\n",
    "    rewards = []\n",
    "    while not done:\n",
    "        # TODO: Agent has to choose an action here\n",
    "        action = agent.act(state)\n",
    "        state_, reward, done, _ = env.step(action)\n",
    "        rewards.append(reward)\n",
    "        agent.learn(state, action,state_,reward,done)\n",
    "        if i % 100 == 0:\n",
    "            render(env.render(mode=\"rgb_array\"),status=done, rewards=all_rewards)\n",
    "        state = state_\n",
    "        if done:\n",
    "            if all_rewards != [] and np.max(all_rewards) < np.sum(rewards):\n",
    "                agent.save()\n",
    "            all_rewards.append(np.sum(rewards))\n",
    "env.close()"
   ]
  },
  {
   "cell_type": "code",
   "execution_count": 3,
   "metadata": {},
   "outputs": [
    {
     "data": {
      "image/png": "[encoded data removed]",
      "text/plain": [
       "<Figure size 432x288 with 1 Axes>"
      ]
     },
     "metadata": {
      "needs_background": "light"
     },
     "output_type": "display_data"
    }
   ],
   "source": [
    "def get_average_rewards(all_rewards):\n",
    "    average_rewards = []\n",
    "    temp_rewards = []\n",
    "    for i in range(0,500):\n",
    "        temp_rewards.append(all_rewards[i])\n",
    "        if len(temp_rewards) > 100:\n",
    "            temp_rewards.pop(0)\n",
    "        average_rewards.append(np.mean(temp_rewards))\n",
    "    return average_rewards\n",
    "\n",
    "plt.plot(all_rewards)\n",
    "plt.plot(get_average_rewards(all_rewards))\n",
    "plt.show()"
   ]
  },
  {
   "cell_type": "markdown",
   "metadata": {},
   "source": [
    "# Watch a Smart Agent (?) - LunarLander"
   ]
  },
  {
   "cell_type": "code",
   "execution_count": null,
   "metadata": {},
   "outputs": [
    {
     "data": {
      "image/png": "[encoded data removed]",
      "text/plain": [
       "<Figure size 432x288 with 1 Axes>"
      ]
     },
     "metadata": {
      "needs_background": "light"
     },
     "output_type": "display_data"
    }
   ],
   "source": [
    "import gym\n",
    "import matplotlib.pyplot as plt\n",
    "import tensorflow as tf\n",
    "import tensorflow.keras as keras\n",
    "from agent import Agent\n",
    "from tqdm import tqdm\n",
    "\n",
    "%matplotlib inline\n",
    "\n",
    "#######\n",
    "from time import sleep\n",
    "import numpy as np\n",
    "from IPython.display import clear_output\n",
    "\n",
    "def render(img, status=False, rewards=[], reward_chart=True):\n",
    "    message = \"Episode over\" if done else \"\"\n",
    "    if reward_chart:\n",
    "        fig, (ax1, ax2) = plt.subplots(1, 2)\n",
    "    else:\n",
    "        fig, ax1 = plt.subplots(1, 1)\n",
    "    ax1.axis(\"off\")\n",
    "    _ = ax1.imshow(img)\n",
    "    if reward_chart:\n",
    "        _ = ax2.plot(rewards)\n",
    "    \n",
    "    plt.title(message)\n",
    "    plt.show()\n",
    "    clear_output(wait=True)\n",
    "#########\n",
    "\n",
    "env = gym.make(\"LunarLander-v2\")\n",
    "agent = Agent(state_size=len(env.observation_space.high), action_size=env.action_space.n, env_name=env.spec.id)\n",
    "agent.load()\n",
    "\n",
    "episodes = 1\n",
    "\n",
    "all_rewards = []\n",
    "for i in tqdm(range(episodes)):\n",
    "    state = env.reset()\n",
    "    agent.new_episode()\n",
    "    done = False\n",
    "\n",
    "    rewards = []\n",
    "    while not done:\n",
    "        # TODO: Agent has to choose an action here\n",
    "        action = agent.act(state)\n",
    "        state_, reward, done, _ = env.step(action)\n",
    "        rewards.append(reward)\n",
    "        #agent.learn(state, action,state_,reward,done)\n",
    "        render(env.render(mode=\"rgb_array\"),status=done, rewards=all_rewards, reward_chart=False)\n",
    "        state = state_\n",
    "        if done:\n",
    "            all_rewards.append(np.sum(rewards))\n",
    "\n",
    "_ = plt.plot(all_rewards)\n",
    "env.close()"
   ]
  },
  {
   "cell_type": "markdown",
   "metadata": {},
   "source": [
    "<hr>\n",
    "<hr>\n",
    "<hr>\n",
    "<hr>\n",
    "<hr>\n",
    "<hr>\n",
    "<hr>\n",
    "<hr>\n",
    "<hr>\n",
    "\n",
    "# Some Tests Before Development:"
   ]
  },
  {
   "cell_type": "code",
   "execution_count": 3,
   "metadata": {},
   "outputs": [
    {
     "data": {
      "text/plain": [
       "<TimeLimit<LunarLander<LunarLander-v2>>>"
      ]
     },
     "execution_count": 3,
     "metadata": {},
     "output_type": "execute_result"
    }
   ],
   "source": [
    "import gym\n",
    "import matplotlib.pyplot as plt\n",
    "import tensorflow as tf\n",
    "import tensorflow.keras as keras\n",
    "from agent import Agent\n",
    "from tqdm import tqdm\n",
    "from agent import Agent\n",
    "\n",
    "#agent = Agent(state_size=4, action_size=2)\n",
    "env = gym.make(\"LunarLander-v2\")\n",
    "env"
   ]
  },
  {
   "cell_type": "code",
   "execution_count": 6,
   "metadata": {},
   "outputs": [
    {
     "name": "stdout",
     "output_type": "stream",
     "text": [
      "env.obs.n: 8 [-inf -inf -inf -inf -inf -inf -inf -inf]\n",
      "env.action_space.n 4\n"
     ]
    },
    {
     "data": {
      "text/plain": [
       "3"
      ]
     },
     "execution_count": 6,
     "metadata": {},
     "output_type": "execute_result"
    }
   ],
   "source": [
    "print(\"env.obs.n:\", len(env.observation_space.high), env.observation_space.low)\n",
    "print(\"env.action_space.n\", env.action_space.n)\n",
    "env.action_space.sample()"
   ]
  },
  {
   "cell_type": "code",
   "execution_count": 13,
   "metadata": {},
   "outputs": [
    {
     "data": {
      "text/plain": [
       "'CartPole-v1'"
      ]
     },
     "execution_count": 13,
     "metadata": {},
     "output_type": "execute_result"
    }
   ],
   "source": [
    "env.spec.id"
   ]
  },
  {
   "cell_type": "code",
   "execution_count": 4,
   "metadata": {
    "scrolled": true
   },
   "outputs": [
    {
     "name": "stdout",
     "output_type": "stream",
     "text": [
      "[-0.89592973  0.44419581  0.41372887]\n"
     ]
    },
    {
     "data": {
      "text/plain": [
       "(array([-0.91494179,  0.40358583,  0.89687573]), -7.207573732139825, False, {})"
      ]
     },
     "execution_count": 4,
     "metadata": {},
     "output_type": "execute_result"
    }
   ],
   "source": [
    "env = gym.make(\"Pendulum-v0\")\n",
    "#print(f\"env.action_space.n: {env.action_space.n}\\nenv.observation_space.shape: {env.observation_space.shape}\")\n",
    "s = env.reset()\n",
    "#env.render()\n",
    "print(s)\n",
    "env.step([1])"
   ]
  },
  {
   "cell_type": "code",
   "execution_count": 13,
   "metadata": {},
   "outputs": [
    {
     "data": {
      "text/plain": [
       "True"
      ]
     },
     "execution_count": 13,
     "metadata": {},
     "output_type": "execute_result"
    }
   ],
   "source": [
    "env.step([-2.5])\n",
    "env.render()"
   ]
  },
  {
   "cell_type": "code",
   "execution_count": 14,
   "metadata": {},
   "outputs": [],
   "source": [
    "env.close()"
   ]
  },
  {
   "cell_type": "code",
   "execution_count": null,
   "metadata": {},
   "outputs": [],
   "source": [
    "s = s.reshape(1,4)\n",
    "s = tf.convert_to_tensor(s, dtype=tf.float32)\n",
    "print(s.shape)\n",
    "print(s)\n",
    "\n",
    "action_probs = agent.actor(s)\n",
    "print(action_probs)\n",
    "\n",
    "agent.critic(s)"
   ]
  },
  {
   "cell_type": "code",
   "execution_count": null,
   "metadata": {},
   "outputs": [],
   "source": [
    "s = env.reset()\n",
    "agent.act(s)"
   ]
  },
  {
   "cell_type": "code",
   "execution_count": null,
   "metadata": {},
   "outputs": [],
   "source": [
    "for i in range(10):\n",
    "    print(tf.random.categorical(action_probs, 1))\n",
    "    print(agent.act(s))"
   ]
  },
  {
   "cell_type": "code",
   "execution_count": null,
   "metadata": {},
   "outputs": [],
   "source": [
    "action_probs"
   ]
  },
  {
   "cell_type": "code",
   "execution_count": null,
   "metadata": {},
   "outputs": [],
   "source": [
    "env.step(0)"
   ]
  },
  {
   "cell_type": "code",
   "execution_count": null,
   "metadata": {},
   "outputs": [],
   "source": [
    "1 - True"
   ]
  },
  {
   "cell_type": "code",
   "execution_count": null,
   "metadata": {},
   "outputs": [],
   "source": [
    "tf.__version__"
   ]
  },
  {
   "cell_type": "code",
   "execution_count": null,
   "metadata": {},
   "outputs": [],
   "source": [
    "import tensorflow_probability as tfp"
   ]
  },
  {
   "cell_type": "code",
   "execution_count": null,
   "metadata": {},
   "outputs": [],
   "source": [
    "dist = tfp.distributions.Categorical(probs=action_probs)"
   ]
  },
  {
   "cell_type": "code",
   "execution_count": null,
   "metadata": {},
   "outputs": [],
   "source": [
    "dist.log_prob(action)"
   ]
  },
  {
   "cell_type": "code",
   "execution_count": null,
   "metadata": {},
   "outputs": [],
   "source": [
    "weights = agent.critic.weights\n",
    "print(weights[3].shape)\n",
    "#for w in weights[0]:\n",
    "#    print(w)"
   ]
  }
 ],
 "metadata": {
  "kernelspec": {
   "display_name": "Python 3",
   "language": "python",
   "name": "python3"
  },
  "language_info": {
   "codemirror_mode": {
    "name": "ipython",
    "version": 3
   },
   "file_extension": ".py",
   "mimetype": "text/x-python",
   "name": "python",
   "nbconvert_exporter": "python",
   "pygments_lexer": "ipython3",
   "version": "3.7.4"
  }
 },
 "nbformat": 4,
 "nbformat_minor": 2
}
