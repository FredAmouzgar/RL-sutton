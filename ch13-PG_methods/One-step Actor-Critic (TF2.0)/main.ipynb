{
 "cells": [
  {
   "cell_type": "code",
   "execution_count": 1,
   "metadata": {},
   "outputs": [],
   "source": [
    "import gym\n",
    "import matplotlib.pyplot as plt\n",
    "import tensorflow as tf\n",
    "import tensorflow.keras as keras\n",
    "from agent import Agent\n",
    "from tqdm import tqdm\n",
    "\n",
    "%matplotlib inline"
   ]
  },
  {
   "cell_type": "code",
   "execution_count": 2,
   "metadata": {},
   "outputs": [
    {
     "name": "stdout",
     "output_type": "stream",
     "text": [
      "env.action_space.n: 2\n",
      "env.observation_space.shape: (4,)\n"
     ]
    }
   ],
   "source": [
    "env = gym.make(\"CartPole-v1\")\n",
    "agent = Agent(state_size=4, action_size=2)\n",
    "\n",
    "print(f\"env.action_space.n: {env.action_space.n}\\nenv.observation_space.shape: {env.observation_space.shape}\")"
   ]
  },
  {
   "cell_type": "code",
   "execution_count": 3,
   "metadata": {},
   "outputs": [],
   "source": [
    "from time import sleep\n",
    "import numpy as np\n",
    "from IPython.display import clear_output\n",
    "\n",
    "def render(img, status=False, rewards=[], reward_chart=True):\n",
    "    message = \"Episode over\" if done else \"\"\n",
    "    if reward_chart:\n",
    "        fig, (ax1, ax2) = plt.subplots(1, 2)\n",
    "    else:\n",
    "        fig, ax1 = plt.subplots(1, 1)\n",
    "    ax1.axis(\"off\")\n",
    "    _ = ax1.imshow(img)\n",
    "    if reward_chart:\n",
    "        _ = ax2.plot(rewards)\n",
    "    \n",
    "    plt.title(message)\n",
    "    plt.show()\n",
    "    clear_output(wait=True)"
   ]
  },
  {
   "cell_type": "code",
   "execution_count": 4,
   "metadata": {
    "scrolled": true
   },
   "outputs": [
    {
     "name": "stderr",
     "output_type": "stream",
     "text": [
      "100%|████████████████████████████████████████████████████████████████████████████████| 500/500 [08:40<00:00,  1.04s/it]\n"
     ]
    }
   ],
   "source": [
    "episodes = 500\n",
    "\n",
    "all_rewards = []\n",
    "for i in tqdm(range(episodes)):\n",
    "    state = env.reset()\n",
    "    agent.new_episode()\n",
    "    done = False\n",
    "\n",
    "    rewards = []\n",
    "    while not done:\n",
    "        # TODO: Agent has to choose an action here\n",
    "        action = agent.act(state)\n",
    "        state_, reward, done, _ = env.step(action)\n",
    "        rewards.append(reward)\n",
    "        agent.learn(state, action,state_,reward,done)\n",
    "        if i % 100 == 0:\n",
    "            render(env.render(mode=\"rgb_array\"),status=done, rewards=all_rewards)\n",
    "        state = state_\n",
    "        if done:\n",
    "            if all_rewards != [] and np.max(all_rewards) < np.sum(rewards):\n",
    "                agent.save()\n",
    "            all_rewards.append(np.sum(rewards))\n",
    "env.close()"
   ]
  },
  {
   "cell_type": "code",
   "execution_count": 5,
   "metadata": {
    "scrolled": false
   },
   "outputs": [
    {
     "data": {
      "text/plain": [
       "[<matplotlib.lines.Line2D at 0x242595f4588>]"
      ]
     },
     "execution_count": 5,
     "metadata": {},
     "output_type": "execute_result"
    },
    {
     "data": {
      "image/png": "[encoded data removed]",
      "text/plain": [
       "<Figure size 432x288 with 1 Axes>"
      ]
     },
     "metadata": {
      "needs_background": "light"
     },
     "output_type": "display_data"
    }
   ],
   "source": [
    "plt.plot(all_rewards)"
   ]
  },
  {
   "cell_type": "markdown",
   "metadata": {},
   "source": [
    "# Watch a Smart Agent (?)\n",
    "\n",
    "Not a very smart agent, though. It regularly backslides."
   ]
  },
  {
   "cell_type": "code",
   "execution_count": 6,
   "metadata": {},
   "outputs": [
    {
     "name": "stderr",
     "output_type": "stream",
     "text": [
      "100%|████████████████████████████████████████████████████████████████████████████████████| 2/2 [00:43<00:00, 21.95s/it]\n"
     ]
    }
   ],
   "source": [
    "import gym\n",
    "import matplotlib.pyplot as plt\n",
    "import tensorflow as tf\n",
    "import tensorflow.keras as keras\n",
    "from agent import Agent\n",
    "from tqdm import tqdm\n",
    "\n",
    "%matplotlib inline\n",
    "\n",
    "#######\n",
    "from time import sleep\n",
    "import numpy as np\n",
    "from IPython.display import clear_output\n",
    "\n",
    "def render(img, status=False, rewards=[], reward_chart=True):\n",
    "    message = \"Episode over\" if done else \"\"\n",
    "    if reward_chart:\n",
    "        fig, (ax1, ax2) = plt.subplots(1, 2)\n",
    "    else:\n",
    "        fig, ax1 = plt.subplots(1, 1)\n",
    "    ax1.axis(\"off\")\n",
    "    _ = ax1.imshow(img)\n",
    "    if reward_chart:\n",
    "        _ = ax2.plot(rewards)\n",
    "    \n",
    "    plt.title(message)\n",
    "    plt.show()\n",
    "    clear_output(wait=True)\n",
    "#########\n",
    "\n",
    "env = gym.make(\"CartPole-v1\")\n",
    "agent = Agent(state_size=4, action_size=2)\n",
    "agent.load()\n",
    "\n",
    "episodes = 2\n",
    "\n",
    "all_rewards = []\n",
    "for i in tqdm(range(episodes)):\n",
    "    state = env.reset()\n",
    "    agent.new_episode()\n",
    "    done = False\n",
    "\n",
    "    rewards = []\n",
    "    while not done:\n",
    "        # TODO: Agent has to choose an action here\n",
    "        action = agent.act(state)\n",
    "        state_, reward, done, _ = env.step(action)\n",
    "        rewards.append(reward)\n",
    "        #agent.learn(state, action,state_,reward,done)\n",
    "        render(env.render(mode=\"rgb_array\"),status=done, rewards=all_rewards, reward_chart=False)\n",
    "        state = state_\n",
    "        if done:\n",
    "            all_rewards.append(np.sum(rewards))"
   ]
  },
  {
   "cell_type": "code",
   "execution_count": 7,
   "metadata": {},
   "outputs": [
    {
     "data": {
      "image/png": "[encoded data removed]",
      "text/plain": [
       "<Figure size 432x288 with 1 Axes>"
      ]
     },
     "metadata": {
      "needs_background": "light"
     },
     "output_type": "display_data"
    }
   ],
   "source": [
    "_ = plt.plot(all_rewards)\n",
    "env.close()"
   ]
  },
  {
   "cell_type": "markdown",
   "metadata": {},
   "source": [
    "----\n",
    "# Some Tests Before Development:"
   ]
  },
  {
   "cell_type": "code",
   "execution_count": null,
   "metadata": {},
   "outputs": [],
   "source": [
    "from agent import Agent\n",
    "\n",
    "agent = Agent(state_size=4, action_size=2)"
   ]
  },
  {
   "cell_type": "code",
   "execution_count": null,
   "metadata": {},
   "outputs": [],
   "source": [
    "s = env.reset()"
   ]
  },
  {
   "cell_type": "code",
   "execution_count": null,
   "metadata": {},
   "outputs": [],
   "source": [
    "s = s.reshape(1,4)\n",
    "s = tf.convert_to_tensor(s, dtype=tf.float32)\n",
    "print(s.shape)\n",
    "print(s)\n",
    "\n",
    "action_probs = agent.actor(s)\n",
    "print(action_probs)\n",
    "\n",
    "agent.critic(s)"
   ]
  },
  {
   "cell_type": "code",
   "execution_count": null,
   "metadata": {},
   "outputs": [],
   "source": [
    "s = env.reset()\n",
    "agent.act(s)"
   ]
  },
  {
   "cell_type": "code",
   "execution_count": null,
   "metadata": {},
   "outputs": [],
   "source": [
    "for i in range(10):\n",
    "    print(tf.random.categorical(action_probs, 1))\n",
    "    print(agent.act(s))"
   ]
  },
  {
   "cell_type": "code",
   "execution_count": null,
   "metadata": {},
   "outputs": [],
   "source": [
    "action_probs"
   ]
  },
  {
   "cell_type": "code",
   "execution_count": null,
   "metadata": {},
   "outputs": [],
   "source": [
    "env.step(0)"
   ]
  },
  {
   "cell_type": "code",
   "execution_count": null,
   "metadata": {},
   "outputs": [],
   "source": [
    "1 - True"
   ]
  },
  {
   "cell_type": "code",
   "execution_count": null,
   "metadata": {},
   "outputs": [],
   "source": [
    "tf.__version__"
   ]
  },
  {
   "cell_type": "code",
   "execution_count": null,
   "metadata": {},
   "outputs": [],
   "source": [
    "import tensorflow_probability as tfp"
   ]
  },
  {
   "cell_type": "code",
   "execution_count": null,
   "metadata": {},
   "outputs": [],
   "source": [
    "dist = tfp.distributions.Categorical(probs=action_probs)"
   ]
  },
  {
   "cell_type": "code",
   "execution_count": null,
   "metadata": {},
   "outputs": [],
   "source": [
    "dist.log_prob(action)"
   ]
  },
  {
   "cell_type": "code",
   "execution_count": null,
   "metadata": {},
   "outputs": [],
   "source": [
    "weights = agent.critic.weights\n",
    "print(weights[3].shape)\n",
    "#for w in weights[0]:\n",
    "#    print(w)"
   ]
  }
 ],
 "metadata": {
  "kernelspec": {
   "display_name": "Python 3",
   "language": "python",
   "name": "python3"
  },
  "language_info": {
   "codemirror_mode": {
    "name": "ipython",
    "version": 3
   },
   "file_extension": ".py",
   "mimetype": "text/x-python",
   "name": "python",
   "nbconvert_exporter": "python",
   "pygments_lexer": "ipython3",
   "version": "3.7.4"
  }
 },
 "nbformat": 4,
 "nbformat_minor": 2
}
