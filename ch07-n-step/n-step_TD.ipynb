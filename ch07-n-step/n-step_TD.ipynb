{
 "cells": [
  {
   "cell_type": "markdown",
   "metadata": {},
   "source": [
    "# Random Walk for n-step TD"
   ]
  },
  {
   "cell_type": "markdown",
   "metadata": {},
   "source": [
    "## Here's how you can run a random walk:"
   ]
  },
  {
   "cell_type": "code",
   "execution_count": 1,
   "metadata": {
    "scrolled": true
   },
   "outputs": [
    {
     "name": "stdout",
     "output_type": "stream",
     "text": [
      "(6, 1, True)\n"
     ]
    },
    {
     "data": {
      "image/png": "[encoded data removed]",
      "text/plain": [
       "<Figure size 432x288 with 1 Axes>"
      ]
     },
     "metadata": {
      "needs_background": "light"
     },
     "output_type": "display_data"
    }
   ],
   "source": [
    "from time import sleep\n",
    "import numpy as np\n",
    "from IPython.display import clear_output\n",
    "from randomwalk import RandomWalk\n",
    "\n",
    "%matplotlib inline\n",
    "env = RandomWalk(non_terminal_states=5, init_state=3)\n",
    "\n",
    "for i in range(100):\n",
    "    # a = np.random.choice(['left', 'right'])\n",
    "    # res = env.step(a)\n",
    "    res = env.random_step()\n",
    "    s_, r, done = res\n",
    "    print(res)\n",
    "    env.render()\n",
    "    sleep(0.1)\n",
    "    if done:\n",
    "        break\n",
    "    clear_output(wait=True)"
   ]
  },
  {
   "cell_type": "code",
   "execution_count": 2,
   "metadata": {},
   "outputs": [
    {
     "name": "stdout",
     "output_type": "stream",
     "text": [
      "{'n': 7, 'Terminal states': 2, 'Non-terminal states': 5}\n",
      "7\n",
      "\n",
      "['left', 'right']\n"
     ]
    }
   ],
   "source": [
    "print(env.observation_space)\n",
    "print(env.observation_space[\"n\"])\n",
    "print()\n",
    "print(env.action_space)"
   ]
  },
  {
   "cell_type": "markdown",
   "metadata": {},
   "source": [
    "## n-step TD (Policy is a uniform distribution)\n",
    "<img src=\"images/n-stepTD.PNG\">"
   ]
  },
  {
   "cell_type": "code",
   "execution_count": 5,
   "metadata": {},
   "outputs": [],
   "source": [
    "import numpy as np\n",
    "\n",
    "class N_StepTD:\n",
    "    def __init__(self, states_number, actions, alpha=0.5, gamma=1, n_step=5):\n",
    "        self.alpha = alpha\n",
    "        self.gamma = gamma\n",
    "        self.states_number = states_number\n",
    "        self.actions = actions\n",
    "        self.V = np.zeros(states_number) + 0.5 # Initial Value is 0.5\n",
    "        self.new_a = None\n",
    "        \n",
    "        #\n",
    "        self.steps_memory = []\n",
    "        self.n_step = n_step\n",
    "        self.current_step = 0\n",
    "    \n",
    "    def act(self, state):\n",
    "        act = np.random.choice(self.actions)\n",
    "        return act\n",
    "    \n",
    "    def update(self,new_s,r,done):\n",
    "        self.steps_memory.append({\"s_\": new_s, \"r\": r, \"done\": done})\n",
    "        self.current_step += 1\n",
    "        \n",
    "        if self.current_step >= self.n_step - 1:\n",
    "            self.TD_update()\n",
    "        if done:\n",
    "            for _ in range(self.n_step):\n",
    "                self.steps_memory.append({\"s_\": -1, \"r\": 0, \"done\": True})\n",
    "                self.TD_update()\n",
    "    \n",
    "    def TD_update(self):\n",
    "        self.V[0], self.V[-1] = 0, 0\n",
    "        G = 0\n",
    "        discount = 1\n",
    "        for step in self.steps_memory[(self.current_step - self.n_step + 1) + 1:]:\n",
    "            G += discount * step['r']\n",
    "            discount *= self.gamma\n",
    "        last_step = self.steps_memory[-1]\n",
    "        G += discount * (1 - float(last_step['done'])) * self.V[last_step['s_']]\n",
    "        state_to_update = self.steps_memory[self.current_step - self.n_step + 1]\n",
    "        self.V[state_to_update['s_']] += self.alpha * (G - self.V[state_to_update['s_']])\n",
    "        \n",
    "    def print_V(self):\n",
    "        print(\"\\tV(s)\\n==================\")\n",
    "        for i, element in enumerate(self.V):\n",
    "            print(\"{0:3} : {1:5.4f}\".format(i, element))\n",
    "    \n",
    "    def reset(self):\n",
    "        self.current_step = 0\n",
    "        self.steps_memory = []"
   ]
  },
  {
   "cell_type": "code",
   "execution_count": 6,
   "metadata": {},
   "outputs": [
    {
     "data": {
      "image/png": "[encoded data removed]",
      "text/plain": [
       "<Figure size 432x288 with 1 Axes>"
      ]
     },
     "metadata": {
      "needs_background": "light"
     },
     "output_type": "display_data"
    },
    {
     "name": "stdout",
     "output_type": "stream",
     "text": [
      "\tV(s)\n",
      "==================\n",
      "  0 : 0.0000\n",
      "  1 : 0.1019\n",
      "  2 : 0.1241\n",
      "  3 : 0.0000\n",
      "  4 : 0.0933\n",
      "  5 : 0.1394\n",
      "  6 : 0.1159\n",
      "  7 : 0.2638\n",
      "  8 : 0.2706\n",
      "  9 : 0.4278\n",
      " 10 : 0.4215\n",
      " 11 : 0.5221\n",
      " 12 : 0.5233\n",
      " 13 : 0.5509\n",
      " 14 : 0.5680\n",
      " 15 : 0.5726\n",
      " 16 : 0.5736\n",
      " 17 : 0.9937\n",
      " 18 : 0.6170\n",
      " 19 : 0.5745\n",
      " 20 : 0.0000\n"
     ]
    }
   ],
   "source": [
    "from time import sleep\n",
    "import numpy as np\n",
    "from IPython.display import clear_output\n",
    "from randomwalk import RandomWalk\n",
    "\n",
    "%matplotlib inline\n",
    "env = RandomWalk(non_terminal_states=19, init_state=10)\n",
    "agent = N_StepTD(states_number=env.observation_space[\"n\"], actions=env.action_space, n_step=5)\n",
    "\n",
    "steps = []\n",
    "returns = []\n",
    "for episode in range(10):\n",
    "    env.reset()\n",
    "    agent.reset()\n",
    "    state = env.state\n",
    "    \n",
    "    done = False\n",
    "    step_n = 0\n",
    "    return_episode = 0\n",
    "    while not done:\n",
    "        action = agent.act(state)\n",
    "        new_state,reward,done = env.step(action)\n",
    "        return_episode += reward\n",
    "        agent.update(new_state,reward,done)\n",
    "        state = new_state\n",
    "        step_n += 1\n",
    "        \n",
    "        env.render()\n",
    "        agent.print_V()\n",
    "        #sleep(1)\n",
    "        clear_output(wait=True)\n",
    "        \"\"\"\n",
    "        if done:\n",
    "            steps.append(step_n)\n",
    "            returns.append(return_episode)\n",
    "            clear_output(wait=True)\n",
    "            plt.title(\"Steps:\" + str(step_n) + \" Return:\"+str(return_episode))\n",
    "            plt.plot(list(range(len(steps))),steps)\n",
    "            plt.plot(list(range(len(steps))),returns)\n",
    "            plt.legend([\"Steps\", \"Returns\"])\n",
    "            plt.show()\n",
    "        \"\"\""
   ]
  }
 ],
 "metadata": {
  "kernelspec": {
   "display_name": "Python 3",
   "language": "python",
   "name": "python3"
  },
  "language_info": {
   "codemirror_mode": {
    "name": "ipython",
    "version": 3
   },
   "file_extension": ".py",
   "mimetype": "text/x-python",
   "name": "python",
   "nbconvert_exporter": "python",
   "pygments_lexer": "ipython3",
   "version": "3.8.3"
  }
 },
 "nbformat": 4,
 "nbformat_minor": 4
}
