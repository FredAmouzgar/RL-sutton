{
 "cells": [
  {
   "cell_type": "markdown",
   "metadata": {},
   "source": [
    "# Random Walk for n-step TD"
   ]
  },
  {
   "cell_type": "markdown",
   "metadata": {},
   "source": [
    "## Here's how you can run a random walk:"
   ]
  },
  {
   "cell_type": "code",
   "execution_count": 1,
   "metadata": {
    "scrolled": true
   },
   "outputs": [
    {
     "name": "stdout",
     "output_type": "stream",
     "text": [
      "(6, 1, True)\n"
     ]
    },
    {
     "data": {
      "image/png": "[encoded data removed]",
      "text/plain": [
       "<Figure size 432x288 with 1 Axes>"
      ]
     },
     "metadata": {
      "needs_background": "light"
     },
     "output_type": "display_data"
    }
   ],
   "source": [
    "from time import sleep\n",
    "import numpy as np\n",
    "from IPython.display import clear_output\n",
    "from randomwalk import RandomWalk\n",
    "\n",
    "%matplotlib inline\n",
    "env = RandomWalk(non_terminal_states=5, init_state=3)\n",
    "\n",
    "for i in range(100):\n",
    "    # a = np.random.choice(['left', 'right'])\n",
    "    # res = env.step(a)\n",
    "    res = env.random_step()\n",
    "    s_, r, done = res\n",
    "    print(res)\n",
    "    env.render()\n",
    "    sleep(0.1)\n",
    "    if done:\n",
    "        break\n",
    "    clear_output(wait=True)"
   ]
  },
  {
   "cell_type": "code",
   "execution_count": 2,
   "metadata": {},
   "outputs": [
    {
     "name": "stdout",
     "output_type": "stream",
     "text": [
      "{'n': 7, 'Terminal states': 2, 'Non-terminal states': 5}\n",
      "7\n",
      "\n",
      "['left', 'right']\n"
     ]
    }
   ],
   "source": [
    "print(env.observation_space)\n",
    "print(env.observation_space[\"n\"])\n",
    "print()\n",
    "print(env.action_space)"
   ]
  },
  {
   "cell_type": "markdown",
   "metadata": {},
   "source": [
    "## n-step TD (Policy is a uniform distribution)\n",
    "<img src=\"images/n-stepTD.PNG\">"
   ]
  },
  {
   "cell_type": "code",
   "execution_count": 3,
   "metadata": {},
   "outputs": [],
   "source": [
    "import numpy as np\n",
    "\n",
    "class N_StepTD:\n",
    "    def __init__(self, states_number, actions, alpha=0.5, gamma=0.95, n_step=5):\n",
    "        self.alpha = alpha\n",
    "        self.gamma = gamma\n",
    "        self.states_number = states_number\n",
    "        self.actions = actions\n",
    "        self.V = np.zeros(states_n) + 0.5 # Initial Value is 0.5\n",
    "        self.new_a = None\n",
    "        \n",
    "        #\n",
    "        self.steps_memory = []\n",
    "        self.n_step = n_step\n",
    "        self.current_step = 0\n",
    "    \n",
    "    def act(self, state):\n",
    "        act = np.random.choice(self.actions)\n",
    "        return act\n",
    "    \n",
    "    def update(self,new_s,r,done):\n",
    "        self.steps_memory.append({\"s_\": new_s, \"r\": r, \"done\": done})\n",
    "        self.current_step += 1\n",
    "        \n",
    "        if self.current_step >= self.n_step - 1:\n",
    "            self.TD_update()\n",
    "    \n",
    "    def TD_update(self):\n",
    "        G = 0\n",
    "        discount = 1\n",
    "        for step in self.steps_memory[(self.current_step - self.n_step + 1) + 1:]:\n",
    "            G += discount * step['r']\n",
    "            discount *= self.gamma\n",
    "        last_step = self.steps_memory[-1]\n",
    "        G += discount * (1 - float(last_step['done'])) * self.V[last_stept['s_']]\n",
    "        state_to_update = self.steps_memory[self.current_step - self.n_step + 1]\n",
    "        self.V[state_to_update['s_']] += self.alpha * (G - self.V[state_to_update['s_']])"
   ]
  },
  {
   "cell_type": "code",
   "execution_count": null,
   "metadata": {},
   "outputs": [],
   "source": [
    "from time import sleep\n",
    "import numpy as np\n",
    "from IPython.display import clear_output\n",
    "from randomwalk import RandomWalk\n",
    "\n",
    "%matplotlib inline\n",
    "env = RandomWalk(non_terminal_states=19, init_state=3)\n",
    "td_agent = N_StepTD(states_number=env.observation_space[\"n\"], actions=env.action_space)\n",
    "\n",
    "steps = []\n",
    "returns = []\n",
    "for episode in range(10):\n",
    "    env.reset()\n",
    "    state = env.state\n",
    "    action = agent.act(state)\n",
    "    done = False\n",
    "    step_n = 0\n",
    "    return_episode = 0\n",
    "    while not done:\n",
    "        new_state,reward,done = env.step(action)\n",
    "        return_episode += reward\n",
    "        new_action = agent.update(new_state,reward,state,action,done)\n",
    "        state, action = new_state, new_action\n",
    "        step_n += 1\n",
    "        if done:\n",
    "            steps.append(step_n)\n",
    "            returns.append(return_episode)\n",
    "            clear_output(wait=True)\n",
    "            plt.title(\"Steps:\" + str(step_n) + \" Return:\"+str(return_episode))\n",
    "            plt.plot(list(range(len(steps))),steps)\n",
    "            plt.plot(list(range(len(steps))),returns)\n",
    "            plt.legend([\"Steps\", \"Returns\"])\n",
    "            plt.show()"
   ]
  }
 ],
 "metadata": {
  "kernelspec": {
   "display_name": "Python 3",
   "language": "python",
   "name": "python3"
  },
  "language_info": {
   "codemirror_mode": {
    "name": "ipython",
    "version": 3
   },
   "file_extension": ".py",
   "mimetype": "text/x-python",
   "name": "python",
   "nbconvert_exporter": "python",
   "pygments_lexer": "ipython3",
   "version": "3.8.3"
  }
 },
 "nbformat": 4,
 "nbformat_minor": 4
}
