{
 "cells": [
  {
   "cell_type": "markdown",
   "metadata": {},
   "source": [
    "# Creating the Windy Environment"
   ]
  },
  {
   "cell_type": "code",
   "execution_count": 1,
   "metadata": {},
   "outputs": [],
   "source": [
    "import numpy as np\n",
    "import matplotlib.pyplot as plt\n",
    "\n",
    "class WindyGridWorld:\n",
    "    def __init__(self, rows=7, cols=10, init_state=30, goal = 37):\n",
    "        self.rows = 7\n",
    "        self.cols = 10\n",
    "        self.world = np.arange(0,70).reshape((self.rows, self.cols))\n",
    "        # Wind\n",
    "        self.wind = np.zeros((self.rows, self.cols))\n",
    "        self.wind[:,[3,4,5,8]]=1\n",
    "        self.wind[:,[6,7]] = 2\n",
    "        ##\n",
    "        self.init_state = init_state\n",
    "        self.state = self.init_state\n",
    "        self.actions = {0:'right', 1:'left', 2:'up', 3:'down'}\n",
    "        self.actions_n = len(self.actions)\n",
    "        self.states_n = rows * cols\n",
    "        self.goal = goal\n",
    "    \n",
    "    def get_state(self,x,y):\n",
    "        return x*10+y\n",
    "    \n",
    "    def coord(self, s):\n",
    "        return (int(s//10), int(s%10))\n",
    "    \n",
    "    def _move(self,s,a):\n",
    "        X, Y = self.coord(s)\n",
    "        if a == 0:   # right\n",
    "            dx, dy = 0,1\n",
    "        elif a == 1: # left\n",
    "            dx, dy = 0,-1\n",
    "        elif a == 2: # up\n",
    "            dx, dy = -1, 0\n",
    "        elif a == 3: # down\n",
    "            dx, dy = 1, 0\n",
    "        wind = self.wind[X,Y]\n",
    "        dx -= wind\n",
    "        X += dx\n",
    "        Y += dy\n",
    "        if X < 0:\n",
    "            X=0\n",
    "        elif X > 6:\n",
    "            X=6\n",
    "        if Y<0:\n",
    "            Y=0\n",
    "        elif Y>9:\n",
    "            Y=9\n",
    "        return self.get_state(X,Y)\n",
    "    \n",
    "    def reset(self):\n",
    "        self.state = self.init_state\n",
    "    \n",
    "    def step(self, action):\n",
    "        \"\"\"Take a step in the environment based on the current state, and the given action\n",
    "        \n",
    "        Parameter: action\n",
    "        Returns: A tuple consists of (s',r,done)\n",
    "        \"\"\"\n",
    "        new_state = self._move(self.state, action)\n",
    "        self.state = new_state\n",
    "        reward = -1 if new_state != self.goal else 0\n",
    "        done = False if new_state != self.goal else True\n",
    "        return new_state,reward,done\n",
    "    \n",
    "    def pprint(self, mode=\"g\"):\n",
    "        world_for_repr = np.copy(self.wind)\n",
    "        X,Y = self.coord(self.state)\n",
    "        world_for_repr[X,Y] = 4\n",
    "        world_for_repr[3,7] = 3\n",
    "        \n",
    "        if mode==\"g\":\n",
    "            plt.imshow(world_for_repr)\n",
    "            if X == 3 and Y == 7:\n",
    "                msg = \"State: ({},{}) - Won!\".format(X,Y)\n",
    "            else:\n",
    "                msg = \"State: ({},{})\".format(X,Y)\n",
    "            plt.title(msg)\n",
    "            plt.show()\n",
    "        elif mode == \"t\":\n",
    "            print(world_for_repr)"
   ]
  },
  {
   "cell_type": "markdown",
   "metadata": {},
   "source": [
    "# Test a Random Agent:"
   ]
  },
  {
   "cell_type": "code",
   "execution_count": 2,
   "metadata": {},
   "outputs": [
    {
     "name": "stdout",
     "output_type": "stream",
     "text": [
      "(22.0, -1, False)\n"
     ]
    },
    {
     "data": {
      "image/png": "[encoded data removed]",
      "text/plain": [
       "<Figure size 432x288 with 1 Axes>"
      ]
     },
     "metadata": {},
     "output_type": "display_data"
    }
   ],
   "source": [
    "from time import sleep\n",
    "import numpy as np\n",
    "from IPython.display import clear_output\n",
    "\n",
    "%matplotlib inline\n",
    "env = WindyGridWorld()\n",
    "\n",
    "for i in range(10):\n",
    "    a = np.random.choice([0,1,2,3])\n",
    "    print(env.step(a))\n",
    "    env.pprint()\n",
    "    sleep(0.01)\n",
    "    clear_output(wait=True)"
   ]
  },
  {
   "cell_type": "code",
   "execution_count": 3,
   "metadata": {},
   "outputs": [],
   "source": [
    "import numpy as np\n",
    "\n",
    "class Agent_Sarsa:\n",
    "    def __init__(self, states_n, actions_n, alpha=0.5, epsilon=0.1, gamma=0.95, epsilon_decay=True, epsilon_decay_factor=0.01):\n",
    "        self.alpha = alpha\n",
    "        self.epsilon = epsilon\n",
    "        self.gamma = gamma\n",
    "        self.states_n = states_n\n",
    "        self.actions_n = actions_n\n",
    "        self.Q = np.zeros((states_n, actions_n))\n",
    "        self.new_a = None\n",
    "        self.epsilon_decay = epsilon_decay\n",
    "        self.epsilon_decay_factor = epsilon_decay_factor\n",
    "    \n",
    "    def act(self, state):\n",
    "        # TODO:epsilon greedy\n",
    "        if np.random.rand() < self.epsilon:\n",
    "            act = np.random.choice(np.arange(self.actions_n))\n",
    "        else:\n",
    "            act = np.argmax(self.Q[int(state),:])\n",
    "        return act\n",
    "    \n",
    "    def decay_epsilon(self, factor):\n",
    "        self.epsilon -= factor\n",
    "    \n",
    "    def update(self,new_s,r,s,a,done):\n",
    "        self.new_a = agent.act(new_state)\n",
    "        mask = 0 if done else 1\n",
    "        s, a, self.new_a, new_s = int(s), int(a), int(self.new_a), int(new_s)\n",
    "        self.Q[s,a] += self.alpha * (r + self.gamma * self.Q[new_s, self.new_a] * mask - self.Q[s,a])\n",
    "        if done and self.epsilon_decay:\n",
    "            self.decay_epsilon(self.epsilon_decay_factor)\n",
    "        return self.new_a"
   ]
  },
  {
   "cell_type": "markdown",
   "metadata": {},
   "source": [
    "# Training an Agent (non-decaying epsilon)"
   ]
  },
  {
   "cell_type": "code",
   "execution_count": 4,
   "metadata": {
    "scrolled": true
   },
   "outputs": [
    {
     "data": {
      "image/png": "[encoded data removed]",
      "text/plain": [
       "<Figure size 432x288 with 1 Axes>"
      ]
     },
     "metadata": {},
     "output_type": "display_data"
    }
   ],
   "source": [
    "env = WindyGridWorld()\n",
    "agent = Agent_Sarsa(env.states_n, env.actions_n,epsilon_decay=False)\n",
    "\n",
    "steps = []\n",
    "returns = []\n",
    "for episode in range(150):\n",
    "    env.reset()\n",
    "    state = env.state\n",
    "    action = agent.act(state)\n",
    "    done = False\n",
    "    step_n = 0\n",
    "    return_episode = 0\n",
    "    while not done:\n",
    "        new_state,reward,done = env.step(action)\n",
    "        return_episode += reward\n",
    "        new_action = agent.update(new_state,reward,state,action,done)\n",
    "        state, action = new_state, new_action\n",
    "        step_n += 1\n",
    "        if done:\n",
    "            steps.append(step_n)\n",
    "            returns.append(return_episode)\n",
    "            clear_output(wait=True)\n",
    "            plt.title(\"Steps:\" + str(step_n) + \" Return:\"+str(return_episode))\n",
    "            plt.plot(list(range(len(steps))),steps)\n",
    "            plt.plot(list(range(len(steps))),returns)\n",
    "            plt.legend([\"Steps\", \"Returns\"])\n",
    "            plt.show()"
   ]
  },
  {
   "cell_type": "markdown",
   "metadata": {},
   "source": [
    "# Watch it After 150 Episodes Training\n",
    "__It still explores.__"
   ]
  },
  {
   "cell_type": "code",
   "execution_count": 5,
   "metadata": {},
   "outputs": [
    {
     "data": {
      "image/png": "[encoded data removed]",
      "text/plain": [
       "<Figure size 432x288 with 1 Axes>"
      ]
     },
     "metadata": {},
     "output_type": "display_data"
    }
   ],
   "source": [
    "for episode in range(3):\n",
    "    env.reset()\n",
    "    state = env.state\n",
    "    action = agent.act(state)\n",
    "    done = False\n",
    "    while not done:\n",
    "        new_state,reward,done = env.step(action)\n",
    "        \n",
    "        new_action = agent.update(new_state, reward,state,action,done)\n",
    "        state, action = new_state, new_action\n",
    "        env.pprint()\n",
    "        sleep(0.1)\n",
    "        clear_output(wait=True)"
   ]
  },
  {
   "cell_type": "markdown",
   "metadata": {},
   "source": [
    "# Training an Agent (decaying epsilon)"
   ]
  },
  {
   "cell_type": "code",
   "execution_count": 6,
   "metadata": {},
   "outputs": [
    {
     "data": {
      "image/png": "[encoded data removed]",
      "text/plain": [
       "<Figure size 432x288 with 1 Axes>"
      ]
     },
     "metadata": {},
     "output_type": "display_data"
    }
   ],
   "source": [
    "env = WindyGridWorld()\n",
    "agent = Agent_Sarsa(env.states_n, env.actions_n,epsilon_decay=True)\n",
    "\n",
    "steps = []\n",
    "returns = []\n",
    "for episode in range(150):\n",
    "    env.reset()\n",
    "    state = env.state\n",
    "    action = agent.act(state)\n",
    "    done = False\n",
    "    step_n = 0\n",
    "    return_episode = 0\n",
    "    while not done:\n",
    "        new_state,reward,done = env.step(action)\n",
    "        return_episode += reward\n",
    "        new_action = agent.update(new_state, reward,state,action,done)\n",
    "        state, action = new_state, new_action\n",
    "        step_n += 1\n",
    "        if done:\n",
    "            steps.append(step_n)\n",
    "            returns.append(return_episode)\n",
    "            clear_output(wait=True)\n",
    "            plt.title(\"Steps:\" + str(step_n) + \" Return:\"+str(return_episode))\n",
    "            plt.plot(list(range(len(steps))),steps)\n",
    "            plt.plot(list(range(len(steps))),returns)\n",
    "            plt.legend([\"Steps\", \"Returns\"])\n",
    "            plt.show()"
   ]
  },
  {
   "cell_type": "markdown",
   "metadata": {},
   "source": [
    "# Watch it After 150 Episodes Training"
   ]
  },
  {
   "cell_type": "code",
   "execution_count": 7,
   "metadata": {},
   "outputs": [
    {
     "data": {
      "image/png": "[encoded data removed]",
      "text/plain": [
       "<Figure size 432x288 with 1 Axes>"
      ]
     },
     "metadata": {},
     "output_type": "display_data"
    },
    {
     "name": "stdout",
     "output_type": "stream",
     "text": [
      "Done in 15 steps.\n",
      "Actions: [0, 0, 0, 0, 0, 0, 0, 0, 0, 3, 3, 3, 3, 1, 1, 0]\n",
      "right, right, right, right, right, right, right, right, right, down, down, down, down, left, left, right, \n"
     ]
    }
   ],
   "source": [
    "for episode in range(3):\n",
    "    env.reset()\n",
    "    state = env.state\n",
    "    action = agent.act(state)\n",
    "    done = False\n",
    "    step = 0\n",
    "    actions = [action]\n",
    "    while not done:\n",
    "        new_state,reward,done = env.step(action)\n",
    "        step += 1\n",
    "        new_action = agent.update(new_state, reward,state,action,done)\n",
    "        actions.append(new_action)\n",
    "        state, action = new_state, new_action\n",
    "        env.pprint()\n",
    "        if done:\n",
    "            print(f\"Done in {step} steps.\")\n",
    "            print(f\"Actions: {actions}\")\n",
    "            for a in actions:\n",
    "                print(env.actions[a], end=\", \")\n",
    "            print()\n",
    "            sleep(10)\n",
    "        sleep(0.1)\n",
    "        clear_output(wait=True)"
   ]
  }
 ],
 "metadata": {
  "kernelspec": {
   "display_name": "Python 3",
   "language": "python",
   "name": "python3"
  },
  "language_info": {
   "codemirror_mode": {
    "name": "ipython",
    "version": 3
   },
   "file_extension": ".py",
   "mimetype": "text/x-python",
   "name": "python",
   "nbconvert_exporter": "python",
   "pygments_lexer": "ipython3",
   "version": "3.6.8"
  }
 },
 "nbformat": 4,
 "nbformat_minor": 2
}
